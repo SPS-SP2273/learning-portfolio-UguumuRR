{
 "cells": [
  {
   "attachments": {},
   "cell_type": "markdown",
   "id": "123456",
   "metadata": {},
   "source": [
    "<div style=\"text-align:left;font-size:2em\"><span style=\"font-weight:bolder;font-size:1.25em\">SP2273 | Learning Portfolio</span><br><br><span style=\"font-weight:bold;color:darkred\">Loops (Need) Exercises</span></div>"
   ]
  },
  {
   "cell_type": "markdown",
   "id": "0776543a-cd6e-4d12-aaa1-8e0e613876fa",
   "metadata": {},
   "source": [
    "# Celcius to Fahrenheit"
   ]
  },
  {
   "cell_type": "code",
   "execution_count": 1,
   "id": "00c878af-9537-4bfc-8b69-814a29d8d9a7",
   "metadata": {},
   "outputs": [
    {
     "name": "stdout",
     "output_type": "stream",
     "text": [
      "0°C is 32.0°F.\n",
      "5°C is 41.0°F.\n",
      "10°C is 50.0°F.\n",
      "15°C is 59.0°F.\n",
      "20°C is 68.0°F.\n",
      "25°C is 77.0°F.\n",
      "30°C is 86.0°F.\n",
      "35°C is 95.0°F.\n",
      "40°C is 104.0°F.\n",
      "45°C is 113.0°F.\n",
      "50°C is 122.0°F.\n"
     ]
    }
   ],
   "source": [
    "temperatures_celsius = [0, 5, 10, 15, 20, 25,30, 35, 40, 45, 50]\n",
    "for i, temp in enumerate(temperatures_celsius):\n",
    "    fahr = temperatures_celsius[i]* 1.8+32 \n",
    "    print(f'{temp}\\N{DEGREE SIGN}C is {fahr}\\N{DEGREE SIGN}F.')"
   ]
  },
  {
   "cell_type": "markdown",
   "id": "8242b088-61ef-4d77-9f60-1c4439381ade",
   "metadata": {},
   "source": [
    "# Multiplication table "
   ]
  },
  {
   "cell_type": "markdown",
   "id": "b101d7a5-230f-48aa-adc1-93f2597cbb45",
   "metadata": {},
   "source": [
    "Write a Python snippet that prints a multiplication table (up to 5) for numbers 1 through 5 using nested for loops. The output should be formatted as shown below:"
   ]
  },
  {
   "cell_type": "markdown",
   "id": "f5d8c821-653f-4585-9cab-44ceab2f57e8",
   "metadata": {},
   "source": [
    "1 : 1   2   3   4   5   \n",
    "2 : 2   4   6   8   10  \n",
    "3 : 3   6   9   12  15  \n",
    "4 : 4   8   12  16  20  \n",
    "5 : 5   10  15  20  25  "
   ]
  },
  {
   "cell_type": "code",
   "execution_count": 23,
   "id": "984c563f-55cd-4dc8-be3d-35b13e3b353c",
   "metadata": {},
   "outputs": [
    {
     "name": "stdout",
     "output_type": "stream",
     "text": [
      "1 : 1   2   3   4   5   \n",
      "2 : 2   4   6   8   10  \n",
      "3 : 3   6   9   12  15  \n",
      "4 : 4   8   12  16  20  \n",
      "5 : 5   10  15  20  25  \n"
     ]
    }
   ],
   "source": [
    "for i in range(1, 6):\n",
    "  row = f\"{i} : \"\n",
    "  for j in range(1, 6):\n",
    "    row += f\"{i * j:<3} \"\n",
    "  print(row)\n",
    "\n"
   ]
  },
  {
   "cell_type": "markdown",
   "id": "5e28c4ca-3d39-4f12-a442-85d1369c2f3f",
   "metadata": {},
   "source": [
    "## Optional "
   ]
  },
  {
   "cell_type": "code",
   "execution_count": 26,
   "id": "acc3cfb0-fdb5-4b1c-8857-ff4cee7336c5",
   "metadata": {},
   "outputs": [
    {
     "name": "stdout",
     "output_type": "stream",
     "text": [
      "[ 32.  41.  50.  59.  68.  77.  86.  95. 104. 113. 122.]\n"
     ]
    }
   ],
   "source": [
    "import numpy as np\n",
    "\n",
    "temperatures_celsius = [0, 5, 10, 15, 20, 25, 30, 35, 40, 45, 50]\n",
    "\n",
    "temperatures_fahrenheit = np.array(temperatures_celsius) * 1.8 + 32\n",
    "\n",
    "print(temperatures_fahrenheit)\n"
   ]
  },
  {
   "cell_type": "code",
   "execution_count": null,
   "id": "88d803be-6465-4828-a138-0c74055a3adc",
   "metadata": {},
   "outputs": [],
   "source": []
  }
 ],
 "metadata": {
  "kernelspec": {
   "display_name": "Python 3 (ipykernel)",
   "language": "python",
   "name": "python3"
  },
  "language_info": {
   "codemirror_mode": {
    "name": "ipython",
    "version": 3
   },
   "file_extension": ".py",
   "mimetype": "text/x-python",
   "name": "python",
   "nbconvert_exporter": "python",
   "pygments_lexer": "ipython3",
   "version": "3.11.5"
  },
  "toc": {
   "base_numbering": 1,
   "nav_menu": {},
   "number_sections": true,
   "sideBar": true,
   "skip_h1_title": false,
   "title_cell": "Table of Contents",
   "title_sidebar": "Contents",
   "toc_cell": false,
   "toc_position": {},
   "toc_section_display": true,
   "toc_window_display": false
  },
  "vscode": {
   "interpreter": {
    "hash": "31f2aee4e71d21fbe5cf8b01ff0e069b9275f58929596ceb00d14d90e3e16cd6"
   }
  }
 },
 "nbformat": 4,
 "nbformat_minor": 5
}
