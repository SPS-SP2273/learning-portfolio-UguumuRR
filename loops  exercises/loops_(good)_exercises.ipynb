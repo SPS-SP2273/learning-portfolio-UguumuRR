{
 "cells": [
  {
   "attachments": {},
   "cell_type": "markdown",
   "id": "123456",
   "metadata": {},
   "source": [
    "<div style=\"text-align:left;font-size:2em\"><span style=\"font-weight:bolder;font-size:1.25em\">SP2273 | Learning Portfolio</span><br><br><span style=\"font-weight:bold;color:darkred\">Loops (Good) Exercises</span></div>"
   ]
  },
  {
   "cell_type": "markdown",
   "id": "5ec3358a-e394-4d37-a6e4-61ed3591dfa0",
   "metadata": {},
   "source": [
    "# Make me an odd list "
   ]
  },
  {
   "cell_type": "code",
   "execution_count": 2,
   "id": "d5cc7c23-305a-4081-ba02-976e9b748098",
   "metadata": {},
   "outputs": [
    {
     "name": "stdout",
     "output_type": "stream",
     "text": [
      "[1, 9, 25, 49, 81]\n"
     ]
    }
   ],
   "source": [
    "squared_values = []\n",
    "for i in range(10):\n",
    "    if i % 2 == 0:\n",
    "        continue\n",
    "    squared_values.append(i ** 2)\n",
    "\n",
    "print(squared_values)"
   ]
  },
  {
   "cell_type": "markdown",
   "id": "05d26e89-ec29-413d-988e-ddd2c224037e",
   "metadata": {},
   "source": [
    "# Make me an odd list using list comprehension "
   ]
  },
  {
   "cell_type": "code",
   "execution_count": 6,
   "id": "c19ed583-f29b-4c0c-8844-7d2ca643d04b",
   "metadata": {},
   "outputs": [
    {
     "data": {
      "text/plain": [
       "[1, 9, 25, 49, 81]"
      ]
     },
     "execution_count": 6,
     "metadata": {},
     "output_type": "execute_result"
    }
   ],
   "source": [
    "[i**2 for i in range(10) if i%2==1]"
   ]
  },
  {
   "cell_type": "markdown",
   "id": "119676fa-f2da-4413-90bd-e68f7eb582ee",
   "metadata": {},
   "source": [
    "# Time it "
   ]
  },
  {
   "cell_type": "code",
   "execution_count": 3,
   "id": "12b9b548-6c55-4d12-9b81-176cca566d02",
   "metadata": {},
   "outputs": [
    {
     "name": "stdout",
     "output_type": "stream",
     "text": [
      "1.41 µs ± 214 ns per loop (mean ± std. dev. of 7 runs, 1,000,000 loops each)\n"
     ]
    }
   ],
   "source": [
    "%timeit [i**2 for i in range(10) if i%2==1] #this is a lot faster. "
   ]
  },
  {
   "cell_type": "code",
   "execution_count": 2,
   "id": "db1c6751-d67b-4a6b-a603-9cb57c5b6943",
   "metadata": {},
   "outputs": [
    {
     "name": "stdout",
     "output_type": "stream",
     "text": [
      "996 ns ± 16.7 ns per loop (mean ± std. dev. of 7 runs, 1,000,000 loops each)\n"
     ]
    }
   ],
   "source": [
    "%%timeit\n",
    "\n",
    "squared_values = []\n",
    "for i in range(10):\n",
    "    if i % 2 == 0:\n",
    "        continue\n",
    "    squared_values.append(i ** 2)"
   ]
  },
  {
   "cell_type": "markdown",
   "id": "c4db647f-82c5-4f53-b36c-7b17ac5af51c",
   "metadata": {},
   "source": [
    "# A problem of decay "
   ]
  },
  {
   "cell_type": "code",
   "execution_count": 28,
   "id": "9e03b907-7291-4965-9481-b9d82a6ee1e4",
   "metadata": {},
   "outputs": [
    {
     "name": "stdout",
     "output_type": "stream",
     "text": [
      "14\n"
     ]
    }
   ],
   "source": [
    "amount = 100 \n",
    "year = 0 \n",
    "while amount > 50:\n",
    "    amount = amount * 0.95 \n",
    "    year += 1 \n",
    "print(year)"
   ]
  },
  {
   "cell_type": "code",
   "execution_count": 38,
   "id": "465e6f24-74e6-4adc-a8ad-6bb375b2ea43",
   "metadata": {},
   "outputs": [
    {
     "name": "stdout",
     "output_type": "stream",
     "text": [
      "It will take 14 years to reduce to half its original amount\n"
     ]
    }
   ],
   "source": [
    "amount = 100 \n",
    "year = 0 \n",
    "while amount > 0:\n",
    "    amount = amount * 0.95 \n",
    "    year += 1 \n",
    "    if amount <= 50: #note to self == will not work because computers cannot compute floats freely\n",
    "        break \n",
    "print(f'It will take {year} years to reduce to half its original amount')"
   ]
  },
  {
   "cell_type": "markdown",
   "id": "d7834f00-d08a-49a0-bbd8-48e4a1ea8585",
   "metadata": {},
   "source": [
    "# Changes in CO2"
   ]
  },
  {
   "cell_type": "code",
   "execution_count": 43,
   "id": "05ad016d-b50b-4fb3-9d7d-858104ba913d",
   "metadata": {},
   "outputs": [
    {
     "name": "stdout",
     "output_type": "stream",
     "text": [
      "Year: 2016, Change in CO2 concentration: 3.41 ppm\n"
     ]
    }
   ],
   "source": [
    "co2_data = [\n",
    "    (2000, 369.55), (2001, 371.14), (2002, 373.28), \n",
    "    (2003, 375.80), (2004, 377.52), (2005, 379.80), \n",
    "    (2006, 381.90), (2007, 383.79), (2008, 385.60), \n",
    "    (2009, 387.43), (2010, 389.90), (2011, 391.65), \n",
    "    (2012, 393.85), (2013, 396.52), (2014, 398.65),\n",
    "    (2015, 400.83), (2016, 404.24), (2017, 406.55), \n",
    "    (2018, 408.52), (2019, 411.44), (2020, 414.24)\n",
    "]\n",
    "\n",
    "previous_year_co2 = None\n",
    "for year, co2_level in co2_data:\n",
    "    if previous_year_co2 is not None:\n",
    "        co2_change = co2_level - previous_year_co2\n",
    "        if co2_change >= 3:\n",
    "            print(f\"Year: {year}, Change in CO2 concentration: {co2_change:.2f} ppm\")\n",
    "    previous_year_co2 = co2_level"
   ]
  },
  {
   "cell_type": "code",
   "execution_count": 4,
   "id": "a1377fbc-aec6-4e67-8c13-f148e238c851",
   "metadata": {},
   "outputs": [
    {
     "name": "stdout",
     "output_type": "stream",
     "text": [
      "Year: 2016, Change in CO2 concentration: 3.41 ppm\n"
     ]
    }
   ],
   "source": [
    "co2_data = [\n",
    "    (2000, 369.55), (2001, 371.14), (2002, 373.28), \n",
    "    (2003, 375.80), (2004, 377.52), (2005, 379.80), \n",
    "    (2006, 381.90), (2007, 383.79), (2008, 385.60), \n",
    "    (2009, 387.43), (2010, 389.90), (2011, 391.65), \n",
    "    (2012, 393.85), (2013, 396.52), (2014, 398.65),\n",
    "    (2015, 400.83), (2016, 404.24), (2017, 406.55), \n",
    "    (2018, 408.52), (2019, 411.44), (2020, 414.24)\n",
    "]\n",
    "\n",
    "for i in range(1, len(co2_data)):\n",
    "    year, co2_level = co2_data[i]\n",
    "    previous_year, previous_co2 = co2_data[i - 1]\n",
    "    co2_change = co2_level - previous_co2\n",
    "    if co2_change >= 3:\n",
    "        print(f\"Year: {year}, Change in CO2 concentration: {co2_change:.2f} ppm\")\n"
   ]
  },
  {
   "cell_type": "code",
   "execution_count": null,
   "id": "ac2a2727-1b3d-4c7b-8197-3f90e1d796d5",
   "metadata": {},
   "outputs": [],
   "source": []
  }
 ],
 "metadata": {
  "kernelspec": {
   "display_name": "Python 3 (ipykernel)",
   "language": "python",
   "name": "python3"
  },
  "language_info": {
   "codemirror_mode": {
    "name": "ipython",
    "version": 3
   },
   "file_extension": ".py",
   "mimetype": "text/x-python",
   "name": "python",
   "nbconvert_exporter": "python",
   "pygments_lexer": "ipython3",
   "version": "3.11.5"
  },
  "toc": {
   "base_numbering": 1,
   "nav_menu": {},
   "number_sections": true,
   "sideBar": true,
   "skip_h1_title": false,
   "title_cell": "Table of Contents",
   "title_sidebar": "Contents",
   "toc_cell": false,
   "toc_position": {},
   "toc_section_display": true,
   "toc_window_display": false
  },
  "vscode": {
   "interpreter": {
    "hash": "31f2aee4e71d21fbe5cf8b01ff0e069b9275f58929596ceb00d14d90e3e16cd6"
   }
  }
 },
 "nbformat": 4,
 "nbformat_minor": 5
}
