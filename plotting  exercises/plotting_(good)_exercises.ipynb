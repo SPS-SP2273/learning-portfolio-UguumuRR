{
 "cells": [
  {
   "attachments": {},
   "cell_type": "markdown",
   "id": "123456",
   "metadata": {},
   "source": [
    "<div style=\"text-align:left;font-size:2em\"><span style=\"font-weight:bolder;font-size:1.25em\">SP2273 | Learning Portfolio</span><br><br><span style=\"font-weight:bold;color:darkred\">Plotting (Good) Exercises</span></div> "
   ]
  },
  {
   "cell_type": "code",
   "execution_count": null,
   "id": "cbfe5fa4-ac35-4c70-97e5-edca9d25f35f",
   "metadata": {},
   "outputs": [],
   "source": [
    "import numpy as np\n",
    "from matplotlib import pyplot as plt\n",
    "#--------- Generate cosine and sine values --------#\n",
    "x = np.linspace(-np.pi, np.pi, num=100, endpoint=True)\n",
    "cos_x = np.cos(x)\n",
    "sin_x = np.sin(x)\n",
    "fun1_x = np.exp(-x) * np.cos(5 * x)\n",
    "fun2_x = np.exp(-x) * np.sin(2 * x)\n",
    "\n",
    "\n",
    "\n",
    "#------- Plot the data -------#\n",
    "fig, axes = plt.subplots(nrows=2, ncols=2,\n",
    "                         figsize=(12, 8),  sharex='col', sharey = 'row')\n",
    "\n",
    "#------- Subplot 1 -------#\n",
    "axes[0, 0].plot(x, cos_x, color='r', label='$\\\\cos x$')\n",
    "axes[0, 0].plot(x, cos_x**2, color='r',\n",
    "                linestyle=':', label='$\\cos^2 x$')\n",
    "axes[0, 0].set_title('$\\cos x$ & $\\cos^2x$')\n",
    "axes[0, 0].set_ylabel('Cosine Value')\n",
    "axes[0, 0].fill_between(x, cos_x, -1.25, color='r', alpha=.125)\n",
    "axes[0, 0].set_ylim(-1.25, 1.25)\n",
    "axes[0, 0].set_xlim(-np.pi, np.pi)\n",
    "axes[0, 0].legend(loc='upper right')\n",
    "\n",
    "#------- Subplot 2 -------#\n",
    "axes[0, 1].plot(x, sin_x, color='g', label='$\\\\sin x$')\n",
    "axes[0, 1].fill_between(x, sin_x, -2, color='g', alpha=.125)\n",
    "axes[0, 1].plot(x, sin_x**2, label='$\\sin^2 x$')\n",
    "axes[0, 1].set_ylim(-1.25, 1.25)\n",
    "axes[0, 1].set_xlim(-np.pi, np.pi)\n",
    "axes[0, 1].legend(loc='upper right')\n",
    "axes[0, 1].set_title('$\\sin x$ & $\\sin^2 x$')\n",
    "\n",
    "\n",
    "\n",
    "#------- Subplot 3 -------#\n",
    "axes[1, 0].plot(x, fun1_x, color='b', label='$\\\\sin 2x$')\n",
    "axes[1, 0].fill_between(x, fun1_x, -25, color='b', alpha=.125)\n",
    "axes[1, 0].set_title('$e^{-x}\\cos 5x$')\n",
    "axes[1, 0].set_ylabel('Cosine Value')\n",
    "axes[1, 0].set_xticks([-np.pi, -np.pi / 2, 0, np.pi / 2, np.pi])\n",
    "axes[1, 0].set_xticklabels(['$-\\pi$', '$-\\pi/2$', '0', '$\\pi/2$', '$\\pi$'])\n",
    "axes[1, 0].set_xlabel('Angle (radians)')\n",
    "axes[1, 0].legend()\n",
    "\n",
    "\n",
    "#------- Subplot 4 -------#\n",
    "axes[1, 1].plot(x, fun2_x, color='y', label='$\\\\sin 2x$')\n",
    "axes[1, 1].set_title('$e^{-x}\\sin 2x$')\n",
    "axes[1, 1].fill_between(x, fun2_x, -25, color='y', alpha=.125)\n",
    "axes[1, 1].set_xticks([-np.pi, -np.pi / 2, 0, np.pi / 2, np.pi])\n",
    "axes[1, 1].set_xticklabels(['$-\\pi$', '$-\\pi/2$', '0', '$\\pi/2$', '$\\pi$'])\n",
    "axes[1, 1].set_xlabel('Angle (radians)')\n",
    "axes[1, 1].legend()\n",
    "\n",
    "\n",
    "# 'flatten', 'opens' the 2D array into a simple 1D array\n",
    "for a in axes.flatten():\n",
    "    a.grid(alpha=.5)\n",
    "\n",
    "\n",
    "plt.tight_layout()\n",
    "plt.savefig('plotted-good.jpg', dpi = 1080)"
   ]
  },
  {
   "cell_type": "code",
   "execution_count": null,
   "id": "d312403c-5cca-4769-ba09-11c267c0f5a4",
   "metadata": {},
   "outputs": [],
   "source": []
  }
 ],
 "metadata": {
  "kernelspec": {
   "display_name": "Python 3 (ipykernel)",
   "language": "python",
   "name": "python3"
  },
  "language_info": {
   "codemirror_mode": {
    "name": "ipython",
    "version": 3
   },
   "file_extension": ".py",
   "mimetype": "text/x-python",
   "name": "python",
   "nbconvert_exporter": "python",
   "pygments_lexer": "ipython3",
   "version": "3.11.5"
  },
  "toc": {
   "base_numbering": 1,
   "nav_menu": {},
   "number_sections": true,
   "sideBar": true,
   "skip_h1_title": false,
   "title_cell": "Table of Contents",
   "title_sidebar": "Contents",
   "toc_cell": false,
   "toc_position": {},
   "toc_section_display": true,
   "toc_window_display": false
  },
  "vscode": {
   "interpreter": {
    "hash": "31f2aee4e71d21fbe5cf8b01ff0e069b9275f58929596ceb00d14d90e3e16cd6"
   }
  }
 },
 "nbformat": 4,
 "nbformat_minor": 5
}
