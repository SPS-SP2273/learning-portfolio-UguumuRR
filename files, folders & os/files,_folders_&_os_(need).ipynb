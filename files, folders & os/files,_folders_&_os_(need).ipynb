{
 "cells": [
  {
   "attachments": {},
   "cell_type": "markdown",
   "id": "123456",
   "metadata": {},
   "source": [
    "<div style=\"text-align:left;font-size:2em\"><span style=\"font-weight:bolder;font-size:1.25em\">SP2273 | Learning Portfolio</span><br><br><span style=\"font-weight:bold;color:darkred\">Files, Folders & OS (Need)</span></div>"
   ]
  },
  {
   "attachments": {},
   "cell_type": "markdown",
   "id": "de5953a3",
   "metadata": {},
   "source": [
    "# Important concepts"
   ]
  },
  {
   "cell_type": "markdown",
   "id": "2dd3a146-e97f-4339-a53d-abd133f4a340",
   "metadata": {},
   "source": [
    "Note: Directory and folder are used interchangeably."
   ]
  },
  {
   "attachments": {},
   "cell_type": "markdown",
   "id": "f0ede21d",
   "metadata": {},
   "source": [
    "## Path"
   ]
  },
  {
   "cell_type": "markdown",
   "id": "d9c8c446-f39e-471a-b569-8120bc407188",
   "metadata": {},
   "source": [
    "__Path__ is a way to specify a location on your computer. It is like an address, and if you follow it, it will take you to your file or folder. \n",
    "Paths can be specified:\n",
    "- absolutely (SPS is located on level 3 of S16.)\n",
    "- relatively (SPS is located one floor above the frontier canteen.)"
   ]
  },
  {
   "cell_type": "code",
   "execution_count": 2,
   "id": "053d8597-09ff-4370-80e7-337d0835b75f",
   "metadata": {},
   "outputs": [
    {
     "name": "stdout",
     "output_type": "stream",
     "text": [
      "C:\\Users\\tsaga\n"
     ]
    }
   ],
   "source": [
    "cd "
   ]
  },
  {
   "attachments": {},
   "cell_type": "markdown",
   "id": "b974aa1a",
   "metadata": {},
   "source": [
    "## More about relative paths"
   ]
  },
  {
   "cell_type": "markdown",
   "id": "307446b5-968c-40d8-ab92-cfdd3df85cda",
   "metadata": {},
   "source": [
    "| Notaton | Meaning |\n",
    "| :--- | :--- |\n",
    "| . | this folder |\n",
    "| .. | one folder above |"
   ]
  },
  {
   "attachments": {},
   "cell_type": "markdown",
   "id": "a3ffd1e7",
   "metadata": {},
   "source": [
    "## Path separator"
   ]
  },
  {
   "cell_type": "markdown",
   "id": "b9ec1fef-3e1f-471b-8e84-b8fa997ceb21",
   "metadata": {},
   "source": [
    "Path separator:\n",
    "- Windows: \\\n",
    "- macOS or Linux: /\n",
    "\n",
    "To make a code sharable on both systems, do not hardcore the path separators. "
   ]
  },
  {
   "attachments": {},
   "cell_type": "markdown",
   "id": "014b5f9f",
   "metadata": {},
   "source": [
    "## Text files vs. Binary files"
   ]
  },
  {
   "cell_type": "markdown",
   "id": "6cd62216-3924-40fe-9d05-ba5b7315c27c",
   "metadata": {},
   "source": [
    "All files on a computer can be thought as either a text file or a binary file. \n",
    "\n",
    "Text files are simple, and can be opened and examined by almost all software. Examples of text file formats are .txt, .md, . csv.\n",
    "\n",
    "Binary files require some processing. For example, the Excel.app on a Mac wil not run on Windows, nor will the Excel.exe file run on macOS or Linux. Speed and size are some reasons for using a binary file.\n"
   ]
  },
  {
   "attachments": {},
   "cell_type": "markdown",
   "id": "52177eb1",
   "metadata": {},
   "source": [
    "## Extensions"
   ]
  },
  {
   "cell_type": "markdown",
   "id": "27e8cbe0-fe1f-405e-883d-b2aeee088db9",
   "metadata": {},
   "source": [
    "Files are usually named to end with an extension separated from the name by a . like name.extension. The extension lets the OS know what software or app to use to extract the information in the file. For example, a .xlsx means use Excel or .pptx means use PowerPoint. "
   ]
  },
  {
   "attachments": {},
   "cell_type": "markdown",
   "id": "de6ce26b",
   "metadata": {},
   "source": [
    "# Opening and closing files"
   ]
  },
  {
   "cell_type": "markdown",
   "id": "9f2a6807-884b-4e79-bfe0-6939cee910a3",
   "metadata": {},
   "source": [
    "with statement is called a context manager."
   ]
  },
  {
   "attachments": {},
   "cell_type": "markdown",
   "id": "ef13ac22",
   "metadata": {},
   "source": [
    "## Reading data"
   ]
  },
  {
   "cell_type": "code",
   "execution_count": 5,
   "id": "0da6ccb3-9d96-4543-ab82-37ef8da08def",
   "metadata": {},
   "outputs": [
    {
     "name": "stdout",
     "output_type": "stream",
     "text": [
      "Light Intensity, Ch A vs Actual Angular Position, Run #4\n",
      "Actual Angular Position (  )\tLight Intensity, Ch A ( % max )\n",
      "0.000\t-0.2\n",
      "0.000\t-0.1\n",
      "0.000\t-0.1\n",
      "0.000\t-0.1\n",
      "0.000\t-0.1\n",
      "0.000\t-0.2\n",
      "0.000\t-0.1\n",
      "0.000\t-0.1\n",
      "0.000\t-0.1\n",
      "0.000\t-0.2\n",
      "0.000\t-0.1\n",
      "0.000\t-0.1\n",
      "0.000\t-0.2\n",
      "0.000\t-0.3\n",
      "0.000\t-0.2\n",
      "0.000\t-0.2\n",
      "0.001\t-0.1\n",
      "0.001\t-0.1\n",
      "0.001\t-0.1\n",
      "0.001\t-0.1\n",
      "0.001\t-0.1\n",
      "0.001\t-0.1\n",
      "0.004\t-0.1\n",
      "0.010\t-0.2\n",
      "0.018\t-0.2\n",
      "0.024\t-0.3\n",
      "0.029\t-0.3\n",
      "0.033\t-0.3\n",
      "0.036\t-0.2\n",
      "0.039\t-0.1\n",
      "0.043\t-0.1\n",
      "0.047\t-0.1\n",
      "0.053\t-0.1\n",
      "0.060\t-0.1\n",
      "0.066\t-0.1\n",
      "0.069\t-0.1\n",
      "0.073\t-0.1\n",
      "0.076\t-0.1\n",
      "0.079\t-0.1\n",
      "0.081\t-0.1\n",
      "0.082\t-0.1\n",
      "0.083\t-0.2\n",
      "0.083\t-0.2\n",
      "0.086\t-0.2\n",
      "0.090\t-0.2\n",
      "0.095\t-0.2\n",
      "0.100\t-0.3\n",
      "0.103\t-0.3\n",
      "0.104\t-0.2\n",
      "0.105\t-0.3\n",
      "0.107\t-0.2\n",
      "0.110\t-0.2\n",
      "0.115\t-0.1\n",
      "0.122\t-0.2\n",
      "0.128\t-0.1\n",
      "0.134\t-0.2\n",
      "0.139\t-0.1\n",
      "0.144\t-0.2\n",
      "0.150\t-0.2\n",
      "0.157\t-0.2\n",
      "0.164\t-0.2\n",
      "0.170\t-0.3\n",
      "0.175\t-0.3\n",
      "0.180\t-0.2\n",
      "0.185\t-0.2\n",
      "0.191\t-0.1\n",
      "0.195\t-0.1\n",
      "0.198\t-0.2\n",
      "0.201\t-0.1\n",
      "0.204\t-0.2\n",
      "0.206\t-0.2\n",
      "0.208\t-0.3\n",
      "0.210\t-0.3\n",
      "0.213\t-0.1\n",
      "0.217\t0.3\n",
      "0.222\t0.6\n",
      "0.226\t0.2\n",
      "0.230\t0.0\n",
      "0.233\t-0.1\n",
      "0.235\t-0.1\n",
      "0.237\t-0.1\n",
      "0.237\t-0.1\n",
      "0.238\t-0.1\n",
      "0.241\t-0.1\n",
      "0.245\t-0.1\n",
      "0.249\t-0.1\n",
      "0.252\t-0.1\n",
      "0.254\t-0.2\n",
      "0.257\t-0.2\n",
      "0.260\t-0.2\n",
      "0.263\t-0.3\n",
      "0.266\t-0.3\n",
      "0.269\t-0.2\n",
      "0.271\t-0.1\n",
      "0.274\t-0.1\n",
      "0.277\t-0.2\n",
      "0.279\t-0.1\n",
      "0.282\t-0.2\n",
      "0.285\t-0.1\n",
      "0.289\t-0.2\n",
      "0.292\t-0.2\n",
      "0.297\t-0.3\n",
      "0.300\t-0.2\n",
      "0.304\t-0.1\n",
      "0.307\t-0.1\n",
      "0.310\t-0.2\n",
      "0.312\t-0.1\n",
      "0.316\t-0.1\n",
      "0.320\t-0.2\n",
      "0.325\t-0.3\n",
      "0.330\t-0.2\n",
      "0.334\t-0.1\n",
      "0.336\t-0.1\n",
      "0.338\t-0.1\n",
      "0.340\t-0.1\n",
      "0.343\t-0.1\n",
      "0.346\t-0.2\n",
      "0.349\t-0.3\n",
      "0.353\t-0.1\n",
      "0.357\t-0.1\n",
      "0.362\t-0.1\n",
      "0.367\t-0.2\n",
      "0.369\t-0.1\n",
      "0.371\t-0.2\n",
      "0.371\t-0.1\n",
      "0.372\t-0.2\n",
      "0.372\t-0.2\n",
      "0.372\t-0.1\n",
      "0.373\t-0.2\n",
      "0.374\t-0.1\n",
      "0.376\t-0.2\n",
      "0.378\t-0.1\n",
      "0.380\t-0.2\n",
      "0.382\t-0.2\n",
      "0.384\t-0.2\n",
      "0.385\t-0.2\n",
      "0.386\t-0.2\n",
      "0.387\t-0.2\n",
      "0.389\t-0.3\n",
      "0.391\t-0.3\n",
      "0.394\t-0.2\n",
      "0.398\t-0.1\n",
      "0.401\t-0.1\n",
      "0.404\t-0.1\n",
      "0.405\t-0.1\n",
      "0.406\t-0.1\n",
      "0.408\t-0.1\n",
      "0.411\t-0.1\n",
      "0.414\t-0.2\n",
      "0.417\t-0.1\n",
      "0.420\t-0.2\n",
      "0.423\t-0.1\n",
      "0.425\t-0.2\n",
      "0.427\t-0.1\n",
      "0.430\t-0.1\n",
      "0.433\t-0.1\n",
      "0.437\t-0.2\n",
      "0.440\t-0.2\n",
      "0.443\t-0.1\n",
      "0.446\t-0.1\n",
      "0.449\t-0.1\n",
      "0.453\t-0.1\n",
      "0.458\t-0.1\n",
      "0.462\t-0.2\n",
      "0.466\t-0.2\n",
      "0.469\t-0.2\n",
      "0.472\t-0.3\n",
      "0.474\t-0.3\n",
      "0.477\t-0.2\n",
      "0.481\t-0.1\n",
      "0.486\t-0.1\n",
      "0.490\t-0.1\n",
      "0.493\t-0.1\n",
      "0.496\t0.0\n",
      "0.498\t0.0\n",
      "0.501\t-0.1\n",
      "0.503\t-0.1\n",
      "0.505\t-0.2\n",
      "0.507\t-0.3\n",
      "0.510\t-0.1\n",
      "0.513\t-0.1\n",
      "0.516\t-0.1\n",
      "0.519\t-0.1\n",
      "0.523\t-0.1\n",
      "0.526\t-0.1\n",
      "0.529\t-0.1\n",
      "0.533\t-0.1\n",
      "0.537\t-0.1\n",
      "0.541\t-0.2\n",
      "0.544\t-0.1\n",
      "0.547\t-0.1\n",
      "0.549\t-0.1\n",
      "0.551\t-0.1\n",
      "0.554\t-0.1\n",
      "0.557\t-0.1\n",
      "0.561\t-0.1\n",
      "0.564\t-0.1\n",
      "0.568\t-0.2\n",
      "0.572\t-0.2\n",
      "0.577\t-0.2\n",
      "0.581\t-0.1\n",
      "0.586\t0.0\n",
      "0.588\t0.0\n",
      "0.590\t-0.1\n",
      "0.592\t-0.1\n",
      "0.593\t-0.2\n",
      "0.596\t-0.2\n",
      "0.599\t-0.2\n",
      "0.602\t-0.2\n",
      "0.605\t-0.2\n",
      "0.606\t-0.2\n",
      "0.607\t-0.2\n",
      "0.609\t-0.1\n",
      "0.610\t-0.1\n",
      "0.613\t0.0\n",
      "0.615\t0.0\n",
      "0.617\t-0.1\n",
      "0.619\t-0.1\n",
      "0.622\t-0.2\n",
      "0.624\t-0.1\n",
      "0.626\t0.0\n",
      "0.629\t0.1\n",
      "0.632\t0.1\n",
      "0.634\t0.0\n",
      "0.637\t0.0\n",
      "0.639\t0.0\n",
      "0.641\t0.0\n",
      "0.643\t0.0\n",
      "0.645\t0.0\n",
      "0.648\t0.0\n",
      "0.650\t0.0\n",
      "0.653\t0.0\n",
      "0.656\t0.0\n",
      "0.658\t-0.1\n",
      "0.661\t-0.2\n",
      "0.663\t0.0\n",
      "0.666\t0.0\n",
      "0.670\t0.0\n",
      "0.676\t0.0\n",
      "0.680\t0.0\n",
      "0.684\t0.0\n",
      "0.686\t0.1\n",
      "0.686\t0.1\n",
      "0.687\t0.0\n",
      "0.689\t0.0\n",
      "0.693\t0.1\n",
      "0.697\t0.3\n",
      "0.701\t0.5\n",
      "0.703\t1.2\n",
      "0.705\t7.1\n",
      "0.707\t23.7\n",
      "0.709\t51.4\n",
      "0.710\t61.3\n",
      "0.712\t48.9\n",
      "0.714\t25.8\n",
      "0.715\t12.1\n",
      "0.717\t4.6\n",
      "0.718\t1.8\n",
      "0.721\t0.7\n",
      "0.723\t0.5\n",
      "0.724\t0.4\n",
      "0.726\t0.4\n",
      "0.727\t0.4\n",
      "0.728\t0.3\n",
      "0.730\t0.2\n",
      "0.732\t0.2\n",
      "0.735\t0.1\n",
      "0.737\t0.2\n",
      "0.740\t0.2\n",
      "0.742\t0.2\n",
      "0.744\t0.1\n",
      "0.746\t0.1\n",
      "0.748\t0.1\n",
      "0.749\t0.1\n",
      "0.750\t0.0\n",
      "0.752\t0.0\n",
      "0.754\t0.1\n",
      "0.756\t0.1\n",
      "0.758\t0.1\n",
      "0.761\t0.1\n",
      "0.764\t0.0\n",
      "0.766\t-0.1\n",
      "0.768\t-0.1\n",
      "0.770\t-0.1\n",
      "0.772\t0.0\n",
      "0.774\t0.0\n",
      "0.777\t0.0\n",
      "0.779\t0.0\n",
      "0.780\t0.0\n",
      "0.782\t0.0\n",
      "0.784\t-0.1\n",
      "0.785\t0.0\n",
      "0.787\t0.0\n",
      "0.789\t0.0\n",
      "0.791\t0.0\n",
      "0.793\t0.0\n",
      "0.795\t0.0\n",
      "0.797\t-0.1\n",
      "0.800\t0.0\n",
      "0.804\t0.0\n",
      "0.806\t0.0\n",
      "0.809\t0.0\n",
      "0.811\t0.1\n",
      "0.813\t0.9\n",
      "0.815\t3.0\n",
      "0.817\t5.9\n",
      "0.819\t6.6\n",
      "0.821\t4.0\n",
      "0.823\t1.3\n",
      "0.826\t0.2\n",
      "0.828\t0.1\n",
      "0.831\t0.1\n",
      "0.833\t0.1\n",
      "0.836\t0.1\n",
      "0.838\t0.1\n",
      "0.840\t0.1\n",
      "0.843\t0.1\n",
      "0.847\t0.2\n",
      "0.850\t1.0\n",
      "0.854\t0.8\n",
      "0.856\t0.3\n",
      "0.858\t0.1\n",
      "0.860\t0.0\n",
      "0.862\t0.1\n",
      "0.864\t0.1\n",
      "0.866\t0.2\n",
      "0.869\t0.2\n",
      "0.872\t0.1\n",
      "0.875\t0.1\n",
      "0.878\t0.1\n",
      "0.881\t0.1\n",
      "0.884\t0.1\n",
      "0.887\t0.1\n",
      "0.890\t0.0\n",
      "0.893\t0.1\n",
      "0.896\t0.0\n",
      "0.898\t0.1\n",
      "0.901\t0.0\n",
      "0.903\t0.0\n",
      "0.907\t0.0\n",
      "0.910\t0.0\n",
      "0.913\t0.0\n",
      "0.916\t0.0\n",
      "0.919\t0.0\n",
      "0.922\t0.0\n",
      "0.925\t0.0\n",
      "0.929\t0.0\n",
      "0.932\t0.0\n",
      "0.935\t0.0\n",
      "0.938\t0.0\n",
      "0.940\t0.0\n",
      "0.941\t0.0\n",
      "0.942\t0.0\n",
      "0.944\t0.0\n",
      "0.947\t0.0\n",
      "0.950\t0.0\n",
      "0.951\t0.0\n",
      "0.952\t0.0\n",
      "0.953\t0.0\n",
      "0.955\t0.0\n",
      "0.957\t0.0\n",
      "0.959\t0.0\n",
      "0.961\t0.0\n",
      "0.963\t0.0\n",
      "0.965\t0.0\n",
      "0.968\t0.0\n",
      "0.971\t0.0\n",
      "0.973\t0.1\n",
      "0.976\t0.1\n",
      "0.978\t0.0\n",
      "0.980\t0.1\n",
      "0.982\t0.1\n",
      "0.983\t0.0\n",
      "0.984\t0.0\n",
      "0.986\t0.1\n",
      "0.987\t0.0\n",
      "0.989\t0.1\n",
      "0.991\t0.1\n",
      "0.993\t0.1\n",
      "0.995\t0.1\n",
      "0.998\t0.1\n",
      "1.001\t0.1\n",
      "1.004\t0.2\n",
      "1.007\t0.2\n",
      "1.010\t0.1\n",
      "1.013\t0.1\n",
      "1.015\t0.1\n",
      "1.018\t0.1\n",
      "1.021\t0.1\n",
      "1.023\t0.1\n",
      "1.026\t0.1\n",
      "1.028\t0.2\n",
      "1.030\t0.3\n",
      "1.032\t0.3\n",
      "1.034\t0.3\n",
      "1.036\t0.4\n",
      "1.038\t0.4\n",
      "1.040\t0.4\n",
      "1.042\t0.5\n",
      "1.044\t0.5\n",
      "1.047\t0.5\n",
      "1.050\t0.6\n",
      "1.053\t0.7\n",
      "1.055\t0.7\n",
      "1.057\t0.8\n",
      "1.058\t0.9\n",
      "1.060\t1.0\n",
      "1.062\t1.2\n",
      "1.065\t1.3\n",
      "1.068\t1.4\n",
      "1.070\t1.3\n",
      "1.072\t1.3\n",
      "1.074\t1.3\n",
      "1.077\t1.4\n",
      "1.079\t1.6\n",
      "1.081\t1.8\n",
      "1.084\t2.1\n",
      "1.086\t2.4\n",
      "1.088\t2.7\n",
      "1.089\t3.2\n",
      "1.091\t3.8\n",
      "1.093\t4.5\n",
      "1.096\t5.4\n",
      "1.098\t6.7\n",
      "1.101\t8.8\n",
      "1.104\t13.1\n",
      "1.107\t97.1\n",
      "1.112\t97.0\n",
      "1.117\t97.0\n",
      "1.122\t45.6\n",
      "1.125\t11.9\n",
      "1.129\t9.1\n",
      "1.131\t7.6\n",
      "1.133\t7.0\n",
      "1.134\t6.3\n",
      "1.136\t5.9\n",
      "1.138\t5.3\n",
      "1.140\t4.8\n",
      "1.142\t4.2\n",
      "1.144\t3.5\n",
      "1.147\t3.0\n",
      "1.149\t2.6\n",
      "1.152\t2.2\n",
      "1.156\t2.1\n",
      "1.159\t1.8\n",
      "1.162\t1.7\n",
      "1.165\t1.5\n",
      "1.167\t1.4\n",
      "1.170\t1.2\n",
      "1.172\t1.2\n",
      "1.174\t0.9\n",
      "1.177\t0.8\n",
      "1.179\t0.6\n",
      "1.182\t0.4\n",
      "1.184\t0.3\n",
      "1.187\t0.3\n",
      "1.190\t0.2\n",
      "1.192\t0.2\n",
      "1.193\t0.2\n",
      "1.194\t0.2\n",
      "1.194\t0.2\n",
      "1.196\t0.2\n",
      "1.198\t0.2\n",
      "1.201\t0.1\n",
      "1.204\t0.1\n",
      "1.207\t0.1\n",
      "1.211\t0.1\n",
      "1.215\t0.1\n",
      "1.218\t0.0\n",
      "1.222\t0.1\n",
      "1.226\t0.0\n",
      "1.229\t0.0\n",
      "1.231\t-0.1\n",
      "1.234\t0.0\n",
      "1.237\t-0.1\n",
      "1.240\t0.0\n",
      "1.244\t0.0\n",
      "1.247\t0.0\n",
      "1.250\t0.0\n",
      "1.253\t0.0\n",
      "1.255\t0.0\n",
      "1.257\t0.0\n",
      "1.260\t0.0\n",
      "1.263\t0.0\n",
      "1.265\t0.0\n",
      "1.266\t0.0\n",
      "1.268\t0.0\n",
      "1.269\t0.0\n",
      "1.270\t0.0\n",
      "1.271\t0.0\n",
      "1.273\t0.0\n",
      "1.275\t0.0\n",
      "1.277\t0.0\n",
      "1.278\t0.0\n",
      "1.280\t0.0\n",
      "1.281\t0.0\n",
      "1.283\t0.0\n",
      "1.285\t0.0\n",
      "1.286\t0.0\n",
      "1.287\t0.0\n",
      "1.287\t0.0\n",
      "1.288\t-0.1\n",
      "1.289\t-0.1\n",
      "1.290\t-0.1\n",
      "1.291\t-0.2\n",
      "1.292\t-0.2\n",
      "1.292\t-0.2\n",
      "1.293\t-0.1\n",
      "1.294\t0.0\n",
      "1.295\t0.0\n",
      "1.296\t-0.1\n",
      "1.297\t-0.1\n",
      "1.298\t-0.1\n",
      "1.299\t0.0\n",
      "1.300\t0.0\n",
      "1.301\t0.0\n",
      "1.302\t-0.1\n",
      "1.303\t-0.1\n",
      "1.304\t0.0\n",
      "1.306\t-0.1\n",
      "1.306\t-0.1\n",
      "1.308\t-0.1\n",
      "1.309\t-0.1\n",
      "1.311\t-0.2\n",
      "1.312\t-0.2\n",
      "1.313\t-0.2\n",
      "1.314\t-0.1\n",
      "1.316\t0.0\n",
      "1.317\t0.0\n",
      "1.318\t-0.1\n",
      "1.319\t-0.1\n",
      "1.319\t0.0\n",
      "1.320\t0.0\n",
      "1.322\t-0.1\n",
      "1.323\t-0.1\n",
      "1.325\t-0.1\n",
      "1.327\t-0.1\n",
      "1.329\t0.0\n",
      "1.332\t-0.1\n",
      "1.334\t-0.1\n",
      "1.335\t-0.1\n",
      "1.336\t-0.1\n",
      "1.338\t-0.1\n",
      "1.340\t0.0\n",
      "1.341\t-0.1\n",
      "1.343\t0.0\n",
      "1.344\t-0.1\n",
      "1.345\t-0.2\n",
      "1.347\t0.0\n",
      "1.348\t0.0\n",
      "1.349\t0.0\n",
      "1.351\t0.0\n",
      "1.352\t0.0\n",
      "1.353\t0.0\n",
      "1.354\t0.0\n",
      "1.356\t0.0\n",
      "1.358\t0.0\n",
      "1.359\t0.0\n",
      "1.361\t0.0\n",
      "1.363\t0.0\n",
      "1.366\t0.1\n",
      "1.368\t0.1\n",
      "1.369\t0.0\n",
      "1.370\t0.0\n",
      "1.371\t0.0\n",
      "1.372\t0.0\n",
      "1.373\t0.0\n",
      "1.374\t0.0\n",
      "1.376\t0.0\n",
      "1.378\t0.1\n",
      "1.380\t0.3\n",
      "1.380\t0.5\n",
      "1.380\t0.5\n",
      "1.382\t0.4\n",
      "1.384\t0.3\n",
      "1.386\t0.1\n",
      "1.386\t0.0\n",
      "1.386\t0.0\n",
      "1.388\t0.0\n",
      "1.389\t-0.1\n",
      "1.389\t0.0\n",
      "1.389\t-0.1\n",
      "1.389\t-0.1\n",
      "1.389\t-0.2\n",
      "1.390\t0.0\n",
      "1.391\t0.0\n",
      "1.393\t0.0\n",
      "1.396\t0.0\n",
      "1.398\t0.0\n",
      "1.400\t0.0\n",
      "1.401\t0.0\n",
      "1.402\t0.0\n",
      "1.404\t0.0\n",
      "1.405\t0.0\n",
      "1.406\t0.1\n",
      "1.408\t0.7\n",
      "1.409\t2.0\n",
      "1.411\t3.2\n",
      "1.413\t3.8\n",
      "1.415\t2.4\n",
      "1.418\t0.7\n",
      "1.420\t0.1\n",
      "1.423\t0.0\n",
      "1.425\t0.0\n",
      "1.428\t0.0\n",
      "1.430\t0.0\n",
      "1.432\t0.0\n",
      "1.433\t0.0\n",
      "1.435\t0.0\n",
      "1.436\t-0.1\n",
      "1.437\t-0.1\n",
      "1.439\t-0.2\n",
      "1.441\t0.0\n",
      "1.443\t0.0\n",
      "1.445\t0.0\n",
      "1.448\t0.0\n",
      "1.449\t0.0\n",
      "1.451\t0.0\n",
      "1.453\t0.0\n",
      "1.454\t0.0\n",
      "1.456\t0.0\n",
      "1.457\t0.0\n",
      "1.459\t0.0\n",
      "1.461\t0.0\n",
      "1.463\t0.0\n",
      "1.465\t-0.1\n",
      "1.467\t-0.1\n",
      "1.468\t-0.1\n",
      "1.470\t0.0\n",
      "1.472\t0.0\n",
      "1.473\t0.0\n",
      "1.476\t0.0\n",
      "1.478\t0.0\n",
      "1.480\t0.0\n",
      "1.483\t0.0\n",
      "1.486\t0.0\n",
      "1.489\t0.0\n",
      "1.492\t0.0\n",
      "1.495\t0.0\n",
      "1.499\t0.0\n",
      "1.502\t0.1\n",
      "1.507\t0.1\n",
      "1.510\t0.2\n",
      "1.513\t0.3\n",
      "1.515\t0.5\n",
      "1.518\t5.8\n",
      "1.521\t28.1\n",
      "1.525\t36.1\n",
      "1.528\t10.0\n",
      "1.531\t1.3\n",
      "1.533\t0.4\n",
      "1.535\t0.3\n",
      "1.537\t0.2\n",
      "1.540\t0.2\n",
      "1.543\t0.1\n",
      "1.546\t0.1\n",
      "1.550\t0.0\n",
      "1.553\t0.0\n",
      "1.556\t-0.1\n",
      "1.559\t-0.1\n",
      "1.562\t0.0\n",
      "1.565\t0.0\n",
      "1.569\t0.0\n",
      "1.572\t0.0\n",
      "1.575\t0.0\n",
      "1.577\t0.0\n",
      "1.581\t-0.2\n",
      "1.585\t-0.2\n",
      "1.589\t-0.1\n",
      "1.593\t0.0\n",
      "1.596\t-0.1\n",
      "1.597\t-0.1\n",
      "1.598\t-0.1\n",
      "1.599\t-0.1\n",
      "1.601\t-0.1\n",
      "1.602\t0.0\n",
      "1.603\t0.0\n",
      "1.606\t0.0\n",
      "1.611\t-0.2\n",
      "1.616\t-0.3\n",
      "1.623\t-0.2\n",
      "1.628\t-0.1\n",
      "1.633\t-0.1\n",
      "1.639\t-0.1\n",
      "1.644\t-0.1\n",
      "1.649\t-0.1\n",
      "1.654\t0.0\n",
      "1.658\t-0.1\n",
      "1.663\t-0.1\n",
      "1.667\t-0.1\n",
      "1.671\t-0.1\n",
      "1.675\t-0.1\n",
      "1.679\t-0.3\n",
      "1.684\t-0.2\n",
      "1.688\t-0.1\n",
      "1.693\t-0.1\n",
      "1.696\t-0.1\n",
      "1.700\t-0.1\n",
      "1.704\t-0.1\n",
      "1.707\t-0.1\n",
      "1.710\t-0.1\n",
      "1.712\t-0.1\n",
      "1.714\t-0.1\n",
      "1.717\t-0.1\n",
      "1.721\t-0.1\n",
      "1.726\t-0.1\n",
      "1.731\t-0.1\n",
      "1.734\t-0.1\n",
      "1.737\t-0.1\n",
      "1.739\t-0.1\n",
      "1.742\t-0.1\n",
      "1.745\t0.0\n",
      "1.749\t0.2\n",
      "1.752\t0.1\n",
      "1.756\t-0.1\n",
      "1.759\t-0.1\n",
      "1.762\t-0.1\n",
      "1.767\t-0.1\n",
      "1.772\t-0.3\n",
      "1.777\t-0.3\n",
      "1.783\t-0.2\n",
      "1.787\t-0.1\n",
      "1.792\t-0.2\n",
      "1.796\t-0.3\n",
      "1.800\t-0.2\n",
      "1.803\t-0.2\n",
      "1.808\t-0.2\n",
      "1.812\t-0.2\n",
      "1.818\t-0.1\n",
      "1.823\t-0.1\n",
      "1.828\t-0.1\n",
      "1.835\t-0.1\n",
      "1.844\t-0.1\n",
      "1.852\t-0.2\n",
      "1.859\t-0.1\n",
      "1.865\t-0.2\n",
      "1.870\t-0.1\n",
      "1.873\t-0.2\n",
      "1.874\t-0.2\n",
      "1.875\t-0.2\n",
      "1.877\t-0.2\n",
      "1.880\t-0.2\n",
      "1.883\t-0.2\n",
      "1.887\t-0.2\n",
      "1.892\t-0.3\n",
      "1.895\t-0.3\n",
      "1.898\t-0.2\n",
      "1.903\t-0.2\n",
      "1.907\t-0.2\n",
      "1.912\t-0.1\n",
      "1.918\t-0.1\n",
      "1.923\t-0.2\n",
      "1.929\t-0.2\n",
      "1.934\t-0.1\n",
      "1.940\t-0.1\n",
      "1.944\t-0.2\n",
      "1.948\t-0.2\n",
      "1.952\t-0.2\n",
      "1.955\t-0.2\n",
      "1.960\t-0.2\n",
      "1.966\t-0.2\n",
      "1.971\t-0.2\n",
      "1.975\t-0.1\n",
      "1.979\t-0.2\n",
      "1.985\t-0.3\n",
      "1.990\t-0.2\n",
      "1.997\t-0.1\n",
      "2.002\t-0.1\n",
      "2.007\t-0.2\n",
      "2.012\t-0.1\n",
      "2.017\t-0.2\n",
      "2.022\t-0.1\n",
      "2.027\t-0.2\n",
      "2.034\t-0.1\n",
      "2.041\t-0.1\n",
      "2.048\t1.1\n",
      "2.053\t1.6\n",
      "2.057\t0.7\n",
      "2.060\t0.1\n",
      "2.064\t0.0\n",
      "2.068\t-0.1\n",
      "2.073\t-0.1\n",
      "2.079\t-0.1\n",
      "2.086\t-0.1\n",
      "2.094\t-0.1\n",
      "2.100\t-0.2\n",
      "2.105\t-0.1\n",
      "2.109\t-0.1\n",
      "2.111\t-0.1\n",
      "2.115\t-0.2\n",
      "2.120\t-0.2\n",
      "2.124\t-0.1\n",
      "2.128\t-0.2\n",
      "2.131\t-0.1\n",
      "2.134\t-0.2\n",
      "2.135\t-0.1\n",
      "2.138\t-0.1\n",
      "2.140\t-0.1\n",
      "2.144\t-0.1\n",
      "2.148\t-0.1\n",
      "2.153\t-0.2\n",
      "2.158\t-0.2\n",
      "2.162\t-0.2\n",
      "2.166\t-0.2\n",
      "2.170\t-0.2\n",
      "2.175\t-0.2\n",
      "2.179\t-0.2\n",
      "2.183\t-0.1\n",
      "2.187\t-0.2\n",
      "2.191\t-0.2\n",
      "2.194\t-0.2\n",
      "2.197\t-0.2\n",
      "2.200\t-0.2\n",
      "2.203\t-0.2\n",
      "2.207\t-0.2\n",
      "2.211\t-0.1\n",
      "2.215\t-0.2\n",
      "2.219\t-0.2\n",
      "2.222\t-0.1\n",
      "2.224\t-0.2\n",
      "2.225\t-0.2\n",
      "2.225\t-0.2\n",
      "2.225\t-0.2\n",
      "2.225\t-0.3\n",
      "2.225\t-0.2\n",
      "2.225\t-0.3\n",
      "2.225\t-0.3\n",
      "2.225\t-0.3\n",
      "2.225\t-0.2\n",
      "2.225\t-0.1\n",
      "2.225\t-0.1\n",
      "2.225\t-0.1\n",
      "2.225\t-0.1\n",
      "2.225\t-0.1\n",
      "2.225\t-0.1\n",
      "2.225\t-0.2\n",
      "2.225\t-0.1\n",
      "2.225\t-0.1\n",
      "2.225\t-0.2\n",
      "2.225\t-0.1\n",
      "2.225\t-0.1\n",
      "2.225\t-0.1\n",
      "2.225\t-0.2\n",
      "2.225\t-0.2\n",
      "2.225\t-0.2\n",
      "2.225\t-0.1\n",
      "2.225\t-0.1\n",
      "2.225\t-0.2\n",
      "2.224\t-0.2\n",
      "2.224\t-0.2\n",
      "2.224\t-0.2\n",
      "2.224\t-0.2\n",
      "2.224\t-0.2\n",
      "2.224\t-0.2\n",
      "2.224\t-0.2\n",
      "2.224\t-0.3\n",
      "2.224\t-0.3\n",
      "2.224\t-0.2\n",
      "2.224\t-0.3\n",
      "2.224\t-0.3\n",
      "2.224\t-0.2\n",
      "2.224\t-0.3\n",
      "2.224\t-0.3\n",
      "2.224\t-0.3\n",
      "2.224\t-0.1\n",
      "2.224\t-0.2\n",
      "2.224\t-0.2\n",
      "2.224\t-0.2\n",
      "2.224\t-0.1\n",
      "2.224\t-0.1\n",
      "2.224\t-0.2\n",
      "2.224\t-0.2\n",
      "2.224\t-0.2\n",
      "2.224\t-0.2\n",
      "2.224\t-0.1\n",
      "2.224\t-0.1\n",
      "2.224\t-0.2\n",
      "2.224\t-0.2\n",
      "2.224\t-0.2\n",
      "2.224\t-0.2\n",
      "2.224\t-0.3\n",
      "2.224\t-0.2\n",
      "2.224\t-0.1\n",
      "2.224\t-0.1\n",
      "2.224\t-0.2\n",
      "2.224\t-0.2\n",
      "2.224\t-0.2\n",
      "2.224\t-0.2\n",
      "2.224\t-0.1\n",
      "2.224\t-0.2\n",
      "2.224\t-0.2\n",
      "2.224\t-0.2\n",
      "2.224\t-0.1\n",
      "2.224\t-0.2\n",
      "2.224\t-0.1\n",
      "2.224\t-0.2\n",
      "2.224\t-0.2\n",
      "2.224\t-0.2\n",
      "2.224\t-0.2\n",
      "2.224\t-0.2\n",
      "2.224\t-0.2\n",
      "2.224\t-0.2\n",
      "2.224\t-0.2\n",
      "2.224\t-0.2\n",
      "2.224\t-0.2\n",
      "2.224\t-0.2\n",
      "2.224\t-0.2\n",
      "2.224\t-0.2\n",
      "2.224\t-0.2\n",
      "2.224\t-0.2\n",
      "2.224\t-0.2\n",
      "2.224\t-0.3\n",
      "2.224\t-0.3\n",
      "2.224\t-0.3\n",
      "2.224\t-0.3\n",
      "2.224\t-0.3\n",
      "\n"
     ]
    }
   ],
   "source": [
    "with open('spectrum-01.txt', 'r') as file: \n",
    "    file_content = file.read()      #open() opens the file, 'r' specifies only reading. \n",
    "print(file_content)                                              #Using with frees you from worrying about closing the file after you are done. "
   ]
  },
  {
   "attachments": {},
   "cell_type": "markdown",
   "id": "729e59a6",
   "metadata": {},
   "source": [
    "## Writing data"
   ]
  },
  {
   "cell_type": "code",
   "execution_count": null,
   "id": "45c8d935-fe4d-4f3b-abad-aae071184ece",
   "metadata": {},
   "outputs": [],
   "source": [
    "text = 'I am exhausted.'"
   ]
  },
  {
   "attachments": {},
   "cell_type": "markdown",
   "id": "3dcc20e9",
   "metadata": {},
   "source": [
    "### Writing to a file in one go"
   ]
  },
  {
   "cell_type": "code",
   "execution_count": 1,
   "id": "13ddda95",
   "metadata": {},
   "outputs": [
    {
     "name": "stdout",
     "output_type": "stream",
     "text": [
      " Volume in drive C is Windows \n",
      " Volume Serial Number is 5E41-F12E\n",
      "\n",
      " Directory of C:\\Users\\tsaga\\Uguumur\\Desktop\\learning-portfolio-UguumuRR\\files, folders & os\n",
      "\n",
      "02/11/2024  02:48 PM    <DIR>          .\n",
      "02/16/2024  04:24 PM    <DIR>          ..\n",
      "02/11/2024  11:51 AM    <DIR>          .ipynb_checkpoints\n",
      "02/11/2024  02:48 PM            43,826 files,_folders_&_os_(need).ipynb\n",
      "02/11/2024  01:44 PM                15 my-text-lines.txt\n",
      "02/17/2024  01:27 PM                15 my-text-once.txt\n",
      "02/11/2024  02:03 PM           942,939 sp2273_logo.png\n",
      "02/11/2024  12:15 PM            10,713 spectrum-01.txt\n",
      "02/11/2024  02:47 PM    <DIR>          weekdays\n",
      "               5 File(s)        997,508 bytes\n",
      "               4 Dir(s)  113,845,424,128 bytes free\n"
     ]
    }
   ],
   "source": [
    "text = 'I am exhausted.'\n",
    "with open('my-text-once.txt', 'w') as file: #w indicates opening to write .\n",
    "    file.write(text)\n",
    "!dir "
   ]
  },
  {
   "attachments": {},
   "cell_type": "markdown",
   "id": "7eaad22d",
   "metadata": {},
   "source": [
    "### Writing to a file, line by line"
   ]
  },
  {
   "cell_type": "code",
   "execution_count": 2,
   "id": "c6e4a2be",
   "metadata": {},
   "outputs": [
    {
     "name": "stdout",
     "output_type": "stream",
     "text": [
      " Volume in drive C is Windows \n",
      " Volume Serial Number is 5E41-F12E\n",
      "\n",
      " Directory of C:\\Users\\tsaga\\Uguumur\\Desktop\\learning-portfolio-UguumuRR\\files, folders & os\n",
      "\n",
      "02/11/2024  02:48 PM    <DIR>          .\n",
      "02/16/2024  04:24 PM    <DIR>          ..\n",
      "02/11/2024  11:51 AM    <DIR>          .ipynb_checkpoints\n",
      "02/11/2024  02:48 PM            43,826 files,_folders_&_os_(need).ipynb\n",
      "02/17/2024  01:27 PM                15 my-text-lines.txt\n",
      "02/17/2024  01:27 PM                15 my-text-once.txt\n",
      "02/11/2024  02:03 PM           942,939 sp2273_logo.png\n",
      "02/11/2024  12:15 PM            10,713 spectrum-01.txt\n",
      "02/11/2024  02:47 PM    <DIR>          weekdays\n",
      "               5 File(s)        997,508 bytes\n",
      "               4 Dir(s)  113,845,350,400 bytes free\n"
     ]
    }
   ],
   "source": [
    "#Writing a line at a time is useful when dealing with data generated on the fly. \n",
    "with open('my-text-lines.txt', 'w') as file: \n",
    "    for line in text.splitlines():\n",
    "        file.writelines(line)\n",
    "!dir\n"
   ]
  },
  {
   "attachments": {},
   "cell_type": "markdown",
   "id": "ef39260c",
   "metadata": {},
   "source": [
    "# Some useful packages"
   ]
  },
  {
   "cell_type": "markdown",
   "id": "c0b2850b-1ca2-4744-923a-2b017e0db3cc",
   "metadata": {},
   "source": [
    "| Package | Primary use |\n",
    "| :--- | :--- |\n",
    "| os | To talk to the OS to create, modify, delete folders and write OS-agnostic code. |\n",
    "| glob | To search for files. |\n",
    "| shutil | To copy files. | \n"
   ]
  },
  {
   "cell_type": "code",
   "execution_count": 11,
   "id": "12b6ea2f-20d7-4c03-a882-ecfd644a9a97",
   "metadata": {},
   "outputs": [],
   "source": [
    "import os \n",
    "import glob \n",
    "import shutil "
   ]
  },
  {
   "attachments": {},
   "cell_type": "markdown",
   "id": "43b4250e",
   "metadata": {},
   "source": [
    "# OS safe paths"
   ]
  },
  {
   "cell_type": "markdown",
   "id": "05521909-15b5-4303-9876-35062cb2c0b2",
   "metadata": {},
   "source": [
    "Consider a file data-01.txt in the sub-directory sg-data of the directory all-data.\n",
    "\n",
    "all-data --> sg-data --> data-01.txt\n",
    "\n",
    "If I want to access data-01.txt all I have to do is:"
   ]
  },
  {
   "cell_type": "code",
   "execution_count": 12,
   "id": "b6c84a9e-da7f-4718-a079-6f477c8cfafb",
   "metadata": {},
   "outputs": [
    {
     "name": "stdout",
     "output_type": "stream",
     "text": [
      ".\\all-data\\sg-data\\data-01.txt\n"
     ]
    }
   ],
   "source": [
    "path = os.path.join('.', 'all-data', 'sg-data', 'data-01.txt')\n",
    "print(path)"
   ]
  },
  {
   "attachments": {},
   "cell_type": "markdown",
   "id": "653ceda9",
   "metadata": {},
   "source": [
    "# Folders"
   ]
  },
  {
   "attachments": {},
   "cell_type": "markdown",
   "id": "57c3626b",
   "metadata": {},
   "source": [
    "## Creating folders"
   ]
  },
  {
   "cell_type": "markdown",
   "id": "8aed62db-a80a-46ce-bd2d-6d658f08bbc4",
   "metadata": {},
   "source": [
    "To create a folder programmatically, use __os.mkdir()__. "
   ]
  },
  {
   "cell_type": "code",
   "execution_count": 14,
   "id": "f42a78b8-dfe1-4ec8-9086-2374709dc5c7",
   "metadata": {},
   "outputs": [
    {
     "name": "stdout",
     "output_type": "stream",
     "text": [
      "Creating weekdays\\Monday\n",
      "Creating weekdays\\Tuesday\n",
      "Creating weekdays\\Wednesday\n",
      " Volume in drive C is Windows \n",
      " Volume Serial Number is 5E41-F12E\n",
      "\n",
      " Directory of C:\\Users\\tsaga\\Uguumur\\Desktop\\learning-portfolio-UguumuRR\\files, folders & os\n",
      "\n",
      "02/11/2024  01:54 PM    <DIR>          .\n",
      "02/11/2024  12:30 PM    <DIR>          ..\n",
      "02/11/2024  11:51 AM    <DIR>          .ipynb_checkpoints\n",
      "02/11/2024  01:54 PM            33,788 files,_folders_&_os_(need).ipynb\n",
      "02/11/2024  01:44 PM                15 my-text-lines.txt\n",
      "02/11/2024  12:34 PM                15 my-text-once.txt\n",
      "02/11/2024  12:15 PM            10,713 spectrum-01.txt\n",
      "02/11/2024  01:54 PM    <DIR>          weekdays\n",
      "               4 File(s)         44,531 bytes\n",
      "               4 Dir(s)  110,919,884,800 bytes free\n"
     ]
    }
   ],
   "source": [
    "os.mkdir('weekdays')\n",
    "\n",
    "for day in ['Monday', 'Tuesday', 'Wednesday']:\n",
    "    path = os.path.join('weekdays', day)\n",
    "    print(f'Creating {path}')\n",
    "    os.mkdir(path)\n",
    "!dir"
   ]
  },
  {
   "attachments": {},
   "cell_type": "markdown",
   "id": "5ae57c85",
   "metadata": {},
   "source": [
    "##  Checking for existence"
   ]
  },
  {
   "cell_type": "markdown",
   "id": "b4fedb8e-5b83-4981-b5f3-dca4ab5420fc",
   "metadata": {},
   "source": [
    "To check if a file already exists: "
   ]
  },
  {
   "attachments": {},
   "cell_type": "markdown",
   "id": "d768550d",
   "metadata": {},
   "source": [
    "### Using try-except"
   ]
  },
  {
   "cell_type": "code",
   "execution_count": 15,
   "id": "ccc15454",
   "metadata": {},
   "outputs": [
    {
     "name": "stdout",
     "output_type": "stream",
     "text": [
      "weekdays\\Monday already exists; skipping recreation.\n",
      "weekdays\\Tuesday already exists; skipping recreation.\n",
      "weekdays\\Wednesday already exists; skipping recreation.\n"
     ]
    }
   ],
   "source": [
    "for day in ['Monday', 'Tuesday', 'Wednesday']:\n",
    "    path = os.path.join('weekdays', day)\n",
    "    try: \n",
    "        os.mkdir(path)\n",
    "        print(f'Creating {path}')\n",
    "    except FileExistsError:\n",
    "        print(f'{path} already exists; skipping recreation.')"
   ]
  },
  {
   "attachments": {},
   "cell_type": "markdown",
   "id": "4c024ec1",
   "metadata": {},
   "source": [
    "### Using os.path.exists()"
   ]
  },
  {
   "cell_type": "code",
   "execution_count": 16,
   "id": "8869bcc2",
   "metadata": {},
   "outputs": [
    {
     "name": "stdout",
     "output_type": "stream",
     "text": [
      "weekdays\\Monday already exists; skipping recreation.\n",
      "weekdays\\Tuesday already exists; skipping recreation.\n",
      "weekdays\\Wednesday already exists; skipping recreation.\n"
     ]
    }
   ],
   "source": [
    "for day in ['Monday', 'Tuesday', 'Wednesday']:\n",
    "    path = os.path.join('weekdays', day)\n",
    "    if os.path.exists(path):\n",
    "        print(f'{path} already exists; skipping recreation.')\n",
    "    else:\n",
    "        os.mkdir(path)\n",
    "        print(f'Creating {path}')"
   ]
  },
  {
   "attachments": {},
   "cell_type": "markdown",
   "id": "ec8a0569",
   "metadata": {},
   "source": [
    "## Copying files"
   ]
  },
  {
   "cell_type": "code",
   "execution_count": 3,
   "id": "39dc9793-0ca3-4419-bfea-404a54de8a91",
   "metadata": {},
   "outputs": [
    {
     "ename": "NameError",
     "evalue": "name 'os' is not defined",
     "output_type": "error",
     "traceback": [
      "\u001b[1;31m---------------------------------------------------------------------------\u001b[0m",
      "\u001b[1;31mNameError\u001b[0m                                 Traceback (most recent call last)",
      "Cell \u001b[1;32mIn[3], line 2\u001b[0m\n\u001b[0;32m      1\u001b[0m \u001b[38;5;28;01mfor\u001b[39;00m day \u001b[38;5;129;01min\u001b[39;00m [\u001b[38;5;124m'\u001b[39m\u001b[38;5;124mMonday\u001b[39m\u001b[38;5;124m'\u001b[39m, \u001b[38;5;124m'\u001b[39m\u001b[38;5;124mTuesday\u001b[39m\u001b[38;5;124m'\u001b[39m, \u001b[38;5;124m'\u001b[39m\u001b[38;5;124mWednesday\u001b[39m\u001b[38;5;124m'\u001b[39m]:\n\u001b[1;32m----> 2\u001b[0m     path_to_destination \u001b[38;5;241m=\u001b[39m \u001b[43mos\u001b[49m\u001b[38;5;241m.\u001b[39mpath\u001b[38;5;241m.\u001b[39mjoin(\u001b[38;5;124m'\u001b[39m\u001b[38;5;124mweekdays\u001b[39m\u001b[38;5;124m'\u001b[39m, day)\n\u001b[0;32m      3\u001b[0m     shutil\u001b[38;5;241m.\u001b[39mcopy(\u001b[38;5;124m'\u001b[39m\u001b[38;5;124msp2273_logo.png\u001b[39m\u001b[38;5;124m'\u001b[39m, path_to_destination)\n\u001b[0;32m      4\u001b[0m     \u001b[38;5;28mprint\u001b[39m(\u001b[38;5;124mf\u001b[39m\u001b[38;5;124m'\u001b[39m\u001b[38;5;124mCopied file to \u001b[39m\u001b[38;5;132;01m{\u001b[39;00mpath_to_destination\u001b[38;5;132;01m}\u001b[39;00m\u001b[38;5;124m'\u001b[39m)\n",
      "\u001b[1;31mNameError\u001b[0m: name 'os' is not defined"
     ]
    }
   ],
   "source": [
    "for day in ['Monday', 'Tuesday', 'Wednesday']:\n",
    "    path_to_destination = os.path.join('weekdays', day)\n",
    "    shutil.copy('sp2273_logo.png', path_to_destination)\n",
    "    print(f'Copied file to {path_to_destination}')"
   ]
  },
  {
   "cell_type": "code",
   "execution_count": null,
   "id": "8536548a-0a8f-4178-9f52-4bacaae1d871",
   "metadata": {},
   "outputs": [],
   "source": [
    "#To create a folder with all the images in each day's directory, create a folder and then move the logo file into the folder. \n",
    "for day in ['Monday', 'Tuesday', 'Wednesday']:\n",
    "        #Create folder in 'imgs'\n",
    "    path_to_imgs = os.path.join('weekdays', day, 'imgs')\n",
    "    if not os.path.exists(path_to_imgs):\n",
    "        os.mkdir(path_to_imgs)\n",
    "    #Move logo file \n",
    "    current_path_of_logo = os.path.join('weekdays', day, 'sp2273_logo.png' )\n",
    "    new_path_of_logo = os.path.join('weekdays', day, 'imgs','sp2273_logo.png')\n",
    "    shutil.move(current_path_of_logo, new_path_of_logo)\n",
    "    print(f'Moved logo to {new_path_of_logo}')"
   ]
  },
  {
   "attachments": {},
   "cell_type": "markdown",
   "id": "84c88541",
   "metadata": {},
   "source": [
    "# Listing and looking for files"
   ]
  },
  {
   "cell_type": "markdown",
   "id": "3539df0b-160e-4b66-a29c-f4fdc7ec2ccf",
   "metadata": {},
   "source": [
    "If you want to know what files are in a folder, __glob__ does it. "
   ]
  },
  {
   "cell_type": "code",
   "execution_count": 19,
   "id": "1f2fe463-2898-4e06-a18e-2a031c60025e",
   "metadata": {},
   "outputs": [
    {
     "data": {
      "text/plain": [
       "['files,_folders_&_os_(need).ipynb',\n",
       " 'my-text-lines.txt',\n",
       " 'my-text-once.txt',\n",
       " 'sp2273_logo.png',\n",
       " 'spectrum-01.txt',\n",
       " 'weekdays']"
      ]
     },
     "execution_count": 19,
     "metadata": {},
     "output_type": "execute_result"
    }
   ],
   "source": [
    "glob.glob('*') #* is called a wildcard, and means anything. Thus it will give anything in the folder"
   ]
  },
  {
   "cell_type": "code",
   "execution_count": 21,
   "id": "022d10a5-01a8-4f9a-827c-3eca11a67c92",
   "metadata": {},
   "outputs": [
    {
     "data": {
      "text/plain": [
       "['weekdays']"
      ]
     },
     "execution_count": 21,
     "metadata": {},
     "output_type": "execute_result"
    }
   ],
   "source": [
    "glob.glob('wee*') #only those that match the pattern peo followed by anything. "
   ]
  },
  {
   "cell_type": "code",
   "execution_count": 24,
   "id": "0673e486-fb07-42f8-b3ec-bdcbdbd39684",
   "metadata": {},
   "outputs": [
    {
     "data": {
      "text/plain": [
       "['weekdays\\\\Monday']"
      ]
     },
     "execution_count": 24,
     "metadata": {},
     "output_type": "execute_result"
    }
   ],
   "source": [
    "glob.glob('wee*/M*') #inside that starts with M"
   ]
  },
  {
   "cell_type": "code",
   "execution_count": 25,
   "id": "57bd3674-2ae5-4338-9870-9ab756ac1df1",
   "metadata": {},
   "outputs": [
    {
     "data": {
      "text/plain": [
       "['weekdays\\\\',\n",
       " 'weekdays\\\\Monday',\n",
       " 'weekdays\\\\Monday\\\\imgs',\n",
       " 'weekdays\\\\Monday\\\\imgs\\\\sp2273_logo.png',\n",
       " 'weekdays\\\\Tuesday',\n",
       " 'weekdays\\\\Tuesday\\\\imgs',\n",
       " 'weekdays\\\\Tuesday\\\\imgs\\\\sp2273_logo.png',\n",
       " 'weekdays\\\\Wednesday',\n",
       " 'weekdays\\\\Wednesday\\\\imgs',\n",
       " 'weekdays\\\\Wednesday\\\\imgs\\\\sp2273_logo.png']"
      ]
     },
     "execution_count": 25,
     "metadata": {},
     "output_type": "execute_result"
    }
   ],
   "source": [
    "glob.glob('weekdays/**', recursive = True) # the whole detailed structure of the folder. By putting recursive = True, it wil search through all\n",
    "                                           # the sub-file directories. ** to say all sub-directories. "
   ]
  },
  {
   "cell_type": "code",
   "execution_count": 28,
   "id": "74373912-6368-4574-9938-f83ea4f8fa6d",
   "metadata": {},
   "outputs": [
    {
     "data": {
      "text/plain": [
       "['weekdays\\\\Monday\\\\imgs\\\\sp2273_logo.png',\n",
       " 'weekdays\\\\Tuesday\\\\imgs\\\\sp2273_logo.png',\n",
       " 'weekdays\\\\Wednesday\\\\imgs\\\\sp2273_logo.png']"
      ]
     },
     "execution_count": 28,
     "metadata": {},
     "output_type": "execute_result"
    }
   ],
   "source": [
    "glob.glob('weekdays/**/*.png', recursive = True) # Only the png files. "
   ]
  },
  {
   "attachments": {},
   "cell_type": "markdown",
   "id": "331840ba",
   "metadata": {},
   "source": [
    "# Extracting file info"
   ]
  },
  {
   "cell_type": "code",
   "execution_count": 30,
   "id": "384b5b66-c69a-4df9-ad65-feabecd11b3b",
   "metadata": {},
   "outputs": [
    {
     "name": "stdout",
     "output_type": "stream",
     "text": [
      "weekdays/Monday/imgs/sp2273_logo.png png\n"
     ]
    }
   ],
   "source": [
    "path = 'weekdays/Monday/imgs/sp2273_logo.png'\n",
    "filename = path.split(os.path.sep)[-1]\n",
    "extension = filename.split('.')[-1]\n",
    "print(filename, extension)"
   ]
  },
  {
   "cell_type": "code",
   "execution_count": 31,
   "id": "fada13e8-db35-457f-924d-e20ffdaff347",
   "metadata": {},
   "outputs": [
    {
     "data": {
      "text/plain": [
       "('weekdays/Monday/imgs', 'sp2273_logo.png')"
      ]
     },
     "execution_count": 31,
     "metadata": {},
     "output_type": "execute_result"
    }
   ],
   "source": [
    "path = 'weekdays/Monday/imgs/sp2273_logo.png' \n",
    "os.path.split(path) #Split filename from the rest"
   ]
  },
  {
   "cell_type": "code",
   "execution_count": 32,
   "id": "15e3f964-d3f6-42a4-a991-8d1389953024",
   "metadata": {},
   "outputs": [
    {
     "data": {
      "text/plain": [
       "('weekdays/Monday/imgs/sp2273_logo', '.png')"
      ]
     },
     "execution_count": 32,
     "metadata": {},
     "output_type": "execute_result"
    }
   ],
   "source": [
    "os.path.splitext(path) #Split extension "
   ]
  },
  {
   "cell_type": "code",
   "execution_count": 33,
   "id": "ec9b44cb-8c65-42c9-8832-d42a146f01d2",
   "metadata": {},
   "outputs": [
    {
     "data": {
      "text/plain": [
       "'weekdays/Monday/imgs'"
      ]
     },
     "execution_count": 33,
     "metadata": {},
     "output_type": "execute_result"
    }
   ],
   "source": [
    "os.path.dirname(path) #show the directory"
   ]
  },
  {
   "attachments": {},
   "cell_type": "markdown",
   "id": "79b0d9d9",
   "metadata": {},
   "source": [
    "# Deleting stuff"
   ]
  },
  {
   "cell_type": "code",
   "execution_count": 35,
   "id": "1c0758ff-150c-493c-9f5b-f745214e032d",
   "metadata": {},
   "outputs": [],
   "source": [
    "#To remove a file\n",
    "os.remove('weekdays/Tuesday/imgs/sp2273_logo.png')"
   ]
  },
  {
   "cell_type": "code",
   "execution_count": 38,
   "id": "334b9cf2-7c2d-447b-9fd5-811e6b3ad364",
   "metadata": {},
   "outputs": [
    {
     "data": {
      "text/plain": [
       "[]"
      ]
     },
     "execution_count": 38,
     "metadata": {},
     "output_type": "execute_result"
    }
   ],
   "source": [
    "glob.glob('wee*/Tuesday/imgs/**')"
   ]
  },
  {
   "cell_type": "code",
   "execution_count": 41,
   "id": "8f4d8814-ea8a-48b1-bf7b-713501cd303d",
   "metadata": {},
   "outputs": [],
   "source": [
    "#For empty directory:\n",
    "os.rmdir('weekdays/Tuesday/imgs')"
   ]
  },
  {
   "cell_type": "code",
   "execution_count": 42,
   "id": "73488b96-89e0-411c-aceb-a03a84152829",
   "metadata": {},
   "outputs": [],
   "source": [
    "#For a directory with files:\n",
    "shutil.rmtree('weekdays/Tuesday')\n"
   ]
  },
  {
   "cell_type": "markdown",
   "id": "a0afd896-6cb1-48e9-967f-6c25f40c1cda",
   "metadata": {},
   "source": [
    "Note: BE REALLY CAREFUL WHEN DELETING!"
   ]
  }
 ],
 "metadata": {
  "kernelspec": {
   "display_name": "Python 3 (ipykernel)",
   "language": "python",
   "name": "python3"
  },
  "language_info": {
   "codemirror_mode": {
    "name": "ipython",
    "version": 3
   },
   "file_extension": ".py",
   "mimetype": "text/x-python",
   "name": "python",
   "nbconvert_exporter": "python",
   "pygments_lexer": "ipython3",
   "version": "3.11.5"
  },
  "toc": {
   "base_numbering": 1,
   "nav_menu": {},
   "number_sections": true,
   "sideBar": true,
   "skip_h1_title": false,
   "title_cell": "Table of Contents",
   "title_sidebar": "Contents",
   "toc_cell": false,
   "toc_position": {},
   "toc_section_display": true,
   "toc_window_display": false
  },
  "vscode": {
   "interpreter": {
    "hash": "31f2aee4e71d21fbe5cf8b01ff0e069b9275f58929596ceb00d14d90e3e16cd6"
   }
  }
 },
 "nbformat": 4,
 "nbformat_minor": 5
}
