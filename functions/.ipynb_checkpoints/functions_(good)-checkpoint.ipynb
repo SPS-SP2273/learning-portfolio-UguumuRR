{
 "cells": [
  {
   "attachments": {},
   "cell_type": "markdown",
   "id": "123456",
   "metadata": {},
   "source": [
    "<div style=\"text-align:left;font-size:2em\"><span style=\"font-weight:bolder;font-size:1.25em\">SP2273 | Learning Portfolio</span><br><br><span style=\"font-weight:bold;color:darkred\">Functions (Good)</span></div>"
   ]
  },
  {
   "attachments": {},
   "cell_type": "markdown",
   "id": "eaa7c242",
   "metadata": {},
   "source": [
    "# Checks, balances, and contingencies"
   ]
  },
  {
   "attachments": {},
   "cell_type": "markdown",
   "id": "acfb492d",
   "metadata": {},
   "source": [
    "## assert"
   ]
  },
  {
   "cell_type": "markdown",
   "id": "4c91cbf8-4793-4814-b834-cb8ff4c0b60c",
   "metadata": {},
   "source": [
    "The basic syntax: \n",
    "\n",
    "__assert__ condition-to-check, message #assert stops the flow if the condition fails. "
   ]
  },
  {
   "cell_type": "code",
   "execution_count": 2,
   "id": "813ca973-f8bf-41c4-bcd5-0101645440c1",
   "metadata": {},
   "outputs": [],
   "source": [
    "x = 1\n",
    "assert x >= 0"
   ]
  },
  {
   "cell_type": "code",
   "execution_count": 4,
   "id": "69ffd398-f503-4ef9-88f0-44f08bdb7cb2",
   "metadata": {},
   "outputs": [
    {
     "ename": "AssertionError",
     "evalue": "",
     "output_type": "error",
     "traceback": [
      "\u001b[1;31m---------------------------------------------------------------------------\u001b[0m",
      "\u001b[1;31mAssertionError\u001b[0m                            Traceback (most recent call last)",
      "Cell \u001b[1;32mIn[4], line 2\u001b[0m\n\u001b[0;32m      1\u001b[0m x \u001b[38;5;241m=\u001b[39m \u001b[38;5;241m-\u001b[39m\u001b[38;5;241m1\u001b[39m \n\u001b[1;32m----> 2\u001b[0m \u001b[38;5;28;01massert\u001b[39;00m x \u001b[38;5;241m>\u001b[39m\u001b[38;5;241m=\u001b[39m \u001b[38;5;241m0\u001b[39m\n",
      "\u001b[1;31mAssertionError\u001b[0m: "
     ]
    }
   ],
   "source": [
    "x = -1 \n",
    "assert x >= 0"
   ]
  },
  {
   "attachments": {},
   "cell_type": "markdown",
   "id": "5e422665",
   "metadata": {},
   "source": [
    "## try-except"
   ]
  },
  {
   "cell_type": "markdown",
   "id": "48044bc0-ddc0-4151-b6b9-b011ea017c30",
   "metadata": {},
   "source": [
    "Exceptions is a technical name for things going wrong. "
   ]
  },
  {
   "cell_type": "code",
   "execution_count": 2,
   "id": "78b4e506-36d7-4703-8e27-ebf88eefb3e7",
   "metadata": {},
   "outputs": [
    {
     "name": "stdin",
     "output_type": "stream",
     "text": [
      "Enter a number hi\n"
     ]
    },
    {
     "name": "stdout",
     "output_type": "stream",
     "text": [
      "Please enter a number\n"
     ]
    }
   ],
   "source": [
    "try: \n",
    "    number = input('Enter a number')\n",
    "    square = int(number)**2\n",
    "    print(square)\n",
    "except: \n",
    "    print('Please enter a number')"
   ]
  },
  {
   "attachments": {},
   "cell_type": "markdown",
   "id": "6d29e63c",
   "metadata": {},
   "source": [
    "## A simple suggestion"
   ]
  },
  {
   "cell_type": "markdown",
   "id": "40426077-4037-462d-bb48-724132692044",
   "metadata": {},
   "source": [
    "To not get too lost in your own code, throw a few print() statements here and there. "
   ]
  },
  {
   "attachments": {},
   "cell_type": "markdown",
   "id": "24abe588",
   "metadata": {},
   "source": [
    "# Some loose ends"
   ]
  },
  {
   "attachments": {},
   "cell_type": "markdown",
   "id": "2e571575",
   "metadata": {},
   "source": [
    "## Positional, keyword and default arguments"
   ]
  },
  {
   "cell_type": "code",
   "execution_count": 3,
   "id": "feb87546-927b-4e9f-9867-4cccfca271d2",
   "metadata": {},
   "outputs": [],
   "source": [
    "def side_by_side(a, b, c = 42):\n",
    "    return f'{a: 2d} |{b: 2d} |{c: 2d} '"
   ]
  },
  {
   "cell_type": "code",
   "execution_count": 4,
   "id": "42cb362c-f656-48b4-b0f9-c0706be6a0dd",
   "metadata": {},
   "outputs": [
    {
     "data": {
      "text/plain": [
       "' 1 | 2 | 3 '"
      ]
     },
     "execution_count": 4,
     "metadata": {},
     "output_type": "execute_result"
    }
   ],
   "source": [
    "#Positional \n",
    "side_by_side(1, 2, 3) "
   ]
  },
  {
   "cell_type": "code",
   "execution_count": 5,
   "id": "614e8bb3-dafc-445d-8288-9b7fdd0b3782",
   "metadata": {},
   "outputs": [
    {
     "data": {
      "text/plain": [
       "' 2 | 1 | 3 '"
      ]
     },
     "execution_count": 5,
     "metadata": {},
     "output_type": "execute_result"
    }
   ],
   "source": [
    "#Keywords\n",
    "side_by_side(c = 3, a = 2, b = 1)  #The order doesn't matter. "
   ]
  },
  {
   "cell_type": "code",
   "execution_count": 6,
   "id": "c95794ba-d3bd-4d4b-9c2d-f885f6b5760c",
   "metadata": {},
   "outputs": [
    {
     "ename": "SyntaxError",
     "evalue": "positional argument follows keyword argument (2871967860.py, line 2)",
     "output_type": "error",
     "traceback": [
      "\u001b[1;36m  Cell \u001b[1;32mIn[6], line 2\u001b[1;36m\u001b[0m\n\u001b[1;33m    side_by_side(b = 2, 1)\u001b[0m\n\u001b[1;37m                         ^\u001b[0m\n\u001b[1;31mSyntaxError\u001b[0m\u001b[1;31m:\u001b[0m positional argument follows keyword argument\n"
     ]
    }
   ],
   "source": [
    "side_by_side(b = 2, 1)"
   ]
  },
  {
   "cell_type": "code",
   "execution_count": 7,
   "id": "62a4e8e8-ccc9-4ef5-bff1-407e7500725f",
   "metadata": {},
   "outputs": [
    {
     "data": {
      "text/plain": [
       "' 1 | 2 | 42 '"
      ]
     },
     "execution_count": 7,
     "metadata": {},
     "output_type": "execute_result"
    }
   ],
   "source": [
    "#Default \n",
    "side_by_side(1, b = 2)"
   ]
  },
  {
   "attachments": {},
   "cell_type": "markdown",
   "id": "d96f24b1",
   "metadata": {},
   "source": [
    "## Docstrings"
   ]
  },
  {
   "cell_type": "markdown",
   "id": "ac1e7fcd-0247-4645-914b-57ce35792a77",
   "metadata": {},
   "source": [
    "Docstring documents what a function does inside the function. This is displayed when we ask Python to show us the help info using help()."
   ]
  },
  {
   "cell_type": "code",
   "execution_count": 14,
   "id": "d3e9163c-f46d-4e99-aeb5-a2f98fb1780c",
   "metadata": {},
   "outputs": [
    {
     "name": "stdout",
     "output_type": "stream",
     "text": [
      "Help on function side_by_side in module __main__:\n",
      "\n",
      "side_by_side(a, b, c=42)\n",
      "    A test function to demonstrate how positional, keyword, and default arguments work.\n",
      "\n"
     ]
    }
   ],
   "source": [
    "def side_by_side(a, b, c = 42): #A docstirng must be sandwiched between a pair of \"\"\" or '''\n",
    "    '''\n",
    "    A test function to demonstrate how positional, keyword, and default arguments work. \n",
    "    '''\n",
    "    return f'{a: 2d} | {b: 2d}| {c: 2d}'\n",
    "help(side_by_side)"
   ]
  },
  {
   "attachments": {},
   "cell_type": "markdown",
   "id": "8fbaf47c",
   "metadata": {},
   "source": [
    "## Function are first-class citizens"
   ]
  },
  {
   "cell_type": "markdown",
   "id": "b26fb2e9-ed07-4ac8-9c09-e8d0d1c2d3bc",
   "metadata": {},
   "source": [
    "Functions have the same privileges as variables. This allows us to pass a function as an argument to another function. "
   ]
  },
  {
   "attachments": {},
   "cell_type": "markdown",
   "id": "774e45ed",
   "metadata": {},
   "source": [
    "## More about unpacking"
   ]
  },
  {
   "cell_type": "code",
   "execution_count": 16,
   "id": "99ff75f9-4238-42a6-9616-64e7157bc937",
   "metadata": {},
   "outputs": [
    {
     "data": {
      "text/plain": [
       "(1, 2, 3)"
      ]
     },
     "execution_count": 16,
     "metadata": {},
     "output_type": "execute_result"
    }
   ],
   "source": [
    "x, y, z = [1, 2, 3]\n",
    "x, y, z"
   ]
  },
  {
   "cell_type": "code",
   "execution_count": 17,
   "id": "ad0aa041-8a54-4c4a-bf40-470fbf6d052e",
   "metadata": {},
   "outputs": [
    {
     "data": {
      "text/plain": [
       "(1, 2, 3)"
      ]
     },
     "execution_count": 17,
     "metadata": {},
     "output_type": "execute_result"
    }
   ],
   "source": [
    "import numpy as np \n",
    "x, y, z = np.array([1, 2, 3])\n",
    "x, y, z"
   ]
  },
  {
   "cell_type": "code",
   "execution_count": 18,
   "id": "6231d83d-8640-4f81-b72a-282fea3aafee",
   "metadata": {},
   "outputs": [
    {
     "data": {
      "text/plain": [
       "(1, [2, 3, 4], 5)"
      ]
     },
     "execution_count": 18,
     "metadata": {},
     "output_type": "execute_result"
    }
   ],
   "source": [
    "x, *y, z = np.array([1, 2, 3, 4, 5])\n",
    "x, y, z"
   ]
  },
  {
   "cell_type": "code",
   "execution_count": 20,
   "id": "7696b089-83c1-4fca-9325-27b570730e24",
   "metadata": {},
   "outputs": [
    {
     "data": {
      "text/plain": [
       "(1, 5)"
      ]
     },
     "execution_count": 20,
     "metadata": {},
     "output_type": "execute_result"
    }
   ],
   "source": [
    "x, *_, z = np.array([1, 2, 3, 4, 5]) #the '_' means throw away or ignore in python \n",
    "x, z"
   ]
  }
 ],
 "metadata": {
  "kernelspec": {
   "display_name": "Python 3 (ipykernel)",
   "language": "python",
   "name": "python3"
  },
  "language_info": {
   "codemirror_mode": {
    "name": "ipython",
    "version": 3
   },
   "file_extension": ".py",
   "mimetype": "text/x-python",
   "name": "python",
   "nbconvert_exporter": "python",
   "pygments_lexer": "ipython3",
   "version": "3.11.5"
  },
  "toc": {
   "base_numbering": 1,
   "nav_menu": {},
   "number_sections": true,
   "sideBar": true,
   "skip_h1_title": false,
   "title_cell": "Table of Contents",
   "title_sidebar": "Contents",
   "toc_cell": false,
   "toc_position": {},
   "toc_section_display": true,
   "toc_window_display": false
  },
  "vscode": {
   "interpreter": {
    "hash": "31f2aee4e71d21fbe5cf8b01ff0e069b9275f58929596ceb00d14d90e3e16cd6"
   }
  }
 },
 "nbformat": 4,
 "nbformat_minor": 5
}
