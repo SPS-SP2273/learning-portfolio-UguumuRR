{
 "cells": [
  {
   "attachments": {},
   "cell_type": "markdown",
   "id": "123456",
   "metadata": {},
   "source": [
    "<div style=\"text-align:left;font-size:2em\"><span style=\"font-weight:bolder;font-size:1.25em\">SP2273 | Learning Portfolio</span><br><br><span style=\"font-weight:bold;color:darkred\">Functions (Need)</span></div>"
   ]
  },
  {
   "attachments": {},
   "cell_type": "markdown",
   "id": "dd005380",
   "metadata": {},
   "source": [
    "# What to expect in this chapter"
   ]
  },
  {
   "attachments": {},
   "cell_type": "markdown",
   "id": "e84128b7",
   "metadata": {},
   "source": [
    "# 1 User-defined functions"
   ]
  },
  {
   "attachments": {},
   "cell_type": "markdown",
   "id": "131e9a18",
   "metadata": {},
   "source": [
    "## 1.1 Named Functions"
   ]
  },
  {
   "attachments": {},
   "cell_type": "markdown",
   "id": "44422701",
   "metadata": {},
   "source": [
    "### Named functions that return"
   ]
  },
  {
   "cell_type": "code",
   "execution_count": 6,
   "id": "188c5947",
   "metadata": {},
   "outputs": [
    {
     "data": {
      "text/plain": [
       "'Bonjour'"
      ]
     },
     "execution_count": 6,
     "metadata": {},
     "output_type": "execute_result"
    }
   ],
   "source": [
    "def greeting(language):\n",
    "    if language == 'France':\n",
    "        return 'Bonjour'\n",
    "    else: \n",
    "        return 'Hi' #You can return almost everything. \n",
    "greeting('France')"
   ]
  },
  {
   "attachments": {},
   "cell_type": "markdown",
   "id": "6379eabb",
   "metadata": {},
   "source": [
    "### Named functions that don’t return"
   ]
  },
  {
   "cell_type": "markdown",
   "id": "1c7ee823-2b38-471c-993b-597b3891af6c",
   "metadata": {},
   "source": [
    "A function doesn't have to return anything. A good example is print(), which doesn't do anything. These functions can be used for data saving. "
   ]
  },
  {
   "attachments": {},
   "cell_type": "markdown",
   "id": "3b088ad7",
   "metadata": {},
   "source": [
    "## 1.2 Anonymous functions"
   ]
  },
  {
   "cell_type": "markdown",
   "id": "4defe231-3ef7-4950-b322-50a12306e8f4",
   "metadata": {},
   "source": [
    "Anonymous or lambda functions are suitable for short one-liners. "
   ]
  },
  {
   "cell_type": "code",
   "execution_count": 10,
   "id": "b162ad4e-947e-4f96-af1d-1d7a875237eb",
   "metadata": {},
   "outputs": [
    {
     "data": {
      "text/plain": [
       "'Bye Batman!'"
      ]
     },
     "execution_count": 10,
     "metadata": {},
     "output_type": "execute_result"
    }
   ],
   "source": [
    "short_function = lambda name : f'Bye {name}!'\n",
    "short_function (name = 'Batman') #A lambda fucntion always returns the value of the last statement. "
   ]
  },
  {
   "cell_type": "code",
   "execution_count": 12,
   "id": "6b3098ea-2f22-435d-a0d3-7efea75ecfdf",
   "metadata": {},
   "outputs": [
    {
     "data": {
      "text/plain": [
       "[[0, 9, -19],\n",
       " [1, 8, -18],\n",
       " [2, 7, -17],\n",
       " [3, 6, -16],\n",
       " [4, 5, -15],\n",
       " [5, 4, -14],\n",
       " [6, 3, -13],\n",
       " [7, 2, -12],\n",
       " [8, 1, -11],\n",
       " [9, 0, -10]]"
      ]
     },
     "execution_count": 12,
     "metadata": {},
     "output_type": "execute_result"
    }
   ],
   "source": [
    "numbers=[[9, 0, -10],\n",
    "         [8, 1, -11],\n",
    "         [7, 2, -12],\n",
    "         [6, 3, -13],\n",
    "         [5, 4, -14],\n",
    "         [4, 5, -15],\n",
    "         [3, 6, -16],\n",
    "         [2, 7, -17],\n",
    "         [1, 8, -18],\n",
    "         [0, 9, -19]]\n",
    "sorted(numbers) #comparing the default key, i.e., the first element "
   ]
  },
  {
   "cell_type": "code",
   "execution_count": 13,
   "id": "2b51e303-9f0a-4fca-aa4b-d6086d675c7b",
   "metadata": {},
   "outputs": [
    {
     "data": {
      "text/plain": [
       "[[9, 0, -10],\n",
       " [8, 1, -11],\n",
       " [7, 2, -12],\n",
       " [6, 3, -13],\n",
       " [5, 4, -14],\n",
       " [4, 5, -15],\n",
       " [3, 6, -16],\n",
       " [2, 7, -17],\n",
       " [1, 8, -18],\n",
       " [0, 9, -19]]"
      ]
     },
     "execution_count": 13,
     "metadata": {},
     "output_type": "execute_result"
    }
   ],
   "source": [
    "sorted(numbers, key = lambda x: x[1]) #comparing a custom key that uses the 2nd element. "
   ]
  },
  {
   "cell_type": "code",
   "execution_count": 14,
   "id": "fec4db8b-233d-4e1f-a6d0-46783ec47811",
   "metadata": {},
   "outputs": [
    {
     "data": {
      "text/plain": [
       "[[0, 9, -19],\n",
       " [1, 8, -18],\n",
       " [2, 7, -17],\n",
       " [3, 6, -16],\n",
       " [4, 5, -15],\n",
       " [5, 4, -14],\n",
       " [6, 3, -13],\n",
       " [7, 2, -12],\n",
       " [8, 1, -11],\n",
       " [9, 0, -10]]"
      ]
     },
     "execution_count": 14,
     "metadata": {},
     "output_type": "execute_result"
    }
   ],
   "source": [
    "sorted(numbers, key = lambda x: sum(x)) #comparing a custom key that uses the sum of elements "
   ]
  },
  {
   "cell_type": "code",
   "execution_count": 17,
   "id": "c9644502-0cb6-4047-8f43-868d2ad0adb1",
   "metadata": {},
   "outputs": [
    {
     "data": {
      "text/plain": [
       "[[0, 9, -19],\n",
       " [1, 8, -18],\n",
       " [2, 7, -17],\n",
       " [3, 6, -16],\n",
       " [4, 5, -15],\n",
       " [5, 4, -14],\n",
       " [6, 3, -13],\n",
       " [7, 2, -12],\n",
       " [8, 1, -11],\n",
       " [9, 0, -10]]"
      ]
     },
     "execution_count": 17,
     "metadata": {},
     "output_type": "execute_result"
    }
   ],
   "source": [
    "sorted(numbers, key = lambda x: x[-1])"
   ]
  },
  {
   "attachments": {},
   "cell_type": "markdown",
   "id": "bf40938c",
   "metadata": {},
   "source": [
    "## 1.3 Optional arguments"
   ]
  },
  {
   "cell_type": "code",
   "execution_count": 18,
   "id": "0b6ec4f2-f8da-4b3d-be7b-3e5b2a0a79fe",
   "metadata": {},
   "outputs": [
    {
     "data": {
      "text/plain": [
       "'Are you tired?'"
      ]
     },
     "execution_count": 18,
     "metadata": {},
     "output_type": "execute_result"
    }
   ],
   "source": [
    "def greeting(name = 'no one'): #setting a default value for the argument to make the function able to run without an argument. \n",
    "    if name == 'Batman':\n",
    "        return 'I am tired.'\n",
    "    else: \n",
    "        return 'Are you tired?'\n",
    "greeting()"
   ]
  },
  {
   "attachments": {},
   "cell_type": "markdown",
   "id": "f50a6e9f",
   "metadata": {},
   "source": [
    "## 1.4 The importance of functions?"
   ]
  },
  {
   "attachments": {},
   "cell_type": "markdown",
   "id": "71c40cff",
   "metadata": {},
   "source": [
    "### An argument for functions"
   ]
  },
  {
   "cell_type": "markdown",
   "id": "348972ba-c2e3-4234-a2eb-291ab8131553",
   "metadata": {},
   "source": [
    "- Abstraction of details. Forget about the minor details, and figure out the main mechanism first. \n",
    "- Reusability of code. Nobody likes to repeat useless stuff and look at the same thing over and over again. \n",
    "- Maintainability of code. Modification becomes easier. \n"
   ]
  },
  {
   "attachments": {},
   "cell_type": "markdown",
   "id": "bc0813c7",
   "metadata": {},
   "source": [
    "### A word of caution"
   ]
  },
  {
   "cell_type": "markdown",
   "id": "f5d2ce72-d37e-4c14-b324-6a1aa218eb9e",
   "metadata": {},
   "source": [
    "Too much of a good thing can be a bad thing. "
   ]
  }
 ],
 "metadata": {
  "kernelspec": {
   "display_name": "Python 3 (ipykernel)",
   "language": "python",
   "name": "python3"
  },
  "language_info": {
   "codemirror_mode": {
    "name": "ipython",
    "version": 3
   },
   "file_extension": ".py",
   "mimetype": "text/x-python",
   "name": "python",
   "nbconvert_exporter": "python",
   "pygments_lexer": "ipython3",
   "version": "3.11.5"
  },
  "toc": {
   "base_numbering": 1,
   "nav_menu": {},
   "number_sections": true,
   "sideBar": true,
   "skip_h1_title": false,
   "title_cell": "Table of Contents",
   "title_sidebar": "Contents",
   "toc_cell": false,
   "toc_position": {},
   "toc_section_display": true,
   "toc_window_display": false
  },
  "vscode": {
   "interpreter": {
    "hash": "31f2aee4e71d21fbe5cf8b01ff0e069b9275f58929596ceb00d14d90e3e16cd6"
   }
  }
 },
 "nbformat": 4,
 "nbformat_minor": 5
}
