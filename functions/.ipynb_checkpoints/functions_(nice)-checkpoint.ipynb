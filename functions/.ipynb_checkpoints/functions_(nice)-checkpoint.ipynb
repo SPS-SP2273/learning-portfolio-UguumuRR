{
 "cells": [
  {
   "attachments": {},
   "cell_type": "markdown",
   "id": "123456",
   "metadata": {},
   "source": [
    "<div style=\"text-align:left;font-size:2em\"><span style=\"font-weight:bolder;font-size:1.25em\">SP2273 | Learning Portfolio</span><br><br><span style=\"font-weight:bold;color:darkred\">Functions (Nice)</span></div>"
   ]
  },
  {
   "attachments": {},
   "cell_type": "markdown",
   "id": "4df88064",
   "metadata": {},
   "source": [
    "# Modularise and reuse"
   ]
  },
  {
   "cell_type": "markdown",
   "id": "fd98e44a-95ed-448b-b595-cab51a5fd078",
   "metadata": {},
   "source": [
    "To reuse functions between projects, place them in a separate file and import them in standard packages and modules like Numpy."
   ]
  },
  {
   "attachments": {},
   "cell_type": "markdown",
   "id": "bcf94c05",
   "metadata": {},
   "source": [
    "# The many ways to pass arguments"
   ]
  },
  {
   "attachments": {},
   "cell_type": "markdown",
   "id": "8f7762fc",
   "metadata": {},
   "source": [
    "## *args & **kwarg"
   ]
  },
  {
   "cell_type": "markdown",
   "id": "673ce12d-6c01-4755-88bc-25fc8f165938",
   "metadata": {},
   "source": [
    "They allow us flexible ways of using unpacking and dictionaries to pass information to functions. "
   ]
  },
  {
   "attachments": {},
   "cell_type": "markdown",
   "id": "34ea0b0d",
   "metadata": {},
   "source": [
    "### *args (stands for arguments)"
   ]
  },
  {
   "cell_type": "code",
   "execution_count": 3,
   "id": "00392669",
   "metadata": {},
   "outputs": [
    {
     "data": {
      "text/plain": [
       "2"
      ]
     },
     "execution_count": 3,
     "metadata": {},
     "output_type": "execute_result"
    }
   ],
   "source": [
    "def multiply(x, y):\n",
    "    return x*y \n",
    "numbers = [1, 2 ]\n",
    "multiply(*numbers) # * is essential. "
   ]
  },
  {
   "cell_type": "code",
   "execution_count": 4,
   "id": "a0dcbf3e-1553-4ab1-994e-992c82333350",
   "metadata": {},
   "outputs": [
    {
     "data": {
      "text/plain": [
       "24"
      ]
     },
     "execution_count": 4,
     "metadata": {},
     "output_type": "execute_result"
    }
   ],
   "source": [
    "def multiply(*args):\n",
    "    result = 1 \n",
    "    for number in args: \n",
    "        result *= number \n",
    "    return result \n",
    "numbers = [1, 2, 3, 4]\n",
    "multiply(*numbers)"
   ]
  },
  {
   "attachments": {},
   "cell_type": "markdown",
   "id": "c5ede088",
   "metadata": {},
   "source": [
    "### **kwargs"
   ]
  },
  {
   "cell_type": "code",
   "execution_count": 7,
   "id": "6efddc32",
   "metadata": {},
   "outputs": [
    {
     "data": {
      "text/plain": [
       "6"
      ]
     },
     "execution_count": 7,
     "metadata": {},
     "output_type": "execute_result"
    }
   ],
   "source": [
    "def multiply(x, y, z):\n",
    "    return x * y * z\n",
    "numbers = {'x': 1, 'y' : 2, 'z' : 3}\n",
    "multiply(**numbers) #Passing keyword arguments using a dictionary, ** is essential. "
   ]
  },
  {
   "cell_type": "code",
   "execution_count": 8,
   "id": "7b94ef9a-7540-4355-b5c2-399c108474a2",
   "metadata": {},
   "outputs": [
    {
     "data": {
      "text/plain": [
       "6"
      ]
     },
     "execution_count": 8,
     "metadata": {},
     "output_type": "execute_result"
    }
   ],
   "source": [
    "def multiply(x, y, z):\n",
    "    return x * y * z\n",
    "numbers = {'y' : 2, 'z' : 3}\n",
    "multiply( 1,**numbers) "
   ]
  },
  {
   "cell_type": "code",
   "execution_count": 12,
   "id": "96eeae67-119e-415d-81c3-ad6791535df7",
   "metadata": {},
   "outputs": [
    {
     "data": {
      "text/plain": [
       "14"
      ]
     },
     "execution_count": 12,
     "metadata": {},
     "output_type": "execute_result"
    }
   ],
   "source": [
    "def add_powers(numbers, power):\n",
    "    result = 0 \n",
    "    for number in numbers:\n",
    "        result += number ** power\n",
    "    return result \n",
    "\n",
    "kwargs = {'numbers': [1, 2, 3], 'power':2}\n",
    "add_powers(**kwargs)"
   ]
  },
  {
   "cell_type": "code",
   "execution_count": 13,
   "id": "f593d7d4-d517-46e2-bcf6-b646f17b78ae",
   "metadata": {},
   "outputs": [
    {
     "data": {
      "text/plain": [
       "14"
      ]
     },
     "execution_count": 13,
     "metadata": {},
     "output_type": "execute_result"
    }
   ],
   "source": [
    "#The following shows how we can set up a function to accept any keyword arguments. \n",
    "def add_powers(**kwargs):\n",
    "    numbers = kwargs['numbers']\n",
    "    power = kwargs['power']\n",
    "    result = 0 \n",
    "    for number in numbers: \n",
    "        result += number**power \n",
    "    return result \n",
    "add_powers(numbers = [1, 2, 3], power = 2)\n",
    "kwargs = {'numbers': [1, 2, 3], 'power':2}\n",
    "add_powers(**kwargs)"
   ]
  },
  {
   "attachments": {},
   "cell_type": "markdown",
   "id": "93ca41b2",
   "metadata": {},
   "source": [
    "# Gotchas with passing variables to functions"
   ]
  },
  {
   "attachments": {},
   "cell_type": "markdown",
   "id": "6336080a",
   "metadata": {},
   "source": [
    "## The Problem"
   ]
  },
  {
   "cell_type": "code",
   "execution_count": 15,
   "id": "ad0a3cde-55b5-4f47-905f-a41b95aa28a9",
   "metadata": {},
   "outputs": [
    {
     "name": "stdout",
     "output_type": "stream",
     "text": [
      "BEFORE|\tNumber: 10, Array: [10], List: [10]\n",
      "Doing something!\n",
      "AFTER|\tNumber: 10, Array: [20], List: [10, 10]\n"
     ]
    }
   ],
   "source": [
    "import numpy as np \n",
    "def do_something(inside_number, inside_array, inside_list):\n",
    "    print('Doing something!')\n",
    "    inside_number *= 2\n",
    "    inside_array *= 2\n",
    "    inside_list *= 2\n",
    "\n",
    "outside_number=10\n",
    "outside_array=np.array([10])\n",
    "outside_list=[10]\n",
    "\n",
    "print(f\"BEFORE|\\tNumber: {outside_number}, Array: {outside_array}, List: {outside_list}\")\n",
    "do_something(outside_number, outside_list, outside_array)\n",
    "print(f\"AFTER|\\tNumber: {outside_number}, Array: {outside_array}, List: {outside_list}\")"
   ]
  },
  {
   "cell_type": "markdown",
   "id": "8cb2b3fe-cde0-4495-82d1-8972aab0932c",
   "metadata": {},
   "source": [
    "The function has changed the values of __some__ variables outside the function. "
   ]
  },
  {
   "attachments": {},
   "cell_type": "markdown",
   "id": "64f9df66",
   "metadata": {},
   "source": [
    "## An Explanation"
   ]
  },
  {
   "cell_type": "markdown",
   "id": "d2ab116a-7261-4a21-8fe6-ff157aa436ef",
   "metadata": {},
   "source": [
    "For __immutable__ variables, what happens inside the function __does not change__ the variable outside. In other languages, this behavior is called __passing by value__. "
   ]
  },
  {
   "cell_type": "markdown",
   "id": "a0b339df-d5b7-4963-851f-860a3bcb9cda",
   "metadata": {},
   "source": [
    "For __mutable__ variables, what happens inside the function __does change__ the variable outside. It is called __passing by reference__. "
   ]
  },
  {
   "attachments": {},
   "cell_type": "markdown",
   "id": "559647d3",
   "metadata": {},
   "source": [
    "# There is more to exceptions"
   ]
  },
  {
   "attachments": {},
   "cell_type": "markdown",
   "id": "602e7daf",
   "metadata": {},
   "source": [
    "## A list of exceptions"
   ]
  },
  {
   "cell_type": "markdown",
   "id": "fcb77c65-428c-4b9d-a18a-62c3081438eb",
   "metadata": {},
   "source": [
    "[A list of exceptions](https://docs.python.org/3/library/exceptions.html)"
   ]
  },
  {
   "attachments": {},
   "cell_type": "markdown",
   "id": "2b00eac9",
   "metadata": {},
   "source": [
    "## 4.2 Handling specific exceptions"
   ]
  },
  {
   "cell_type": "code",
   "execution_count": 18,
   "id": "4060329c-a7a9-41e6-8b83-cf29ca9c78d7",
   "metadata": {},
   "outputs": [
    {
     "name": "stdin",
     "output_type": "stream",
     "text": [
      "Enter a number hi\n"
     ]
    },
    {
     "name": "stdout",
     "output_type": "stream",
     "text": [
      "I asked for a number\n"
     ]
    }
   ],
   "source": [
    "try: \n",
    "    number = input('Enter a number')\n",
    "    square = int(number)**2\n",
    "    print(square)\n",
    "except ValueError: \n",
    "    print('I asked for a number')"
   ]
  },
  {
   "attachments": {},
   "cell_type": "markdown",
   "id": "d0cdb5a2",
   "metadata": {},
   "source": [
    "## 4.3 try also has an else"
   ]
  },
  {
   "cell_type": "code",
   "execution_count": 19,
   "id": "13f7bb23-d23d-45ae-afd8-24f6467324b4",
   "metadata": {},
   "outputs": [
    {
     "name": "stdin",
     "output_type": "stream",
     "text": [
      "Enter a number 30\n"
     ]
    },
    {
     "name": "stdout",
     "output_type": "stream",
     "text": [
      "900\n",
      "Things ran without a problem. These moments are rare. Enjoy it while you can\n"
     ]
    }
   ],
   "source": [
    "try: \n",
    "    number = input('Enter a number')\n",
    "    square = int(number)**2\n",
    "    print(square)\n",
    "except ValueError: \n",
    "    print('I asked for a number')\n",
    "else: \n",
    "    print('Things ran without a problem. These moments are rare. Enjoy it while you can')"
   ]
  },
  {
   "cell_type": "code",
   "execution_count": 1,
   "id": "6f3bb214-e537-476e-8419-4a4c50eec8eb",
   "metadata": {},
   "outputs": [
    {
     "name": "stdin",
     "output_type": "stream",
     "text": [
      "Enter a number 60 \n"
     ]
    },
    {
     "name": "stdout",
     "output_type": "stream",
     "text": [
      "3600\n",
      "Things ran without a problem. These moments are rare. Enjoy it while you can\n"
     ]
    }
   ],
   "source": [
    "try:\n",
    "    # Code that may raise an exception\n",
    "    number = input('Enter a number')\n",
    "    square = int(number)**2\n",
    "    print(square)\n",
    "except ValueError:\n",
    "    # Code to handle the exception\n",
    "    print('I asked for a number')\n",
    "finally:\n",
    "    # Code that always runs, regardless of whether an exception occurred or not\n",
    "    # This is typically used for cleanup actions like closing files or releasing resources\n",
    "    print('Things ran without a problem. These moments are rare. Enjoy it while you can')"
   ]
  },
  {
   "attachments": {},
   "cell_type": "markdown",
   "id": "d673032a",
   "metadata": {},
   "source": [
    "## Footnotes"
   ]
  }
 ],
 "metadata": {
  "kernelspec": {
   "display_name": "Python 3 (ipykernel)",
   "language": "python",
   "name": "python3"
  },
  "language_info": {
   "codemirror_mode": {
    "name": "ipython",
    "version": 3
   },
   "file_extension": ".py",
   "mimetype": "text/x-python",
   "name": "python",
   "nbconvert_exporter": "python",
   "pygments_lexer": "ipython3",
   "version": "3.11.5"
  },
  "toc": {
   "base_numbering": 1,
   "nav_menu": {},
   "number_sections": true,
   "sideBar": true,
   "skip_h1_title": false,
   "title_cell": "Table of Contents",
   "title_sidebar": "Contents",
   "toc_cell": false,
   "toc_position": {},
   "toc_section_display": true,
   "toc_window_display": false
  },
  "vscode": {
   "interpreter": {
    "hash": "31f2aee4e71d21fbe5cf8b01ff0e069b9275f58929596ceb00d14d90e3e16cd6"
   }
  }
 },
 "nbformat": 4,
 "nbformat_minor": 5
}
