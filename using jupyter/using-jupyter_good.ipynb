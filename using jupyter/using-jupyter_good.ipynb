{
 "cells": [
  {
   "cell_type": "markdown",
   "id": "e2dcbb74-a5f7-4a4d-8ca6-24603607a641",
   "metadata": {},
   "source": [
    "# 1. Some tips and tricks  "
   ]
  },
  {
   "cell_type": "markdown",
   "id": "3b2ed308-6d94-4bb1-82da-466a05311201",
   "metadata": {},
   "source": [
    "## 1.1 Keyboard Shortcuts "
   ]
  },
  {
   "cell_type": "markdown",
   "id": "44048317-2de4-4ebb-afca-33f50b35341b",
   "metadata": {},
   "source": [
    "| Action   |  Shortcut |\n",
    "| :--- | :-- | \n",
    "| Run cell   |  CTRL + ENTER or CMD + ENTER  |   \n",
    "| Run cell and move to the next one   |  SHIFT + ENTER  | \n",
    "| Convert cell into a code cell   |  ESC + Y  |  \n",
    "| Convert cell into a markdown cell | ESC + M | \n",
    "| Create new cell    |  ESC + A (above) ESC + B (below) |   \n",
    "| Copy cell(s)   |  ESC + C  |   \n",
    "| Paste cell(s)   |  ESC + V  |   \n",
    "|Merge cells | SHIFT + M |\n",
    "|Delete cell | ESC + D + D |\n",
    "|Show shortcuts| ESC + H   |"
   ]
  },
  {
   "cell_type": "markdown",
   "id": "b4db83ca-b7c3-437b-a7dd-ddab12bc02d8",
   "metadata": {},
   "source": [
    "## 1.2 Shell commands"
   ]
  },
  {
   "cell_type": "markdown",
   "id": "38f43055-e530-4817-b2af-cd249ef8fbd6",
   "metadata": {},
   "source": [
    "If you run '!cd', it will print out the directory you are working on. The next line will be the directory. "
   ]
  },
  {
   "cell_type": "code",
   "execution_count": 3,
   "id": "548d8f1d-1c1b-4b23-ad26-bb4ce07c9025",
   "metadata": {},
   "outputs": [
    {
     "name": "stdout",
     "output_type": "stream",
     "text": [
      "C:\\Users\\tsaga\\Uguumur\\Desktop\\learning-portfolio-UguumuRR\\using jupyter\n"
     ]
    }
   ],
   "source": [
    "!cd"
   ]
  },
  {
   "cell_type": "markdown",
   "id": "908c10be-ad63-4f53-8886-46ae0c2bea50",
   "metadata": {},
   "source": [
    "If you run '!dir', a list of all the files in your folder will be shown. "
   ]
  },
  {
   "cell_type": "code",
   "execution_count": 4,
   "id": "043e07e5-c8dc-45fc-bb53-ce8be8baa94a",
   "metadata": {},
   "outputs": [
    {
     "name": "stdout",
     "output_type": "stream",
     "text": [
      " Volume in drive C is Windows \n",
      " Volume Serial Number is 5E41-F12E\n",
      "\n",
      " Directory of C:\\Users\\tsaga\\Uguumur\\Desktop\\learning-portfolio-UguumuRR\\using jupyter\n",
      "\n",
      "02/07/2024  08:13 PM    <DIR>          .\n",
      "01/30/2024  02:22 PM    <DIR>          ..\n",
      "02/07/2024  08:01 PM    <DIR>          .ipynb_checkpoints\n",
      "02/07/2024  08:13 PM             1,836 Untitled.ipynb\n",
      "01/22/2024  05:16 PM             4,353 using-jupyter_need.ipynb\n",
      "               2 File(s)          6,189 bytes\n",
      "               3 Dir(s)  114,646,712,320 bytes free\n"
     ]
    }
   ],
   "source": [
    "!dir "
   ]
  },
  {
   "cell_type": "markdown",
   "id": "65118398-9d1f-463b-9b27-2397913e4b98",
   "metadata": {},
   "source": [
    "# 2. Install Notebook 7 \n",
    "I have already done it so. "
   ]
  },
  {
   "cell_type": "markdown",
   "id": "528ad4da-5044-44e8-9c14-034b7564c5c8",
   "metadata": {},
   "source": [
    "# 3. Shell Magic "
   ]
  },
  {
   "cell_type": "markdown",
   "id": "d25a5352-4fd5-4d4f-9611-f2b76bd6eb19",
   "metadata": {},
   "source": [
    "'%timeit x=10' will run for a while and show the statistics on how long the command takes to get executed. Apparently, it is called a magical command. "
   ]
  },
  {
   "cell_type": "code",
   "execution_count": 9,
   "id": "df0380bb-3d47-4234-9d5d-5c9642c0595e",
   "metadata": {},
   "outputs": [
    {
     "name": "stdout",
     "output_type": "stream",
     "text": [
      "21 ns ± 0.554 ns per loop (mean ± std. dev. of 7 runs, 10,000,000 loops each)\n"
     ]
    }
   ],
   "source": [
    "%timeit x=10 #this is a line magic as there is one single line. "
   ]
  },
  {
   "cell_type": "markdown",
   "id": "89489192-8f17-491b-8b48-c10c72f6d0a7",
   "metadata": {},
   "source": [
    "To apply it to a whole cell, use the command '%%timeit' and write your code in a new line. "
   ]
  },
  {
   "cell_type": "code",
   "execution_count": 10,
   "id": "0b0ea76a-233e-40e5-97c8-b1bc17cd30c1",
   "metadata": {},
   "outputs": [
    {
     "name": "stdout",
     "output_type": "stream",
     "text": [
      "54.5 ns ± 1.8 ns per loop (mean ± std. dev. of 7 runs, 10,000,000 loops each)\n"
     ]
    }
   ],
   "source": [
    "%%timeit \n",
    "x=1\n",
    "y=2\n",
    "z=3"
   ]
  },
  {
   "cell_type": "code",
   "execution_count": null,
   "id": "d86e7a7e-c0ae-4aa2-a455-c1819bcfe0cf",
   "metadata": {},
   "outputs": [],
   "source": []
  }
 ],
 "metadata": {
  "kernelspec": {
   "display_name": "Python 3 (ipykernel)",
   "language": "python",
   "name": "python3"
  },
  "language_info": {
   "codemirror_mode": {
    "name": "ipython",
    "version": 3
   },
   "file_extension": ".py",
   "mimetype": "text/x-python",
   "name": "python",
   "nbconvert_exporter": "python",
   "pygments_lexer": "ipython3",
   "version": "3.11.5"
  }
 },
 "nbformat": 4,
 "nbformat_minor": 5
}
