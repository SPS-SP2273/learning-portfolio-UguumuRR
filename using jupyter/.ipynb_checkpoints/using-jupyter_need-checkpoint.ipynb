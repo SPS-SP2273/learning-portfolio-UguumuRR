{
 "cells": [
  {
   "cell_type": "code",
   "execution_count": 2,
   "id": "138602a7-76fc-4c47-85b1-6678661e16b8",
   "metadata": {},
   "outputs": [
    {
     "name": "stdout",
     "output_type": "stream",
     "text": [
      "Hello World\n"
     ]
    }
   ],
   "source": [
    "print('Hello World')"
   ]
  },
  {
   "cell_type": "markdown",
   "id": "b3d4b9e6-c3c0-452e-9008-7c1a0f92ffff",
   "metadata": {},
   "source": [
    "The ships hung in the sky in much the same way that bricks don't."
   ]
  },
  {
   "cell_type": "markdown",
   "id": "c4d0e30a-83cc-429d-83b8-bed5e7a54b40",
   "metadata": {},
   "source": [
    "To make a text bold, **put it between two asterisks.**"
   ]
  },
  {
   "cell_type": "markdown",
   "id": "104097b0-9133-4089-bad6-489790fdb0ac",
   "metadata": {},
   "source": [
    "To make a text italic, *put it between asterisks.* "
   ]
  },
  {
   "cell_type": "markdown",
   "id": "4c1307a8-5fb2-4f28-872b-fa21f8783a11",
   "metadata": {},
   "source": [
    "To make a text bold and italic, ***put it between three asterisks.*** "
   ]
  },
  {
   "cell_type": "markdown",
   "id": "5a6a2228-0d42-4655-84d7-19fe77e93a66",
   "metadata": {},
   "source": [
    "To make a text subscript, write <sub>text</sub>"
   ]
  },
  {
   "cell_type": "markdown",
   "id": "e2013ebf-3908-4b13-8469-54114886dc63",
   "metadata": {},
   "source": [
    "To make a text superscript, write <sup>text</sup>"
   ]
  },
  {
   "cell_type": "markdown",
   "id": "11d707ca-3bb1-49f3-95ff-319a73cf65dc",
   "metadata": {},
   "source": [
    "# The largest heading follows a single hashtag after a space. "
   ]
  },
  {
   "cell_type": "markdown",
   "id": "70ff48a9-7856-4134-b823-3b3174d8b87f",
   "metadata": {},
   "source": [
    "`print('Hello World')`"
   ]
  },
  {
   "cell_type": "markdown",
   "id": "7f68db63-3b6f-4e3a-9e48-41e446f466d2",
   "metadata": {},
   "source": [
    "To create a link with Markdown, enclose the display text in [] followed by the link in-address like [SP2273](https://sps.nus.edu.sg/sp2273) without forgetting the https:// part. "
   ]
  },
  {
   "cell_type": "markdown",
   "id": "4181594b-2e2b-47ec-b4fb-8dea09675f3f",
   "metadata": {},
   "source": [
    "To insert an image, it is like inserting a link but with a ! in front ![](https://nus.edu.sg/images/default-source/base/logo.png)"
   ]
  },
  {
   "cell_type": "markdown",
   "id": "7ecab139-d48c-4617-8779-8bbd33ba2f6e",
   "metadata": {},
   "source": [
    "To include images on a computer, put the file name instead of the address, but might need to give enough information such as full or relative path for Jupyter to be able to find the file. "
   ]
  },
  {
   "cell_type": "markdown",
   "id": "7ec36c50-e947-43c8-be44-ca3fddb2349d",
   "metadata": {},
   "source": [
    "Creating a table is tedious almost everywhere. \n",
    "| A    |  B   |    C |\n",
    "| :--- | :--: | ---: |\n",
    "| a1   |  b1  |   c1 |\n",
    "| a2   |  b2  |   c2 |\n",
    "| a3   |  b3  |   c3 |"
   ]
  },
  {
   "cell_type": "markdown",
   "id": "ff01ee76-3295-4220-8402-988767e2f5f1",
   "metadata": {},
   "source": [
    "Creating a list is intuitive. "
   ]
  },
  {
   "cell_type": "markdown",
   "id": "85fdae95-e16e-44e9-bbf1-513f3672a0b3",
   "metadata": {},
   "source": [
    "If you want to have an inline math, use two \n",
    "$\\sqrt{b^2-4ac}$"
   ]
  },
  {
   "cell_type": "markdown",
   "id": "dff850ab-fa27-4fe0-81b8-b069b508b08c",
   "metadata": {},
   "source": [
    "'$$\n",
    "x = \\dfrac{-b \\pm \\sqrt{b^2-4ac}}{2a}\n",
    "$$'"
   ]
  },
  {
   "cell_type": "markdown",
   "id": "4a596578-23a4-4339-809c-392b4386b03a",
   "metadata": {},
   "source": [
    "Fraction\t'$\\dfrac{y}{x}$'\t\n"
   ]
  },
  {
   "cell_type": "code",
   "execution_count": null,
   "id": "6e96899e-a4ae-437e-a81b-4058cab133e9",
   "metadata": {},
   "outputs": [],
   "source": []
  }
 ],
 "metadata": {
  "kernelspec": {
   "display_name": "Python 3 (ipykernel)",
   "language": "python",
   "name": "python3"
  },
  "language_info": {
   "codemirror_mode": {
    "name": "ipython",
    "version": 3
   },
   "file_extension": ".py",
   "mimetype": "text/x-python",
   "name": "python",
   "nbconvert_exporter": "python",
   "pygments_lexer": "ipython3",
   "version": "3.11.5"
  }
 },
 "nbformat": 4,
 "nbformat_minor": 5
}
