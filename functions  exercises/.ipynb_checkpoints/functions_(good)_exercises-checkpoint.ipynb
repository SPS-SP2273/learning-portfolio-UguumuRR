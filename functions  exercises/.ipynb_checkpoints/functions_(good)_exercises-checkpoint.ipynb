{
 "cells": [
  {
   "attachments": {},
   "cell_type": "markdown",
   "id": "123456",
   "metadata": {},
   "source": [
    "<div style=\"text-align:left;font-size:2em\"><span style=\"font-weight:bolder;font-size:1.25em\">SP2273 | Learning Portfolio</span><br><br><span style=\"font-weight:bold;color:darkred\">Functions (Good) Exercises</span></div>"
   ]
  },
  {
   "cell_type": "markdown",
   "id": "ebbd17ce-2c5e-4191-8088-3f512835d7bc",
   "metadata": {},
   "source": [
    "# Celcius to Fahrenheit or Kelvin "
   ]
  },
  {
   "cell_type": "code",
   "execution_count": 9,
   "id": "4383878f-3803-4ccc-a4be-b1044ccbdfb7",
   "metadata": {},
   "outputs": [
    {
     "data": {
      "text/plain": [
       "'0C is 32.0F'"
      ]
     },
     "execution_count": 9,
     "metadata": {},
     "output_type": "execute_result"
    }
   ],
   "source": [
    "def convert_celcius(temperature, target_scale = 'Fahrenheit'):\n",
    "    if target_scale == 'Fahrenheit': \n",
    "        return f'{temperature}C is {temperature*1.8+32}F'\n",
    "    else:\n",
    "        return f'{temperature}C is {temperature+273}K'\n",
    "\n",
    "convert_celcius(0)"
   ]
  },
  {
   "cell_type": "code",
   "execution_count": 10,
   "id": "bdb17b2e-5feb-40af-84b3-3ca953edff49",
   "metadata": {},
   "outputs": [
    {
     "data": {
      "text/plain": [
       "'100C is 373K'"
      ]
     },
     "execution_count": 10,
     "metadata": {},
     "output_type": "execute_result"
    }
   ],
   "source": [
    "convert_celcius(100, 'Kelvin')"
   ]
  },
  {
   "cell_type": "markdown",
   "id": "43b38730-1576-492d-b144-26c1a17e97ba",
   "metadata": {},
   "source": [
    "# Fahrenheit to Celcius "
   ]
  },
  {
   "cell_type": "code",
   "execution_count": 11,
   "id": "475efe1b-f229-4f94-82a2-aff35d6d8496",
   "metadata": {},
   "outputs": [],
   "source": [
    "def convert_fahrenheit(temperature, target_scale = 'Celcius'):\n",
    "    if target_scale == 'Celcius': \n",
    "        return f'{temperature}F is {(temperature-32)*5/9}C'\n",
    "    else:\n",
    "        return f'{temperature}F is {((temperature-32)*5/9)+273}K'"
   ]
  },
  {
   "cell_type": "code",
   "execution_count": 13,
   "id": "cd195858-072f-4fad-8ee2-f155a37ec2b8",
   "metadata": {},
   "outputs": [
    {
     "data": {
      "text/plain": [
       "'32F is 0.0C'"
      ]
     },
     "execution_count": 13,
     "metadata": {},
     "output_type": "execute_result"
    }
   ],
   "source": [
    "convert_fahrenheit(32)"
   ]
  },
  {
   "cell_type": "code",
   "execution_count": 14,
   "id": "23049a3e-90ac-4da7-b902-48e1893fb7e7",
   "metadata": {},
   "outputs": [
    {
     "data": {
      "text/plain": [
       "'32F is 273.0K'"
      ]
     },
     "execution_count": 14,
     "metadata": {},
     "output_type": "execute_result"
    }
   ],
   "source": [
    "convert_fahrenheit(32, 'Kelvin')"
   ]
  },
  {
   "cell_type": "markdown",
   "id": "9dae1ca0-5897-473f-99f4-ce363fcfcb6c",
   "metadata": {},
   "source": [
    "# General Temperature Conversion "
   ]
  },
  {
   "cell_type": "code",
   "execution_count": 26,
   "id": "b3fc813b-fa3d-44ea-abb2-4410729acd55",
   "metadata": {},
   "outputs": [],
   "source": [
    "def convert_temperature(temperature, source_scale, target_scale):\n",
    "    if source_scale == 'Fahrenheit':\n",
    "        return convert_fahrenheit(temperature, target_scale)\n",
    "    elif source_scale == 'Celcius':\n",
    "        return convert_celcius(temperature, target_scale)\n",
    "    else: \n",
    "        if target_scale == 'Celcius':\n",
    "            return f'{temperature}K is {temperature-273}C.'\n",
    "        else:\n",
    "            return f'{temperature}K is {(temperature-273)*1.8+32}F'"
   ]
  },
  {
   "cell_type": "code",
   "execution_count": 25,
   "id": "83405f6d-f31f-4fc8-9aa3-b2d194bbbd57",
   "metadata": {},
   "outputs": [
    {
     "data": {
      "text/plain": [
       "'0C is 273K'"
      ]
     },
     "execution_count": 25,
     "metadata": {},
     "output_type": "execute_result"
    }
   ],
   "source": [
    "convert_temperature(0, 'Celcius', 'Kelvin')"
   ]
  },
  {
   "cell_type": "code",
   "execution_count": 28,
   "id": "212147e8-744b-4d56-b574-caed63495a3a",
   "metadata": {},
   "outputs": [
    {
     "data": {
      "text/plain": [
       "'32F is 273.0K'"
      ]
     },
     "execution_count": 28,
     "metadata": {},
     "output_type": "execute_result"
    }
   ],
   "source": [
    "convert_temperature(32, 'Fahrenheit', 'Kelvin')"
   ]
  },
  {
   "cell_type": "code",
   "execution_count": 29,
   "id": "3a8f4a8b-b3fa-48d6-ab72-9f6e8638d3f0",
   "metadata": {},
   "outputs": [
    {
     "data": {
      "text/plain": [
       "'32F is 0.0C'"
      ]
     },
     "execution_count": 29,
     "metadata": {},
     "output_type": "execute_result"
    }
   ],
   "source": [
    "convert_temperature(32, 'Fahrenheit', 'Celcius')"
   ]
  }
 ],
 "metadata": {
  "kernelspec": {
   "display_name": "Python 3 (ipykernel)",
   "language": "python",
   "name": "python3"
  },
  "language_info": {
   "codemirror_mode": {
    "name": "ipython",
    "version": 3
   },
   "file_extension": ".py",
   "mimetype": "text/x-python",
   "name": "python",
   "nbconvert_exporter": "python",
   "pygments_lexer": "ipython3",
   "version": "3.11.5"
  },
  "toc": {
   "base_numbering": 1,
   "nav_menu": {},
   "number_sections": true,
   "sideBar": true,
   "skip_h1_title": false,
   "title_cell": "Table of Contents",
   "title_sidebar": "Contents",
   "toc_cell": false,
   "toc_position": {},
   "toc_section_display": true,
   "toc_window_display": false
  },
  "vscode": {
   "interpreter": {
    "hash": "31f2aee4e71d21fbe5cf8b01ff0e069b9275f58929596ceb00d14d90e3e16cd6"
   }
  }
 },
 "nbformat": 4,
 "nbformat_minor": 5
}
