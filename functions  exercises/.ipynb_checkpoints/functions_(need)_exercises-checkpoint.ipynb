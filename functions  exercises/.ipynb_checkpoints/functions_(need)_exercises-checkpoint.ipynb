{
 "cells": [
  {
   "attachments": {},
   "cell_type": "markdown",
   "id": "123456",
   "metadata": {},
   "source": [
    "<div style=\"text-align:left;font-size:2em\"><span style=\"font-weight:bolder;font-size:1.25em\">SP2273 | Learning Portfolio</span><br><br><span style=\"font-weight:bold;color:darkred\">Functions (Need) Exercises</span></div>"
   ]
  },
  {
   "cell_type": "markdown",
   "id": "88b1a124-3579-4875-a8e8-d78d4ddc8ea0",
   "metadata": {},
   "source": [
    "# Do you know why? "
   ]
  },
  {
   "cell_type": "code",
   "execution_count": 1,
   "id": "b2ac0a2e-360f-4f07-8595-a78f539d7d02",
   "metadata": {},
   "outputs": [],
   "source": [
    "def greeting(name):\n",
    "    if name == 'Batman':\n",
    "        return 'Hello Batman! So, nice to meet you!'\n",
    "    return f'Hello {name}!'"
   ]
  },
  {
   "cell_type": "markdown",
   "id": "1fd9c6e9-45ac-4262-8f43-f6f75d3a7166",
   "metadata": {},
   "source": [
    "In this scenario, an else statement is not necessary because there are only two possible outcomes based on the condition. Either the if condition is true, and the function returns a specific greeting for Batman, or the if condition is false, and the function returns a generic greeting for any other name."
   ]
  },
  {
   "cell_type": "markdown",
   "id": "edc90b48-3c4c-4921-b9df-a97508682084",
   "metadata": {},
   "source": [
    "# Chubby or not?"
   ]
  },
  {
   "cell_type": "code",
   "execution_count": 2,
   "id": "97fb8580-3603-47e4-baa2-765eab2ac2e9",
   "metadata": {},
   "outputs": [],
   "source": [
    "def calculate_bmi(weight, height):\n",
    "    BMI = weight / (height ** 2)\n",
    "    if BMI < 18.5:\n",
    "        return 'underweight'\n",
    "    elif BMI < 25:\n",
    "        return 'normal weight'\n",
    "    elif BMI < 30:\n",
    "        return 'overweight'\n",
    "    else:\n",
    "        return 'obesity'\n"
   ]
  },
  {
   "cell_type": "code",
   "execution_count": 3,
   "id": "b7d8795a-396d-4c4c-aa35-adec4f7ba60a",
   "metadata": {},
   "outputs": [
    {
     "data": {
      "text/plain": [
       "'underweight'"
      ]
     },
     "execution_count": 3,
     "metadata": {},
     "output_type": "execute_result"
    }
   ],
   "source": [
    "calculate_bmi(50, 160)"
   ]
  },
  {
   "cell_type": "code",
   "execution_count": 10,
   "id": "f8107d2c-c97b-4805-ad51-c20d81fc4116",
   "metadata": {},
   "outputs": [],
   "source": [
    "def calculate_bmi_dict(weight, height):\n",
    "    BMI = weight / (height ** 2)\n",
    "    \n",
    "    bmi_labels = {\n",
    "        (0, 18.5): 'underweight',\n",
    "        (18.5, 25): 'normal weight',\n",
    "        (25, 30): 'overweight',\n",
    "        (30, float('inf')): 'obesity'\n",
    "    }\n",
    "    \n",
    "    for i, label in bmi_labels.items():\n",
    "        if i[0] <= BMI < i[1]:\n",
    "            return label\n"
   ]
  },
  {
   "cell_type": "code",
   "execution_count": 11,
   "id": "996194d2-d8db-4bfd-afb3-3a6bfe502f62",
   "metadata": {},
   "outputs": [
    {
     "data": {
      "text/plain": [
       "'underweight'"
      ]
     },
     "execution_count": 11,
     "metadata": {},
     "output_type": "execute_result"
    }
   ],
   "source": [
    "calculate_bmi_dict(70, 180)"
   ]
  },
  {
   "cell_type": "code",
   "execution_count": null,
   "id": "28ed1731-ce6a-4377-b836-d04a88b725e4",
   "metadata": {},
   "outputs": [],
   "source": []
  }
 ],
 "metadata": {
  "kernelspec": {
   "display_name": "Python 3 (ipykernel)",
   "language": "python",
   "name": "python3"
  },
  "language_info": {
   "codemirror_mode": {
    "name": "ipython",
    "version": 3
   },
   "file_extension": ".py",
   "mimetype": "text/x-python",
   "name": "python",
   "nbconvert_exporter": "python",
   "pygments_lexer": "ipython3",
   "version": "3.11.5"
  },
  "toc": {
   "base_numbering": 1,
   "nav_menu": {},
   "number_sections": true,
   "sideBar": true,
   "skip_h1_title": false,
   "title_cell": "Table of Contents",
   "title_sidebar": "Contents",
   "toc_cell": false,
   "toc_position": {},
   "toc_section_display": true,
   "toc_window_display": false
  },
  "vscode": {
   "interpreter": {
    "hash": "31f2aee4e71d21fbe5cf8b01ff0e069b9275f58929596ceb00d14d90e3e16cd6"
   }
  }
 },
 "nbformat": 4,
 "nbformat_minor": 5
}
