{
 "cells": [
  {
   "attachments": {},
   "cell_type": "markdown",
   "id": "123456",
   "metadata": {},
   "source": [
    "<div style=\"text-align:left;font-size:2em\"><span style=\"font-weight:bolder;font-size:1.25em\">SP2273 | Learning Portfolio</span><br><br><span style=\"font-weight:bold;color:darkred\">Storing Data (Need)</span></div>"
   ]
  },
  {
   "attachments": {},
   "cell_type": "markdown",
   "id": "824bcbf8",
   "metadata": {},
   "source": [
    "# Lists, Arrays & Dictionaries"
   ]
  },
  {
   "attachments": {},
   "cell_type": "markdown",
   "id": "5696115f",
   "metadata": {},
   "source": [
    "## Let’s compare"
   ]
  },
  {
   "cell_type": "markdown",
   "id": "283934b5-7d0b-48db-abab-894c741b80e6",
   "metadata": {},
   "source": [
    "__Python lists__ "
   ]
  },
  {
   "cell_type": "code",
   "execution_count": 1,
   "id": "5cbbf51c-201e-4618-b836-2648dc961e5a",
   "metadata": {},
   "outputs": [],
   "source": [
    "py_days = ['Monday', 'Tuesday', 'Wednesday']\n",
    "py_days_m=['Davaa', 'Myagmar', 'Lkhagva']"
   ]
  },
  {
   "cell_type": "markdown",
   "id": "7b6845c7-566a-4358-a4b1-dd432a95c874",
   "metadata": {},
   "source": [
    "__Numpy Arrays__"
   ]
  },
  {
   "cell_type": "code",
   "execution_count": 3,
   "id": "cf35eb50-ab95-4ab3-81ad-97700f878a68",
   "metadata": {},
   "outputs": [],
   "source": [
    "import numpy as np \n",
    "np_days = np.array(['Monday', 'Tuesday', 'Wednesday'])\n",
    "np_days_m = np.array(['Davaa', 'Myagmar', 'Lkhagva'])"
   ]
  },
  {
   "cell_type": "markdown",
   "id": "add655fe-0008-48cf-b66c-16bfba5a3aca",
   "metadata": {},
   "source": [
    "__Dictionary__ "
   ]
  },
  {
   "cell_type": "code",
   "execution_count": 13,
   "id": "3e132f92-5225-4bf2-9ff5-1028003f622e",
   "metadata": {},
   "outputs": [],
   "source": [
    "days_info = {\n",
    "    'Monday': 'Davaa',\n",
    "    'Tuesday': 'Myagmar',\n",
    "    'Wednesday': 'Lkhagva'\n",
    "}"
   ]
  },
  {
   "cell_type": "markdown",
   "id": "4c243f3f-c928-4176-b41c-6622e2821451",
   "metadata": {},
   "source": [
    "- Dictionaries use a key and an associated value separated by a: \n",
    "- Order matters for lists and arrays. "
   ]
  },
  {
   "attachments": {},
   "cell_type": "markdown",
   "id": "59e3b87b",
   "metadata": {},
   "source": [
    "## Accessing data from a list (or array)"
   ]
  },
  {
   "cell_type": "markdown",
   "id": "05d6b0a8-d7ae-494a-8876-79996c9f51a3",
   "metadata": {},
   "source": [
    "To access data from lists and arrays, indexing is needed. Python starts counting at 0. "
   ]
  },
  {
   "cell_type": "code",
   "execution_count": 10,
   "id": "651139c2-7c48-49e0-aac0-d6f54482bcb4",
   "metadata": {},
   "outputs": [
    {
     "data": {
      "text/plain": [
       "'Myagmar'"
      ]
     },
     "execution_count": 10,
     "metadata": {},
     "output_type": "execute_result"
    }
   ],
   "source": [
    "days = ['Monday', 'Tuesday', 'Wednesday']\n",
    "days_m=['Davaa', 'Myagmar', 'Lkhagva']\n",
    "days_m[1]"
   ]
  },
  {
   "cell_type": "code",
   "execution_count": 12,
   "id": "4cd0ea0e-9dba-4af7-98c8-50f082893387",
   "metadata": {},
   "outputs": [
    {
     "data": {
      "text/plain": [
       "'Wednesday'"
      ]
     },
     "execution_count": 12,
     "metadata": {},
     "output_type": "execute_result"
    }
   ],
   "source": [
    "days[-1] #Reverse indexing helps us when we don't know the total number of items. "
   ]
  },
  {
   "attachments": {},
   "cell_type": "markdown",
   "id": "614eb796",
   "metadata": {},
   "source": [
    "## Accessing data from a dictionary"
   ]
  },
  {
   "cell_type": "code",
   "execution_count": 14,
   "id": "4dd09453-6b03-4a3d-bd6f-1c0604385878",
   "metadata": {},
   "outputs": [
    {
     "data": {
      "text/plain": [
       "'Lkhagva'"
      ]
     },
     "execution_count": 14,
     "metadata": {},
     "output_type": "execute_result"
    }
   ],
   "source": [
    "days_info = {\n",
    "    'Monday': 'Davaa',\n",
    "    'Tuesday': 'Myagmar',\n",
    "    'Wednesday': 'Lkhagva'\n",
    "}\n",
    "days_info['Wednesday']"
   ]
  },
  {
   "cell_type": "code",
   "execution_count": 17,
   "id": "dc6496d6-0c61-462a-b80a-fe7d88b14392",
   "metadata": {},
   "outputs": [
    {
     "data": {
      "text/plain": [
       "dict_keys(['Monday', 'Tuesday', 'Wednesday'])"
      ]
     },
     "execution_count": 17,
     "metadata": {},
     "output_type": "execute_result"
    }
   ],
   "source": [
    "days_info. keys()"
   ]
  },
  {
   "cell_type": "code",
   "execution_count": 18,
   "id": "5285ba98-a65b-46a8-98eb-1ebab8b949bd",
   "metadata": {},
   "outputs": [
    {
     "data": {
      "text/plain": [
       "dict_values(['Davaa', 'Myagmar', 'Lkhagva'])"
      ]
     },
     "execution_count": 18,
     "metadata": {},
     "output_type": "execute_result"
    }
   ],
   "source": [
    "days_info. values()"
   ]
  },
  {
   "attachments": {},
   "cell_type": "markdown",
   "id": "e8f0ab9d",
   "metadata": {},
   "source": [
    "## Higher dimensional lists"
   ]
  },
  {
   "cell_type": "markdown",
   "id": "ef515593-894c-46a2-996e-f5502be07343",
   "metadata": {},
   "source": [
    "To make a single structure using lists: "
   ]
  },
  {
   "cell_type": "code",
   "execution_count": 21,
   "id": "0c057154-05cd-4c9d-9784-84d137e7ca07",
   "metadata": {},
   "outputs": [],
   "source": [
    "days_info = [['Monday', 'Davaa'], \n",
    "             ['Tuesday', 'Myagmar'], \n",
    "             ['Wednesday', 'Lkhagva']]"
   ]
  },
  {
   "attachments": {},
   "cell_type": "markdown",
   "id": "917e8976",
   "metadata": {},
   "source": [
    "# Lists vs. Arrays"
   ]
  },
  {
   "attachments": {},
   "cell_type": "markdown",
   "id": "c8cc0b76",
   "metadata": {},
   "source": [
    "## Size"
   ]
  },
  {
   "cell_type": "markdown",
   "id": "098d5294-225c-49fc-a126-61356f7b6530",
   "metadata": {},
   "source": [
    "The len() function tells you how many elements are in a list or an array. "
   ]
  },
  {
   "cell_type": "code",
   "execution_count": 27,
   "id": "3a4e468b-397d-4d8a-b99e-50d63c801e81",
   "metadata": {},
   "outputs": [],
   "source": [
    "import numpy as np \n",
    "days_info = [['Monday', 'Davaa'], ['Tuesday', 'Myagmar'], ['Wednesday', 'Lkhagva']]\n",
    "array_days_info = np. array(days_info) #to convert a list into an array "
   ]
  },
  {
   "cell_type": "code",
   "execution_count": 28,
   "id": "bca9ce76-84a1-41f5-8945-088cf9739250",
   "metadata": {},
   "outputs": [
    {
     "data": {
      "text/plain": [
       "3"
      ]
     },
     "execution_count": 28,
     "metadata": {},
     "output_type": "execute_result"
    }
   ],
   "source": [
    "len(days_info)"
   ]
  },
  {
   "cell_type": "code",
   "execution_count": 29,
   "id": "ebac4eed-046a-4db2-b162-df099137ad2a",
   "metadata": {},
   "outputs": [
    {
     "data": {
      "text/plain": [
       "3"
      ]
     },
     "execution_count": 29,
     "metadata": {},
     "output_type": "execute_result"
    }
   ],
   "source": [
    "len(array_days_info)"
   ]
  },
  {
   "cell_type": "code",
   "execution_count": 30,
   "id": "435ee6eb-7896-438e-8826-2dd3bc573514",
   "metadata": {},
   "outputs": [
    {
     "data": {
      "text/plain": [
       "(3, 2)"
      ]
     },
     "execution_count": 30,
     "metadata": {},
     "output_type": "execute_result"
    }
   ],
   "source": [
    "array_days_info.shape #shape is not a function but a property of the numpy array. "
   ]
  },
  {
   "attachments": {},
   "cell_type": "markdown",
   "id": "ddd30ac6",
   "metadata": {},
   "source": [
    "## Arrays are fussy about type"
   ]
  },
  {
   "cell_type": "code",
   "execution_count": null,
   "id": "d53717e7-f715-4695-840b-6c52b115bb5a",
   "metadata": {},
   "outputs": [],
   "source": [
    "Arrays can hold only one type of data, while lists can hold multiple. "
   ]
  },
  {
   "cell_type": "code",
   "execution_count": 32,
   "id": "d43cd078-d681-4be0-9463-4228ea0c836e",
   "metadata": {},
   "outputs": [],
   "source": [
    "list = [1, 2 ,'hi']\n",
    "import numpy as np \n",
    "array = np. array (list)"
   ]
  },
  {
   "cell_type": "code",
   "execution_count": 33,
   "id": "720db851-affd-4049-aec2-7d777ccd409e",
   "metadata": {},
   "outputs": [
    {
     "data": {
      "text/plain": [
       "[1, 2, 'hi']"
      ]
     },
     "execution_count": 33,
     "metadata": {},
     "output_type": "execute_result"
    }
   ],
   "source": [
    "list "
   ]
  },
  {
   "cell_type": "code",
   "execution_count": 34,
   "id": "4805507e-de99-4004-8344-38a72ddfc150",
   "metadata": {},
   "outputs": [
    {
     "data": {
      "text/plain": [
       "array(['1', '2', 'hi'], dtype='<U11')"
      ]
     },
     "execution_count": 34,
     "metadata": {},
     "output_type": "execute_result"
    }
   ],
   "source": [
    "array "
   ]
  },
  {
   "cell_type": "markdown",
   "id": "4e0fef5b-9e6f-4fd6-8dc2-d28d8a395c2d",
   "metadata": {},
   "source": [
    "The above can be fixed with a function astypes()"
   ]
  },
  {
   "attachments": {},
   "cell_type": "markdown",
   "id": "3f015317",
   "metadata": {},
   "source": [
    "## Adding another list "
   ]
  },
  {
   "cell_type": "code",
   "execution_count": 35,
   "id": "eceeca17-53c3-4ba9-af19-462a0e6b91e5",
   "metadata": {},
   "outputs": [],
   "source": [
    "list1 = [1, 2, 3, 4]\n",
    "list2 = [11, 12, 13, 14]\n",
    "import numpy as np \n",
    "array1 = np.array (list1)\n",
    "array2 = np.array (list2)"
   ]
  },
  {
   "cell_type": "code",
   "execution_count": 36,
   "id": "6cb301b2-c44c-428a-906a-d6c5363b72e2",
   "metadata": {},
   "outputs": [
    {
     "data": {
      "text/plain": [
       "[1, 2, 3, 4, 11, 12, 13, 14]"
      ]
     },
     "execution_count": 36,
     "metadata": {},
     "output_type": "execute_result"
    }
   ],
   "source": [
    "list1 + list2 "
   ]
  },
  {
   "cell_type": "code",
   "execution_count": 37,
   "id": "3a6dfc2c-9cd1-4442-9f8e-88a43a6e4617",
   "metadata": {},
   "outputs": [
    {
     "data": {
      "text/plain": [
       "array([12, 14, 16, 18])"
      ]
     },
     "execution_count": 37,
     "metadata": {},
     "output_type": "execute_result"
    }
   ],
   "source": [
    "array1 + array2 "
   ]
  },
  {
   "cell_type": "markdown",
   "id": "8e3227e7-c507-423e-a22e-50c166fd6e17",
   "metadata": {},
   "source": [
    "Operations on arrays are element-wise. "
   ]
  },
  {
   "attachments": {},
   "cell_type": "markdown",
   "id": "3e3f3d85",
   "metadata": {},
   "source": [
    "## Adding a number "
   ]
  },
  {
   "cell_type": "code",
   "execution_count": 39,
   "id": "2a7637ae-f294-42c9-a0aa-d81416698723",
   "metadata": {},
   "outputs": [],
   "source": [
    "list = [1, 2, 3, 4]\n",
    "array = np.array (list)"
   ]
  },
  {
   "cell_type": "code",
   "execution_count": 40,
   "id": "bbee7a40-7723-43c9-b1c0-36b51f41f80a",
   "metadata": {},
   "outputs": [
    {
     "data": {
      "text/plain": [
       "array([11, 12, 13, 14])"
      ]
     },
     "execution_count": 40,
     "metadata": {},
     "output_type": "execute_result"
    }
   ],
   "source": [
    "array+ 10 "
   ]
  },
  {
   "cell_type": "code",
   "execution_count": null,
   "id": "d4d21e80-08e5-409e-8fcb-62196b76e564",
   "metadata": {},
   "outputs": [],
   "source": [
    "list+10 # This will result in an error. "
   ]
  },
  {
   "attachments": {},
   "cell_type": "markdown",
   "id": "c7d939ce",
   "metadata": {},
   "source": [
    "## Multiplying by a Number"
   ]
  },
  {
   "cell_type": "code",
   "execution_count": null,
   "id": "56c7e884-b8bc-4175-953e-0f59e3f9baab",
   "metadata": {},
   "outputs": [],
   "source": [
    "list = [1, 2, 3, 4]\n",
    "array = np.array (list)"
   ]
  },
  {
   "cell_type": "code",
   "execution_count": 42,
   "id": "be16aad9-14f2-40e9-913f-69452bb047c0",
   "metadata": {},
   "outputs": [
    {
     "data": {
      "text/plain": [
       "[1, 2, 3, 4, 1, 2, 3, 4, 1, 2, 3, 4]"
      ]
     },
     "execution_count": 42,
     "metadata": {},
     "output_type": "execute_result"
    }
   ],
   "source": [
    "list*3 "
   ]
  },
  {
   "cell_type": "code",
   "execution_count": 43,
   "id": "a0a83c30-187d-4fa9-8066-34e1505d746d",
   "metadata": {},
   "outputs": [
    {
     "data": {
      "text/plain": [
       "array([ 3,  6,  9, 12])"
      ]
     },
     "execution_count": 43,
     "metadata": {},
     "output_type": "execute_result"
    }
   ],
   "source": [
    "array*3 "
   ]
  },
  {
   "attachments": {},
   "cell_type": "markdown",
   "id": "e2b4ab32",
   "metadata": {},
   "source": [
    "## Squaring"
   ]
  },
  {
   "cell_type": "code",
   "execution_count": 45,
   "id": "d67802cf-18c5-4914-8e1c-91fcb1224841",
   "metadata": {},
   "outputs": [],
   "source": [
    "list = [1, 2, 3, 4]\n",
    "array = np.array (list)"
   ]
  },
  {
   "cell_type": "markdown",
   "id": "a21aa921-f42b-499b-8d1d-1833662bc526",
   "metadata": {},
   "source": [
    "Since squaring is just multiplying twice, you can guess that operations on an array will work but not on lists. "
   ]
  },
  {
   "attachments": {},
   "cell_type": "markdown",
   "id": "beb77e5e",
   "metadata": {},
   "source": [
    "## Asking questions"
   ]
  },
  {
   "cell_type": "code",
   "execution_count": 46,
   "id": "28e869d8-90b9-4de6-98a3-9d8de4142d1f",
   "metadata": {},
   "outputs": [],
   "source": [
    "list = [1, 2, 3, 4]\n",
    "array = np.array (list)"
   ]
  },
  {
   "cell_type": "code",
   "execution_count": 47,
   "id": "56d12152",
   "metadata": {},
   "outputs": [
    {
     "data": {
      "text/plain": [
       "False"
      ]
     },
     "execution_count": 47,
     "metadata": {},
     "output_type": "execute_result"
    }
   ],
   "source": [
    "list == 3 "
   ]
  },
  {
   "cell_type": "code",
   "execution_count": 48,
   "id": "00459464-7b3a-4e86-8154-68e980f3097f",
   "metadata": {},
   "outputs": [
    {
     "data": {
      "text/plain": [
       "array([False, False,  True, False])"
      ]
     },
     "execution_count": 48,
     "metadata": {},
     "output_type": "execute_result"
    }
   ],
   "source": [
    "array == 3"
   ]
  },
  {
   "cell_type": "code",
   "execution_count": 49,
   "id": "c390bdf3-3a0e-45c6-8753-cfe9db68f43c",
   "metadata": {},
   "outputs": [
    {
     "data": {
      "text/plain": [
       "False"
      ]
     },
     "execution_count": 49,
     "metadata": {},
     "output_type": "execute_result"
    }
   ],
   "source": [
    "list == 4 "
   ]
  },
  {
   "cell_type": "code",
   "execution_count": 50,
   "id": "4b6c65a5-d5d1-482b-8a06-9f829c3f2ff0",
   "metadata": {},
   "outputs": [
    {
     "data": {
      "text/plain": [
       "array([False, False,  True,  True])"
      ]
     },
     "execution_count": 50,
     "metadata": {},
     "output_type": "execute_result"
    }
   ],
   "source": [
    "array>2 "
   ]
  },
  {
   "cell_type": "markdown",
   "id": "391b58e4-336a-4d29-82e2-8b4fde463868",
   "metadata": {},
   "source": [
    "Operations on arrays will be made on each element. Thus ==3 checks which element is equal to 3, >2 checks which element is greater than 2. "
   ]
  },
  {
   "cell_type": "markdown",
   "id": "675138e7-1c0e-4016-80ff-d00fc8df64c4",
   "metadata": {},
   "source": [
    "list == n will always be false, because you are comparing a single value to a list "
   ]
  },
  {
   "cell_type": "markdown",
   "id": "3344dae9-b871-44d4-bc4c-f9e9df42016e",
   "metadata": {},
   "source": [
    "## Mathematics "
   ]
  },
  {
   "cell_type": "code",
   "execution_count": 52,
   "id": "fa8347c1-5ccc-46ab-ba7a-0aa9b55fdbce",
   "metadata": {},
   "outputs": [],
   "source": [
    "list = [1, 2, 3, 4]\n",
    "array = np.array (list)"
   ]
  },
  {
   "cell_type": "code",
   "execution_count": 55,
   "id": "049e7675-011f-4703-ba19-5da1956aeb10",
   "metadata": {},
   "outputs": [
    {
     "data": {
      "text/plain": [
       "10"
      ]
     },
     "execution_count": 55,
     "metadata": {},
     "output_type": "execute_result"
    }
   ],
   "source": [
    "sum(list)     # sum() is a base Python function"
   ]
  },
  {
   "cell_type": "code",
   "execution_count": 56,
   "id": "6bce4220-783b-46bc-a79f-2439ba8d6c62",
   "metadata": {},
   "outputs": [
    {
     "data": {
      "text/plain": [
       "4"
      ]
     },
     "execution_count": 56,
     "metadata": {},
     "output_type": "execute_result"
    }
   ],
   "source": [
    "max(list)     # max() is a base Python function"
   ]
  },
  {
   "cell_type": "code",
   "execution_count": 58,
   "id": "65d5a3a2-28c5-4acb-a4a1-59509b7c59d8",
   "metadata": {},
   "outputs": [
    {
     "data": {
      "text/plain": [
       "1"
      ]
     },
     "execution_count": 58,
     "metadata": {},
     "output_type": "execute_result"
    }
   ],
   "source": [
    "min(list)     # min() is a base Python function"
   ]
  },
  {
   "cell_type": "code",
   "execution_count": 59,
   "id": "080a46e7-1bba-4f77-98a5-074f7ffe302c",
   "metadata": {},
   "outputs": [
    {
     "data": {
      "text/plain": [
       "10"
      ]
     },
     "execution_count": 59,
     "metadata": {},
     "output_type": "execute_result"
    }
   ],
   "source": [
    "array.sum()"
   ]
  },
  {
   "cell_type": "code",
   "execution_count": 60,
   "id": "bb2b23a5-8945-43ad-abde-e37e7584e5c3",
   "metadata": {},
   "outputs": [
    {
     "data": {
      "text/plain": [
       "4"
      ]
     },
     "execution_count": 60,
     "metadata": {},
     "output_type": "execute_result"
    }
   ],
   "source": [
    "array.max()"
   ]
  },
  {
   "cell_type": "code",
   "execution_count": 61,
   "id": "4591b768-0398-46c7-a9c4-e238cb8e938a",
   "metadata": {},
   "outputs": [
    {
     "data": {
      "text/plain": [
       "1"
      ]
     },
     "execution_count": 61,
     "metadata": {},
     "output_type": "execute_result"
    }
   ],
   "source": [
    "array.min()"
   ]
  },
  {
   "cell_type": "code",
   "execution_count": 62,
   "id": "9b0544af-d0fe-4cad-9b96-41564759fcee",
   "metadata": {},
   "outputs": [
    {
     "data": {
      "text/plain": [
       "2.5"
      ]
     },
     "execution_count": 62,
     "metadata": {},
     "output_type": "execute_result"
    }
   ],
   "source": [
    "array.mean()"
   ]
  },
  {
   "cell_type": "code",
   "execution_count": 63,
   "id": "3c0b0b68-8805-486a-beef-4720a78dc875",
   "metadata": {},
   "outputs": [
    {
     "data": {
      "text/plain": [
       "1.118033988749895"
      ]
     },
     "execution_count": 63,
     "metadata": {},
     "output_type": "execute_result"
    }
   ],
   "source": [
    "array.std()"
   ]
  }
 ],
 "metadata": {
  "kernelspec": {
   "display_name": "Python 3 (ipykernel)",
   "language": "python",
   "name": "python3"
  },
  "language_info": {
   "codemirror_mode": {
    "name": "ipython",
    "version": 3
   },
   "file_extension": ".py",
   "mimetype": "text/x-python",
   "name": "python",
   "nbconvert_exporter": "python",
   "pygments_lexer": "ipython3",
   "version": "3.11.5"
  },
  "toc": {
   "base_numbering": 1,
   "nav_menu": {},
   "number_sections": true,
   "sideBar": true,
   "skip_h1_title": false,
   "title_cell": "Table of Contents",
   "title_sidebar": "Contents",
   "toc_cell": false,
   "toc_position": {},
   "toc_section_display": true,
   "toc_window_display": false
  },
  "vscode": {
   "interpreter": {
    "hash": "31f2aee4e71d21fbe5cf8b01ff0e069b9275f58929596ceb00d14d90e3e16cd6"
   }
  }
 },
 "nbformat": 4,
 "nbformat_minor": 5
}
