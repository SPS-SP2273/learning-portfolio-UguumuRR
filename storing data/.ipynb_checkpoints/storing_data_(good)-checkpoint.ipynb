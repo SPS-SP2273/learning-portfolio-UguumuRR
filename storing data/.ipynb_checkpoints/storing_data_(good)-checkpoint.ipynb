{
 "cells": [
  {
   "attachments": {},
   "cell_type": "markdown",
   "id": "123456",
   "metadata": {},
   "source": [
    "<div style=\"text-align:left;font-size:2em\"><span style=\"font-weight:bolder;font-size:1.25em\">SP2273 | Learning Portfolio</span><br><br><span style=\"font-weight:bold;color:darkred\">Storing Data (Good)</span></div>"
   ]
  },
  {
   "attachments": {},
   "cell_type": "markdown",
   "id": "f4f24681",
   "metadata": {},
   "source": [
    "# What to expect in this chapter"
   ]
  },
  {
   "attachments": {},
   "cell_type": "markdown",
   "id": "aa0a1655",
   "metadata": {},
   "source": [
    "# 1 Subsetting: Indexing and Slicing"
   ]
  },
  {
   "cell_type": "markdown",
   "id": "2925e488-1b9c-4b1f-a5fc-1adfdfb2cb0b",
   "metadata": {},
   "source": [
    "- __Subsetting__ means to 'select'. \n",
    "- __Indexing__ refers to selecting one element.\n",
    "- __Slicing__ refers to selecting a range of elements. "
   ]
  },
  {
   "attachments": {},
   "cell_type": "markdown",
   "id": "2644414d",
   "metadata": {},
   "source": [
    "## 1.1 Lists & Arrays in 1D | Subsetting & Indexing"
   ]
  },
  {
   "cell_type": "markdown",
   "id": "4f5d96ae-6c1c-47c1-ba80-3b465d886fbc",
   "metadata": {},
   "source": [
    "Slicing applies to both lists and arrays. "
   ]
  },
  {
   "cell_type": "code",
   "execution_count": 1,
   "id": "bce7336d-61c5-44ac-9a32-7ee767c938ff",
   "metadata": {},
   "outputs": [
    {
     "data": {
      "text/plain": [
       "'a1'"
      ]
     },
     "execution_count": 1,
     "metadata": {},
     "output_type": "execute_result"
    }
   ],
   "source": [
    "list = ['a1', 'b2', 'c3', 'd4', 'f5', 'g6', 'h7', 'i8']\n",
    "list[0]"
   ]
  },
  {
   "cell_type": "code",
   "execution_count": 2,
   "id": "5974c60b-ffe3-4256-9287-3ea90edb14b5",
   "metadata": {},
   "outputs": [
    {
     "data": {
      "text/plain": [
       "['a1', 'b2', 'c3', 'd4', 'f5']"
      ]
     },
     "execution_count": 2,
     "metadata": {},
     "output_type": "execute_result"
    }
   ],
   "source": [
    "list[0:5] #5 is exclusive"
   ]
  },
  {
   "cell_type": "code",
   "execution_count": 3,
   "id": "412df2ce-1135-4b4c-a69d-ad3e8efa65f2",
   "metadata": {},
   "outputs": [
    {
     "data": {
      "text/plain": [
       "['a1', 'b2', 'c3', 'd4', 'f5']"
      ]
     },
     "execution_count": 3,
     "metadata": {},
     "output_type": "execute_result"
    }
   ],
   "source": [
    "x = list\n",
    "x[0:5]  #I am so confused by its result. "
   ]
  },
  {
   "cell_type": "code",
   "execution_count": 4,
   "id": "73ff4c32-0530-416f-a03d-b082ea70c428",
   "metadata": {},
   "outputs": [
    {
     "data": {
      "text/plain": [
       "['a1', 'c3']"
      ]
     },
     "execution_count": 4,
     "metadata": {},
     "output_type": "execute_result"
    }
   ],
   "source": [
    "x[0:4:2] #in steps of two "
   ]
  },
  {
   "cell_type": "code",
   "execution_count": 5,
   "id": "509404fd-0ecf-489a-a5a8-5d843b212227",
   "metadata": {},
   "outputs": [
    {
     "data": {
      "text/plain": [
       "['f5', 'd4']"
      ]
     },
     "execution_count": 5,
     "metadata": {},
     "output_type": "execute_result"
    }
   ],
   "source": [
    "x[4:2:-1] #index 4 to 2 in reverse"
   ]
  },
  {
   "cell_type": "code",
   "execution_count": 7,
   "id": "dfcf6003-b338-4acf-9d05-d33f597f3fef",
   "metadata": {},
   "outputs": [
    {
     "data": {
      "text/plain": [
       "['i8', 'h7', 'g6', 'f5', 'd4', 'c3', 'b2', 'a1']"
      ]
     },
     "execution_count": 7,
     "metadata": {},
     "output_type": "execute_result"
    }
   ],
   "source": [
    "x[::-1] #reverses the list "
   ]
  },
  {
   "attachments": {},
   "cell_type": "markdown",
   "id": "52b5324c",
   "metadata": {},
   "source": [
    "## 1.2 Arrays only | Subsetting by masking"
   ]
  },
  {
   "cell_type": "markdown",
   "id": "0453f42a-a4fa-46f8-8642-a0a7b5a2b4aa",
   "metadata": {},
   "source": [
    "Numpy arrays can be subsetted by masking. It is like filtering. "
   ]
  },
  {
   "cell_type": "code",
   "execution_count": 8,
   "id": "b62fa86d-0ca4-4f38-a246-59b36a41db85",
   "metadata": {},
   "outputs": [
    {
     "data": {
      "text/plain": [
       "array([False, False, False, False, False,  True,  True,  True,  True])"
      ]
     },
     "execution_count": 8,
     "metadata": {},
     "output_type": "execute_result"
    }
   ],
   "source": [
    "import numpy as np \n",
    "array = np. array([1, 2, 3, 4, 5, 6, 7, 8, 9])\n",
    "mask = array > 5\n",
    "mask "
   ]
  },
  {
   "cell_type": "code",
   "execution_count": 9,
   "id": "cff7ade2-cc6f-4adc-a558-9cbf49d4b966",
   "metadata": {},
   "outputs": [
    {
     "data": {
      "text/plain": [
       "array([6, 7, 8, 9])"
      ]
     },
     "execution_count": 9,
     "metadata": {},
     "output_type": "execute_result"
    }
   ],
   "source": [
    "# To show only true ones: \n",
    "array[mask]"
   ]
  },
  {
   "cell_type": "code",
   "execution_count": 10,
   "id": "e7f10a85-d5cf-4b42-a992-387e61f82826",
   "metadata": {},
   "outputs": [
    {
     "data": {
      "text/plain": [
       "array([6, 7, 8, 9])"
      ]
     },
     "execution_count": 10,
     "metadata": {},
     "output_type": "execute_result"
    }
   ],
   "source": [
    "array[array>5]"
   ]
  },
  {
   "cell_type": "code",
   "execution_count": 12,
   "id": "b53b83ac-ea5d-4ae4-85fd-4f9ce241aafe",
   "metadata": {},
   "outputs": [
    {
     "data": {
      "text/plain": [
       "array([1, 2, 3, 4, 5])"
      ]
     },
     "execution_count": 12,
     "metadata": {},
     "output_type": "execute_result"
    }
   ],
   "source": [
    "array[~(array>5)] # ~ means not  "
   ]
  },
  {
   "cell_type": "code",
   "execution_count": 13,
   "id": "3410cadd-e0ed-468f-bff5-f8a95a6ee455",
   "metadata": {},
   "outputs": [
    {
     "data": {
      "text/plain": [
       "array([7, 8, 9])"
      ]
     },
     "execution_count": 13,
     "metadata": {},
     "output_type": "execute_result"
    }
   ],
   "source": [
    "array[(array>5) & (array>6)] "
   ]
  },
  {
   "cell_type": "code",
   "execution_count": 14,
   "id": "c0a35925-1441-441a-a31d-54c4f54b222a",
   "metadata": {},
   "outputs": [
    {
     "data": {
      "text/plain": [
       "array([6, 7, 8, 9])"
      ]
     },
     "execution_count": 14,
     "metadata": {},
     "output_type": "execute_result"
    }
   ],
   "source": [
    "array[(array>5) | (array>6)] # '|' means or "
   ]
  },
  {
   "attachments": {},
   "cell_type": "markdown",
   "id": "a97f8c4c",
   "metadata": {},
   "source": [
    "## 1.3 Lists & Arrays in 2D | Indexing & Slicing"
   ]
  },
  {
   "cell_type": "code",
   "execution_count": 15,
   "id": "7d9ee4c0-2171-4d2e-8f42-29291f288571",
   "metadata": {},
   "outputs": [],
   "source": [
    "py_list_2d = [[1, \"A\"], [2, \"B\"], [3, \"C\"], [4, \"D\"],\n",
    "              [5, \"E\"], [6, \"F\"], [7, \"G\"], [8, \"H\"],\n",
    "              [9, \"I\"], [10, \"J\"]]\n",
    "\n",
    "np_array_2d = np.array(py_list_2d)"
   ]
  },
  {
   "cell_type": "code",
   "execution_count": 17,
   "id": "473617b2-0c9e-4416-8e2d-2115ba69d8ce",
   "metadata": {},
   "outputs": [
    {
     "data": {
      "text/plain": [
       "[4, 'D']"
      ]
     },
     "execution_count": 17,
     "metadata": {},
     "output_type": "execute_result"
    }
   ],
   "source": [
    "py_list_2d[3]"
   ]
  },
  {
   "cell_type": "code",
   "execution_count": 18,
   "id": "5c1dbbf5-b44a-40f5-a8bc-5d853288a17a",
   "metadata": {},
   "outputs": [
    {
     "data": {
      "text/plain": [
       "array(['4', 'D'], dtype='<U11')"
      ]
     },
     "execution_count": 18,
     "metadata": {},
     "output_type": "execute_result"
    }
   ],
   "source": [
    "np_array_2d[3]"
   ]
  },
  {
   "cell_type": "code",
   "execution_count": 19,
   "id": "c08f6388-87c8-477a-971e-8c3f9f017439",
   "metadata": {},
   "outputs": [
    {
     "data": {
      "text/plain": [
       "4"
      ]
     },
     "execution_count": 19,
     "metadata": {},
     "output_type": "execute_result"
    }
   ],
   "source": [
    "py_list_2d[3][0]"
   ]
  },
  {
   "cell_type": "code",
   "execution_count": 20,
   "id": "05d773e3-91c0-4e43-a86f-cf37f31ff25c",
   "metadata": {},
   "outputs": [
    {
     "data": {
      "text/plain": [
       "'4'"
      ]
     },
     "execution_count": 20,
     "metadata": {},
     "output_type": "execute_result"
    }
   ],
   "source": [
    "np_array_2d[3, 0]"
   ]
  },
  {
   "cell_type": "code",
   "execution_count": 21,
   "id": "44a979f9-033a-45ae-a4df-8ecd46a493c4",
   "metadata": {},
   "outputs": [
    {
     "data": {
      "text/plain": [
       "[[1, 'A'], [2, 'B'], [3, 'C']]"
      ]
     },
     "execution_count": 21,
     "metadata": {},
     "output_type": "execute_result"
    }
   ],
   "source": [
    "py_list_2d[:3]"
   ]
  },
  {
   "cell_type": "code",
   "execution_count": 22,
   "id": "ad05c368-cacc-48d6-91c9-8e132a04874d",
   "metadata": {},
   "outputs": [
    {
     "data": {
      "text/plain": [
       "array([['1', 'A'],\n",
       "       ['2', 'B'],\n",
       "       ['3', 'C']], dtype='<U11')"
      ]
     },
     "execution_count": 22,
     "metadata": {},
     "output_type": "execute_result"
    }
   ],
   "source": [
    "np_array_2d[:3]"
   ]
  },
  {
   "cell_type": "code",
   "execution_count": 27,
   "id": "b21700f4-ccca-487e-bdee-570d4e62008e",
   "metadata": {},
   "outputs": [
    {
     "data": {
      "text/plain": [
       "[1, 'A']"
      ]
     },
     "execution_count": 27,
     "metadata": {},
     "output_type": "execute_result"
    }
   ],
   "source": [
    "py_list_2d[:3][0] #You might think that this will yield the first elements (i.e., [1, 2, 3]) of all the sub-lists up to index 2.\n",
    "                    #No! Instead, it gives the first of the list you get from py_list_2d[:3]."
   ]
  },
  {
   "cell_type": "code",
   "execution_count": 28,
   "id": "055a1be7-9ce3-4bfe-8530-d02cf30b1d7b",
   "metadata": {},
   "outputs": [
    {
     "data": {
      "text/plain": [
       "array(['1', '2', '3'], dtype='<U11')"
      ]
     },
     "execution_count": 28,
     "metadata": {},
     "output_type": "execute_result"
    }
   ],
   "source": [
    "np_array_2d[:3, 0] "
   ]
  },
  {
   "cell_type": "code",
   "execution_count": 29,
   "id": "97307896-543f-4b15-89a7-7429af7caef5",
   "metadata": {},
   "outputs": [
    {
     "data": {
      "text/plain": [
       "[4, 'D']"
      ]
     },
     "execution_count": 29,
     "metadata": {},
     "output_type": "execute_result"
    }
   ],
   "source": [
    "py_list_2d[3:6][0]"
   ]
  },
  {
   "cell_type": "code",
   "execution_count": 30,
   "id": "5c48b143-6465-499a-bd24-2303b366336d",
   "metadata": {},
   "outputs": [
    {
     "data": {
      "text/plain": [
       "array(['4', '5', '6'], dtype='<U11')"
      ]
     },
     "execution_count": 30,
     "metadata": {},
     "output_type": "execute_result"
    }
   ],
   "source": [
    "np_array_2d[3:6, 0]"
   ]
  },
  {
   "cell_type": "code",
   "execution_count": 31,
   "id": "61cde7e9-b3ed-46e7-a373-365616ba706f",
   "metadata": {},
   "outputs": [
    {
     "data": {
      "text/plain": [
       "array(['1', '2', '3', '4', '5', '6', '7', '8', '9', '10'], dtype='<U11')"
      ]
     },
     "execution_count": 31,
     "metadata": {},
     "output_type": "execute_result"
    }
   ],
   "source": [
    "np_array_2d[:, 0]"
   ]
  },
  {
   "attachments": {},
   "cell_type": "markdown",
   "id": "342e27b2",
   "metadata": {},
   "source": [
    "## 1.4 Growing lists"
   ]
  },
  {
   "cell_type": "markdown",
   "id": "1ae0e507-12ab-4151-8be1-d9edc192c37d",
   "metadata": {},
   "source": [
    "One big advantage of lists is that they can grow. "
   ]
  },
  {
   "cell_type": "code",
   "execution_count": 32,
   "id": "6f0bdeeb-849e-4ce1-8e55-285703f3db15",
   "metadata": {},
   "outputs": [
    {
     "data": {
      "text/plain": [
       "[1, 2, 1, 2, 1, 2, 1, 2]"
      ]
     },
     "execution_count": 32,
     "metadata": {},
     "output_type": "execute_result"
    }
   ],
   "source": [
    "x=[1, 2]*4\n",
    "x"
   ]
  },
  {
   "cell_type": "code",
   "execution_count": 33,
   "id": "f6a9f8b8-25aa-4a66-9de6-d2ef8266446c",
   "metadata": {},
   "outputs": [
    {
     "data": {
      "text/plain": [
       "[1, 2, 3, 4]"
      ]
     },
     "execution_count": 33,
     "metadata": {},
     "output_type": "execute_result"
    }
   ],
   "source": [
    "x=[1]\n",
    "x= x + [2]\n",
    "x= x + [3]\n",
    "x= x + [4]\n",
    "x"
   ]
  },
  {
   "cell_type": "code",
   "execution_count": 34,
   "id": "f57dd786-bc0e-4bd0-8e1a-02a1c6a9edde",
   "metadata": {},
   "outputs": [
    {
     "data": {
      "text/plain": [
       "[1, 2, 3, 4]"
      ]
     },
     "execution_count": 34,
     "metadata": {},
     "output_type": "execute_result"
    }
   ],
   "source": [
    "x=[1]\n",
    "x+= [2]\n",
    "x+= [3]\n",
    "x+= [4]\n",
    "x"
   ]
  },
  {
   "cell_type": "code",
   "execution_count": 35,
   "id": "8c6c515b-cdb5-4200-8826-6d4e4486d97b",
   "metadata": {},
   "outputs": [
    {
     "data": {
      "text/plain": [
       "[1, 2, 3, 4]"
      ]
     },
     "execution_count": 35,
     "metadata": {},
     "output_type": "execute_result"
    }
   ],
   "source": [
    "x=[1]\n",
    "x.append(2)\n",
    "x.append(3)\n",
    "x.append(4)\n",
    "x"
   ]
  },
  {
   "cell_type": "markdown",
   "id": "e12895e4-8d75-4597-a74d-1dc80e1ee4f8",
   "metadata": {},
   "source": [
    "The difference between the above three executions is their runtime. "
   ]
  },
  {
   "cell_type": "code",
   "execution_count": 36,
   "id": "b72d0561-bc64-4f1c-852b-12bc65ae20ba",
   "metadata": {},
   "outputs": [
    {
     "data": {
      "text/plain": [
       "[1, 2, 3, 4, 5, 6]"
      ]
     },
     "execution_count": 36,
     "metadata": {},
     "output_type": "execute_result"
    }
   ],
   "source": [
    "x=[1, 2, 3]\n",
    "x.extend([4, 5, 6])\n",
    "x"
   ]
  },
  {
   "cell_type": "code",
   "execution_count": 37,
   "id": "8e32bbe1-cc76-4b9e-9f4b-d7f938ddaac6",
   "metadata": {},
   "outputs": [
    {
     "data": {
      "text/plain": [
       "[1, 2, 3, [4, 5, 6]]"
      ]
     },
     "execution_count": 37,
     "metadata": {},
     "output_type": "execute_result"
    }
   ],
   "source": [
    "x=[1, 2, 3]\n",
    "x.append([4, 5, 6])\n",
    "x"
   ]
  },
  {
   "cell_type": "markdown",
   "id": "eb292bf2-c5e6-4ec8-b225-6df721ad1b3f",
   "metadata": {},
   "source": [
    "If you want to extend it without brackets, use extend. But if you need to separate between the elements, use append. "
   ]
  },
  {
   "attachments": {},
   "cell_type": "markdown",
   "id": "f0fc81a2",
   "metadata": {},
   "source": [
    "# Some loose ends"
   ]
  },
  {
   "attachments": {},
   "cell_type": "markdown",
   "id": "c291c821",
   "metadata": {},
   "source": [
    "## 1.5 Tuples"
   ]
  },
  {
   "cell_type": "markdown",
   "id": "fbb851de-4b6d-4351-a303-bc0be259377f",
   "metadata": {},
   "source": [
    "Tuples are immutable, and they use () like lists. "
   ]
  },
  {
   "cell_type": "code",
   "execution_count": 40,
   "id": "ea659bf2-80e5-4245-9194-9418abd7f41d",
   "metadata": {},
   "outputs": [
    {
     "name": "stdout",
     "output_type": "stream",
     "text": [
      "4\n"
     ]
    }
   ],
   "source": [
    "a = (4, 5, 6) #Defining a tuple\n",
    "print(a[0])"
   ]
  },
  {
   "cell_type": "markdown",
   "id": "f014f094-a91e-4c02-b095-8a106ea3e0e0",
   "metadata": {},
   "source": [
    "#The following will result in an error as tuples are immutable. \n",
    "a[0]=-1\n",
    "a[0]+= [10]"
   ]
  },
  {
   "attachments": {},
   "cell_type": "markdown",
   "id": "cc834ee2",
   "metadata": {},
   "source": [
    "## 1.6 Be VERY careful when copying"
   ]
  },
  {
   "cell_type": "code",
   "execution_count": 44,
   "id": "25954035-5e8a-40c3-84be-4b44859d0228",
   "metadata": {},
   "outputs": [
    {
     "data": {
      "text/plain": [
       "[1, 2, 3]"
      ]
     },
     "execution_count": 44,
     "metadata": {},
     "output_type": "execute_result"
    }
   ],
   "source": [
    "x = [1, 2, 3]\n",
    "#to copy the above, do the following to not further add misery to your already desperate human existence. \n",
    "y = x. copy() \n",
    "y"
   ]
  },
  {
   "attachments": {},
   "cell_type": "markdown",
   "id": "194c9803",
   "metadata": {},
   "source": [
    "# Exercises & Self-Assessment"
   ]
  },
  {
   "cell_type": "code",
   "execution_count": 45,
   "id": "b60dfe1d",
   "metadata": {},
   "outputs": [
    {
     "data": {
      "text/plain": [
       "False"
      ]
     },
     "execution_count": 45,
     "metadata": {},
     "output_type": "execute_result"
    }
   ],
   "source": [
    "py_list = [1, 2, 3, 4, 5]\n",
    "py_list ==5    # Works, but what IS the question?\n",
    "# The answer to this will always be false, as it is comparing a single number to a list. "
   ]
  },
  {
   "attachments": {},
   "cell_type": "markdown",
   "id": "8b81c7d6",
   "metadata": {},
   "source": [
    "## Footnotes"
   ]
  }
 ],
 "metadata": {
  "kernelspec": {
   "display_name": "Python 3 (ipykernel)",
   "language": "python",
   "name": "python3"
  },
  "language_info": {
   "codemirror_mode": {
    "name": "ipython",
    "version": 3
   },
   "file_extension": ".py",
   "mimetype": "text/x-python",
   "name": "python",
   "nbconvert_exporter": "python",
   "pygments_lexer": "ipython3",
   "version": "3.11.5"
  },
  "toc": {
   "base_numbering": 1,
   "nav_menu": {},
   "number_sections": true,
   "sideBar": true,
   "skip_h1_title": false,
   "title_cell": "Table of Contents",
   "title_sidebar": "Contents",
   "toc_cell": false,
   "toc_position": {},
   "toc_section_display": true,
   "toc_window_display": false
  },
  "vscode": {
   "interpreter": {
    "hash": "31f2aee4e71d21fbe5cf8b01ff0e069b9275f58929596ceb00d14d90e3e16cd6"
   }
  }
 },
 "nbformat": 4,
 "nbformat_minor": 5
}
