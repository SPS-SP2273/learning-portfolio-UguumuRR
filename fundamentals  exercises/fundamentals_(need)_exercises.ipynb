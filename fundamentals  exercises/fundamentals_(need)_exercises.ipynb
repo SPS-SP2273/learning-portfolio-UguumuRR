{
 "cells": [
  {
   "attachments": {},
   "cell_type": "markdown",
   "id": "123456",
   "metadata": {},
   "source": [
    "<div style=\"text-align:left;font-size:2em\"><span style=\"font-weight:bolder;font-size:1.25em\">SP2273 | Learning Portfolio</span><br><br><span style=\"font-weight:bold;color:darkred\">Fundamentals (Good) Exercises</span></div>"
   ]
  },
  {
   "cell_type": "markdown",
   "id": "916e0fdb-575c-481b-8f78-31b2d1933682",
   "metadata": {},
   "source": [
    "## Exercise (What is your grade?)"
   ]
  },
  {
   "cell_type": "code",
   "execution_count": 13,
   "id": "f8ebb430-326f-46ff-997b-5b42e24e775a",
   "metadata": {},
   "outputs": [
    {
     "name": "stdin",
     "output_type": "stream",
     "text": [
      "Enter the student's score: 97\n"
     ]
    },
    {
     "name": "stdout",
     "output_type": "stream",
     "text": [
      "The student's letter grade is: A\n"
     ]
    }
   ],
   "source": [
    "score = float(input(\"Enter the student's score:\"))\n",
    "\n",
    "if 100 >= score > 69:\n",
    "    grade = 'A'\n",
    "    print(\"The student's letter grade is:\", grade)\n",
    "elif 69>=score > 49:\n",
    "    grade = 'B'\n",
    "    print(\"The student's letter grade is:\", grade)\n",
    "elif 49>=score > 34:\n",
    "    grade = 'C'\n",
    "    print(\"The student's letter grade is:\", grade)\n",
    "elif 0 <= score <= 34:\n",
    "    grade = 'Fail'\n",
    "    print(\"The student's letter grade is:\", grade)\n",
    "else:\n",
    "    print('Your score should be in the 0-100 range')\n",
    "\n",
    "\n",
    "\n"
   ]
  },
  {
   "cell_type": "code",
   "execution_count": null,
   "id": "929e0b41-6076-4335-9205-3f2640c4bc80",
   "metadata": {},
   "outputs": [],
   "source": []
  }
 ],
 "metadata": {
  "kernelspec": {
   "display_name": "Python 3 (ipykernel)",
   "language": "python",
   "name": "python3"
  },
  "language_info": {
   "codemirror_mode": {
    "name": "ipython",
    "version": 3
   },
   "file_extension": ".py",
   "mimetype": "text/x-python",
   "name": "python",
   "nbconvert_exporter": "python",
   "pygments_lexer": "ipython3",
   "version": "3.11.5"
  },
  "toc": {
   "base_numbering": 1,
   "nav_menu": {},
   "number_sections": true,
   "sideBar": true,
   "skip_h1_title": false,
   "title_cell": "Table of Contents",
   "title_sidebar": "Contents",
   "toc_cell": false,
   "toc_position": {},
   "toc_section_display": true,
   "toc_window_display": false
  },
  "vscode": {
   "interpreter": {
    "hash": "31f2aee4e71d21fbe5cf8b01ff0e069b9275f58929596ceb00d14d90e3e16cd6"
   }
  }
 },
 "nbformat": 4,
 "nbformat_minor": 5
}
