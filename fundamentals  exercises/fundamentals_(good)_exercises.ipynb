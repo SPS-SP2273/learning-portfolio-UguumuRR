{
 "cells": [
  {
   "attachments": {},
   "cell_type": "markdown",
   "id": "123456",
   "metadata": {},
   "source": [
    "<div style=\"text-align:left;font-size:2em\"><span style=\"font-weight:bolder;font-size:1.25em\">SP2273 | Learning Portfolio</span><br><br><span style=\"font-weight:bold;color:darkred\">Fundamentals (Need) Exercises</span></div>"
   ]
  },
  {
   "cell_type": "markdown",
   "id": "e4d9806e-59fb-4f41-b691-0cb6c6da3ebf",
   "metadata": {},
   "source": [
    "## Exercise 1 (Total recall)\n",
    "\n",
    "1. Functions such as print(), exit(). Some functions require arguments, while others don't.\n",
    "2. Python is case-sensitive, which means Hi and hi are different in Python. \n",
    "3. To write comments explaining a code, start with #. \n",
    "4. While == checks something is true, = assigns a value to a given variable. Also, we cannot name a variable with reserved words.\n",
    "5. If is a conditional statement. \n",
    "6. Be careful with indents. \n",
    "7. Don't mix strings with variable names. 'Strings' are inside quotation marks. \n",
    "8. There are different types of brackets with different uses. [] is used for lists while {} is used for dictionaries. () is used to call functions and maths. \n",
    "9. Packages are like extension tool, and you need to import them. \n",
    "10. The dot(.) refers to ownership and its access depends on the context. "
   ]
  },
  {
   "cell_type": "markdown",
   "id": "5e7ecda7-ca1b-42de-b9ca-8e7140f2c9b5",
   "metadata": {},
   "source": [
    "## Exercise 2 (Debugging)\n"
   ]
  },
  {
   "cell_type": "code",
   "execution_count": 7,
   "id": "532641b4-04f6-4680-8093-65700938f13a",
   "metadata": {},
   "outputs": [
    {
     "name": "stdout",
     "output_type": "stream",
     "text": [
      "3 4 5\n"
     ]
    }
   ],
   "source": [
    "x, y= 3, 4\n",
    "import math \n",
    "z=int(math.sqrt(x**2+y**2)) #this is just because I want all of them to be integers.\n",
    "print(x,y,z)"
   ]
  },
  {
   "cell_type": "markdown",
   "id": "a4f2b971-cb81-4a67-b680-2135de7a26b8",
   "metadata": {},
   "source": [
    "## Exercise 3 "
   ]
  },
  {
   "cell_type": "markdown",
   "id": "743812f0-3442-4e7d-9281-d800422dee2d",
   "metadata": {},
   "source": [
    "|     |  Term  |  Description |\n",
    "| :---: | :-- | :--- |\n",
    "| 1   |  Function  |  It takes an input (not necessarily) and does operations to create an output.  |\n",
    "| 2   |  Arguments  |  It is the input for a function. |\n",
    "| 3   |  Comments  |   It is a message for humans to read and Python to ignore. |\n",
    "| 4   |  Indentations   |    They are very important for Python to recognize what is what. |\n",
    "| 5   | Packages | They are extension tools that allow more operations. |\n",
    "| 6   |  . |   It indicates what the element after the dot belongs to. |\n",
    "| 7   |  :  |   If it is used in the if-elif-else statements, the condition to checks follows below. |\n",
    "| 8   |  []  |   It is used for lists. |\n",
    "| 9   |  [[[]]]  |   I actually have no idea. |\n",
    "| 10  |  {}  |  It is used for dictionaries. |"
   ]
  },
  {
   "cell_type": "markdown",
   "id": "10fe63d0-cc66-4c83-805c-65b786f383df",
   "metadata": {},
   "source": [
    "## Exercise 4 (More than one way to divide)"
   ]
  },
  {
   "cell_type": "code",
   "execution_count": 9,
   "id": "bb433f00-e773-48ea-9ee6-d4c1985d2f97",
   "metadata": {},
   "outputs": [
    {
     "data": {
      "text/plain": [
       "2.5"
      ]
     },
     "execution_count": 9,
     "metadata": {},
     "output_type": "execute_result"
    }
   ],
   "source": [
    "5/2 #This is a regular division. "
   ]
  },
  {
   "cell_type": "code",
   "execution_count": 11,
   "id": "c6160818-4410-44c9-a396-8ada69460b13",
   "metadata": {},
   "outputs": [
    {
     "data": {
      "text/plain": [
       "2"
      ]
     },
     "execution_count": 11,
     "metadata": {},
     "output_type": "execute_result"
    }
   ],
   "source": [
    "5//2 #This is a floor division."
   ]
  },
  {
   "cell_type": "code",
   "execution_count": 12,
   "id": "cd8a48e8-843c-4ab2-a68c-9e76035d5b97",
   "metadata": {},
   "outputs": [
    {
     "data": {
      "text/plain": [
       "1"
      ]
     },
     "execution_count": 12,
     "metadata": {},
     "output_type": "execute_result"
    }
   ],
   "source": [
    "5%2 #This gives out the remainder of the division. "
   ]
  },
  {
   "cell_type": "code",
   "execution_count": null,
   "id": "efccf5f5-7489-463b-8d3f-c5055b0a4ca6",
   "metadata": {},
   "outputs": [],
   "source": []
  }
 ],
 "metadata": {
  "kernelspec": {
   "display_name": "Python 3 (ipykernel)",
   "language": "python",
   "name": "python3"
  },
  "language_info": {
   "codemirror_mode": {
    "name": "ipython",
    "version": 3
   },
   "file_extension": ".py",
   "mimetype": "text/x-python",
   "name": "python",
   "nbconvert_exporter": "python",
   "pygments_lexer": "ipython3",
   "version": "3.11.5"
  },
  "toc": {
   "base_numbering": 1,
   "nav_menu": {},
   "number_sections": true,
   "sideBar": true,
   "skip_h1_title": false,
   "title_cell": "Table of Contents",
   "title_sidebar": "Contents",
   "toc_cell": false,
   "toc_position": {},
   "toc_section_display": true,
   "toc_window_display": false
  },
  "vscode": {
   "interpreter": {
    "hash": "31f2aee4e71d21fbe5cf8b01ff0e069b9275f58929596ceb00d14d90e3e16cd6"
   }
  }
 },
 "nbformat": 4,
 "nbformat_minor": 5
}
