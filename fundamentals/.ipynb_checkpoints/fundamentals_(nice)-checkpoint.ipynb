{
 "cells": [
  {
   "attachments": {},
   "cell_type": "markdown",
   "id": "123456",
   "metadata": {},
   "source": [
    "<div style=\"text-align:left;font-size:2em\"><span style=\"font-weight:bolder;font-size:1.25em\">SP2273 | Learning Portfolio</span><br><br><span style=\"font-weight:bold;color:darkred\">Fundamentals (Nice)</span></div>"
   ]
  },
  {
   "attachments": {},
   "cell_type": "markdown",
   "id": "4432fb4c",
   "metadata": {},
   "source": [
    "# If if is not enough"
   ]
  },
  {
   "cell_type": "markdown",
   "id": "aaeee4fd-5347-4b3f-ba91-13d71d6ae0fa",
   "metadata": {},
   "source": [
    "Match statements: "
   ]
  },
  {
   "cell_type": "code",
   "execution_count": 1,
   "id": "6a54b577-3c20-4f44-9a82-5cc6031d815f",
   "metadata": {},
   "outputs": [
    {
     "name": "stdout",
     "output_type": "stream",
     "text": [
      "Hello Hero | Batman!\n"
     ]
    }
   ],
   "source": [
    "name = 'Batman'\n",
    "\n",
    "match name:\n",
    "    case 'Batman':\n",
    "        print('Hello Hero | Batman!')\n",
    "    case 'Robin':\n",
    "        print('Hello Sidekick | Robin!')\n",
    "    case _:\n",
    "        print('Hello World!')"
   ]
  },
  {
   "attachments": {},
   "cell_type": "markdown",
   "id": "915edb5d",
   "metadata": {},
   "source": [
    "# Ternary operators or Conditional Statements"
   ]
  },
  {
   "cell_type": "markdown",
   "id": "11c4015b-a476-45ae-bf99-d25538bb9359",
   "metadata": {},
   "source": [
    "To make your code more readable, you can use ternary operators (containing three parts).\n"
   ]
  },
  {
   "cell_type": "code",
   "execution_count": 17,
   "id": "44993b49-a0ae-436b-9411-091bfd836a3d",
   "metadata": {},
   "outputs": [],
   "source": [
    "nationality='French'\n",
    "if nationality == 'French':\n",
    "    greeting = \"Bonjour!\"\n",
    "else:\n",
    "    greeting = \"Hello!\""
   ]
  },
  {
   "cell_type": "markdown",
   "id": "b3277b35-a26c-45c0-b16c-1095e6944e62",
   "metadata": {},
   "source": [
    "The above code can be written in the following 2 ways. "
   ]
  },
  {
   "cell_type": "code",
   "execution_count": 18,
   "id": "023883c0-42fe-456d-9aa8-fdb65407a431",
   "metadata": {},
   "outputs": [],
   "source": [
    "greeting = \"Bonjour!\" if nationality == 'French' else \"Hello!\""
   ]
  },
  {
   "cell_type": "code",
   "execution_count": 19,
   "id": "861123a4-a19a-42c6-b0d5-2edfa365fb90",
   "metadata": {},
   "outputs": [
    {
     "data": {
      "text/plain": [
       "'Bonjour!'"
      ]
     },
     "execution_count": 19,
     "metadata": {},
     "output_type": "execute_result"
    }
   ],
   "source": [
    "(\"Hello!\", \"Bonjour!\")[nationality == 'French']"
   ]
  },
  {
   "cell_type": "code",
   "execution_count": 20,
   "id": "0a121945-1a84-4054-af15-b52a93358502",
   "metadata": {},
   "outputs": [],
   "source": [
    "text = None\n",
    "message = text or \"No message!\""
   ]
  },
  {
   "attachments": {},
   "cell_type": "markdown",
   "id": "3f761dd8",
   "metadata": {},
   "source": [
    "# Swapping values"
   ]
  },
  {
   "cell_type": "markdown",
   "id": "16e93122-e740-4144-9a3a-097d93d49d45",
   "metadata": {},
   "source": [
    "The following variable swapping only works with Python. "
   ]
  },
  {
   "cell_type": "code",
   "execution_count": 24,
   "id": "7228f7c1-afe5-4318-91ee-44f655bd20a6",
   "metadata": {},
   "outputs": [
    {
     "name": "stdout",
     "output_type": "stream",
     "text": [
      "hi\n"
     ]
    }
   ],
   "source": [
    "b='hi'\n",
    "a='bye'\n",
    "a, b= b, a\n",
    "print(a)"
   ]
  },
  {
   "attachments": {},
   "cell_type": "markdown",
   "id": "b16dac88",
   "metadata": {},
   "source": [
    "# There are more types"
   ]
  },
  {
   "cell_type": "markdown",
   "id": "482b1f8a-d83b-4ba8-9d08-1734d49ba038",
   "metadata": {},
   "source": [
    "The np.finfo() function from NumPy allows you to query information about the floating-point data types available in NumPy, including their precision and limits. The difference between 1.0 and the next biggest nearest float for different floating-point types indicates the granularity or precision of those types.\n",
    "\n",
    "np.float32: Single precision floating point type. It typically has 32 bits with 1 sign bit, 8 exponent bits, and 23 fraction bits. The difference between 1.0 and the next biggest nearest float is typically around $10^{-7}$ or $10^{-8}$ range.\n",
    "\n",
    "np.float64: Double precision floating point type. It typically has 64 bits with 1 sign bit, 11 exponent bits, and 52 fraction bits. The difference between 1.0 and the next biggest nearest float is much smaller, typically in the $10^{-16}$ range. \n",
    "\n",
    "Using higher precision types like np.float64 provides greater precision in calculations, reducing the impact of rounding errors. However, even with higher precision types, you should still be cautious when comparing floating-point numbers for equality due to the inherent limitations of representing real numbers in a finite binary representation."
   ]
  },
  {
   "cell_type": "code",
   "execution_count": 26,
   "id": "169f5b87-47eb-404c-a1ab-5b3a41449dd7",
   "metadata": {},
   "outputs": [
    {
     "name": "stdout",
     "output_type": "stream",
     "text": [
      "float          : 2.220446049250313e-16\n",
      "float16        : 0.000977\n",
      "float32        : 1.1920929e-07\n",
      "float64        : 2.220446049250313e-16\n"
     ]
    }
   ],
   "source": [
    "import numpy as np\n",
    "my_types = [\n",
    "    float,       # Default for core Python on my machine\n",
    "    np.float16,\n",
    "    np.float32,\n",
    "    np.float64\n",
    "]\n",
    "\n",
    "for my_type in my_types:\n",
    "    print(f'{my_type.__name__:<15s}:', np.finfo(my_type).eps)"
   ]
  },
  {
   "attachments": {},
   "cell_type": "markdown",
   "id": "14a734a2",
   "metadata": {},
   "source": [
    "# Operator precedance"
   ]
  },
  {
   "cell_type": "markdown",
   "id": "aab15680-efb3-46ba-94f6-a85f4dbb7be9",
   "metadata": {},
   "source": [
    "| Description| Operator|\n",
    "| :--- | :--- |\n",
    "| Parenthesis (grouping) | ()|\n",
    "|Function call | f(arg) |\n",
    "| Slicing | x[index: index] |\n",
    "| Subscription | x[index] |\n",
    "| Attribute reference | x.attribute |"
   ]
  },
  {
   "cell_type": "markdown",
   "id": "f2fd068e-84d4-4628-908a-9f3daf05d9d7",
   "metadata": {},
   "source": [
    "# Variables in Python are just names"
   ]
  },
  {
   "attachments": {},
   "cell_type": "markdown",
   "id": "9e6a8ac0",
   "metadata": {},
   "source": [
    "## The Problem"
   ]
  },
  {
   "cell_type": "code",
   "execution_count": 27,
   "id": "7478e6dc-ff62-439b-9785-0396b38aa724",
   "metadata": {},
   "outputs": [
    {
     "name": "stdout",
     "output_type": "stream",
     "text": [
      "x: [1, 2, 3], y: [1, 2, 3]\n"
     ]
    }
   ],
   "source": [
    "x = [1, 2]\n",
    "y = x\n",
    "y.append(3)\n",
    "print(f\"x: {x}, y: {y}\")\n"
   ]
  },
  {
   "attachments": {},
   "cell_type": "markdown",
   "id": "7458652a",
   "metadata": {},
   "source": [
    "## An explanation"
   ]
  },
  {
   "cell_type": "code",
   "execution_count": 28,
   "id": "4162a71e-f63b-42ef-9fd1-1f5b4887cf41",
   "metadata": {},
   "outputs": [
    {
     "data": {
      "text/plain": [
       "'CODE 1'"
      ]
     },
     "execution_count": 28,
     "metadata": {},
     "output_type": "execute_result"
    }
   ],
   "source": [
    "'''CODE 1'''"
   ]
  },
  {
   "cell_type": "code",
   "execution_count": 29,
   "id": "6ce53980-8c24-4b18-8e0a-5be43b169391",
   "metadata": {},
   "outputs": [
    {
     "name": "stdout",
     "output_type": "stream",
     "text": [
      "x: 140710656709416, y: 140710656709416, 1: 140710656709416\n"
     ]
    }
   ],
   "source": [
    "x = 1\n",
    "y = 1\n",
    "\n",
    "print(f\"x: {id(x)}, y: {id(y)}, 1: {id(1)}\")"
   ]
  },
  {
   "cell_type": "markdown",
   "id": "fe18d92d-aca2-4da7-9e7e-2558d332b9eb",
   "metadata": {},
   "source": [
    "The above code tells us that x, y both have the same id as 1!. \n",
    "1. Before the code is run, Python has things or objects 1, 2 and a that have three properties type, value and id. For example, 1 can have the value 1, type int, and some id. a can have the value ‘a’, type str and some id.\r",
    "2. \r\n",
    "After the code is run, x and y are ‘looking at’ or bound to 1. So x and y are referred to as names that are bound to11."
   ]
  },
  {
   "cell_type": "code",
   "execution_count": 31,
   "id": "b83e6c70-ea8f-44bd-bd35-e89072dc7ead",
   "metadata": {},
   "outputs": [
    {
     "data": {
      "text/plain": [
       "'CODE 2'"
      ]
     },
     "execution_count": 31,
     "metadata": {},
     "output_type": "execute_result"
    }
   ],
   "source": [
    "'''CODE 2'''"
   ]
  },
  {
   "cell_type": "code",
   "execution_count": 32,
   "id": "6e03d56e-0aee-4e41-9df5-20a50a5b5599",
   "metadata": {},
   "outputs": [
    {
     "name": "stdout",
     "output_type": "stream",
     "text": [
      "x: 140710656709416, y: 140710656709448\n"
     ]
    }
   ],
   "source": [
    "x = 1\r\n",
    "y = x + 1\r\n",
    "\r\n",
    "print(f\"x: {id(x)}, y: {id(y)}\")"
   ]
  },
  {
   "cell_type": "code",
   "execution_count": 33,
   "id": "acf2d597-3ccc-478b-b946-1991c0787ce2",
   "metadata": {},
   "outputs": [
    {
     "name": "stdout",
     "output_type": "stream",
     "text": [
      "1: 140710656709416, 2: 140710656709448\n"
     ]
    }
   ],
   "source": [
    "print(f\"1: {id(1)}, 2: {id(2)}\")"
   ]
  },
  {
   "cell_type": "markdown",
   "id": "fcc39357-9553-42b3-b498-eaa9fe3b6c29",
   "metadata": {},
   "source": [
    "Since the mathematical operation requires y to have the value 2, y now gets bound to object 2. This happens because the value of object 1 cannot be changed, so the binding is changed instead."
   ]
  },
  {
   "cell_type": "markdown",
   "id": "3af60150-4d33-4981-8f5f-5f4795ba317a",
   "metadata": {},
   "source": [
    "Object whose values cannot be changed are called immutables. Other immutables are str, float, and bool. "
   ]
  },
  {
   "cell_type": "markdown",
   "id": "0ae31379-077e-4947-85e3-b7135814f965",
   "metadata": {},
   "source": [
    "Objects whose values can be changed are called mutables. They include lists, dictionaries, and instances of classes. "
   ]
  },
  {
   "cell_type": "code",
   "execution_count": 35,
   "id": "2d2b8642-cda8-4146-b510-5f980ced65c3",
   "metadata": {},
   "outputs": [],
   "source": [
    "# x is bound to a list object with a value [1 ,2]\n",
    "x = [1, 2]\n",
    "\n",
    "# y is bound to the SAME list object with a value [1 ,2]\n",
    "y = x\n",
    "\n",
    "# y is used to change the value of the object from  [1, 2] to [1, 2, 3]\n",
    "y.append(3)"
   ]
  },
  {
   "cell_type": "markdown",
   "id": "f79a797f-9e24-4f9c-a010-72dd5962f28a",
   "metadata": {},
   "source": [
    "## A solution "
   ]
  },
  {
   "cell_type": "code",
   "execution_count": 40,
   "id": "eae16b7b-03cc-4e7e-984a-a69170ab6ea0",
   "metadata": {},
   "outputs": [
    {
     "name": "stdout",
     "output_type": "stream",
     "text": [
      "x: [1, 2, 3], y: [1, 2, 3]\n"
     ]
    }
   ],
   "source": [
    "# x is bound to a list object with a value [1 ,2]\n",
    "x = [1, 2]\n",
    "\n",
    "# y is bound to the SAME list object with a value [1 ,2]\n",
    "y = x\n",
    "\n",
    "# y is used to change the value of the object from  [1, 2] to [1, 2, 3]\n",
    "y.append(3)\n",
    "y = x. copy()\n",
    "print(f\"x: {x}, y: {y}\")"
   ]
  },
  {
   "cell_type": "markdown",
   "id": "654ef966-8fc6-4076-962e-8cefd0400e9b",
   "metadata": {},
   "source": [
    "I still don't get why the examples are so complicated. "
   ]
  },
  {
   "cell_type": "markdown",
   "id": "5dcd948b-fe55-4fcc-bf05-351e7d77cbd9",
   "metadata": {},
   "source": [
    "With the help of ChatGPT: "
   ]
  },
  {
   "cell_type": "code",
   "execution_count": 42,
   "id": "b36a4d91-f45c-4d87-ad32-98ca890d57a0",
   "metadata": {},
   "outputs": [
    {
     "name": "stdout",
     "output_type": "stream",
     "text": [
      "{1, 2, 3, 4}\n"
     ]
    }
   ],
   "source": [
    "my_list = [1, 2, 3]\n",
    "my_list[0] = 10  # This modifies the existing list\n",
    "\n",
    "my_dict = {'a': 1, 'b': 2}\n",
    "del my_dict['a']  # This modifies the existing dictionary\n",
    "\n",
    "my_set = {1, 2, 3}\n",
    "my_set.add(4)  # This modifies the existing set\n",
    "print(my_set)\n"
   ]
  },
  {
   "cell_type": "code",
   "execution_count": 44,
   "id": "e8e01bb3-ef26-4cd1-9f68-3ba725a577a7",
   "metadata": {},
   "outputs": [
    {
     "name": "stdout",
     "output_type": "stream",
     "text": [
      "Hello\n"
     ]
    }
   ],
   "source": [
    "my_int = 5\n",
    "# You cannot modify the value of `my_int` directly\n",
    "\n",
    "my_str = \"Hello\"\n",
    "my_str.upper()  # This creates a new string with uppercase characters\n",
    "\n",
    "my_tuple = (1, 2, 3)\n",
    "# You cannot modify the elements of `my_tuple` directly\n",
    "print(my_str) # As strings are not mutable, the result will not be uppercase."
   ]
  },
  {
   "cell_type": "markdown",
   "id": "b5890f94-f643-4f65-be0d-6c8df37af2d0",
   "metadata": {},
   "source": [
    "# == is not the same as is"
   ]
  },
  {
   "attachments": {},
   "cell_type": "markdown",
   "id": "53f451c9",
   "metadata": {},
   "source": [
    "- 'is' checks for identity. It asks if x and y are bound to the same by comparing the ID.\n",
    "- == checks for equality. "
   ]
  }
 ],
 "metadata": {
  "kernelspec": {
   "display_name": "Python 3 (ipykernel)",
   "language": "python",
   "name": "python3"
  },
  "language_info": {
   "codemirror_mode": {
    "name": "ipython",
    "version": 3
   },
   "file_extension": ".py",
   "mimetype": "text/x-python",
   "name": "python",
   "nbconvert_exporter": "python",
   "pygments_lexer": "ipython3",
   "version": "3.11.5"
  },
  "toc": {
   "base_numbering": 1,
   "nav_menu": {},
   "number_sections": true,
   "sideBar": true,
   "skip_h1_title": false,
   "title_cell": "Table of Contents",
   "title_sidebar": "Contents",
   "toc_cell": false,
   "toc_position": {},
   "toc_section_display": true,
   "toc_window_display": false
  },
  "vscode": {
   "interpreter": {
    "hash": "31f2aee4e71d21fbe5cf8b01ff0e069b9275f58929596ceb00d14d90e3e16cd6"
   }
  }
 },
 "nbformat": 4,
 "nbformat_minor": 5
}
