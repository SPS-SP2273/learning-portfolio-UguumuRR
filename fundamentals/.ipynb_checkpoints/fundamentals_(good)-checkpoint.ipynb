{
 "cells": [
  {
   "attachments": {},
   "cell_type": "markdown",
   "id": "123456",
   "metadata": {},
   "source": [
    "<div style=\"text-align:left;font-size:2em\"><span style=\"font-weight:bolder;font-size:1.25em\">SP2273 | Learning Portfolio</span><br><br><span style=\"font-weight:bold;color:darkred\">Fundamentals (Good)</span></div>"
   ]
  },
  {
   "attachments": {},
   "cell_type": "markdown",
   "id": "edd88f66",
   "metadata": {},
   "source": [
    "# There is more to if"
   ]
  },
  {
   "cell_type": "markdown",
   "id": "5a4b6ab1-709d-447d-a506-f962194b2ae0",
   "metadata": {},
   "source": [
    "As I wrote in my fundamentals_(nice) notebook, there are if, elif, and else. These are pretty intuitive. "
   ]
  },
  {
   "cell_type": "code",
   "execution_count": 1,
   "id": "66cabf22-cff9-436b-a7fd-3d0c6670e77a",
   "metadata": {},
   "outputs": [
    {
     "name": "stdout",
     "output_type": "stream",
     "text": [
      "Finally!\n"
     ]
    }
   ],
   "source": [
    "day='Friday'\n",
    "if day=='Friday':\n",
    "    print('Finally!')\n",
    "elif day=='Thursday':\n",
    "    print('One more day to go')\n",
    "else:\n",
    "    print('Good luck')\n",
    "        \n"
   ]
  },
  {
   "attachments": {},
   "cell_type": "markdown",
   "id": "862e24dc",
   "metadata": {},
   "source": [
    "# Asking questions"
   ]
  },
  {
   "cell_type": "code",
   "execution_count": 48,
   "id": "65bef6fb-8159-4ab4-a485-48e76557ee61",
   "metadata": {},
   "outputs": [
    {
     "data": {
      "text/plain": [
       "True"
      ]
     },
     "execution_count": 48,
     "metadata": {},
     "output_type": "execute_result"
    }
   ],
   "source": [
    "days=['Monday', 'Tuesday', 'Wednesday', 'Thursday', 'Friday', 'Saturday', 'Sunday']\n",
    "weekends=['Saturday', 'Sunday'] # I just realized there are only two. \n",
    "'Monday' in days"
   ]
  },
  {
   "cell_type": "code",
   "execution_count": 5,
   "id": "ccc0de3d-32e1-4dab-af8e-ed85cbf9853d",
   "metadata": {},
   "outputs": [
    {
     "data": {
      "text/plain": [
       "False"
      ]
     },
     "execution_count": 5,
     "metadata": {},
     "output_type": "execute_result"
    }
   ],
   "source": [
    "'day' in weekends "
   ]
  },
  {
   "cell_type": "code",
   "execution_count": 6,
   "id": "f0365709-5ef5-4696-8e09-eb1fcbcf12b9",
   "metadata": {},
   "outputs": [
    {
     "data": {
      "text/plain": [
       "False"
      ]
     },
     "execution_count": 6,
     "metadata": {},
     "output_type": "execute_result"
    }
   ],
   "source": [
    "weekends in days"
   ]
  },
  {
   "cell_type": "code",
   "execution_count": 7,
   "id": "63055deb-c24e-4597-b533-1f2a876e1c08",
   "metadata": {},
   "outputs": [
    {
     "data": {
      "text/plain": [
       "False"
      ]
     },
     "execution_count": 7,
     "metadata": {},
     "output_type": "execute_result"
    }
   ],
   "source": [
    "'days'>'weekends'"
   ]
  },
  {
   "cell_type": "markdown",
   "id": "fe94572d-5375-4f97-b839-bc1726a45960",
   "metadata": {},
   "source": [
    "Note: Strings are comparable. "
   ]
  },
  {
   "cell_type": "markdown",
   "id": "7d1c36b0-0eed-4f90-97cb-7020154d51cd",
   "metadata": {},
   "source": [
    "## Asking Math questions "
   ]
  },
  {
   "cell_type": "markdown",
   "id": "d6e00f55-c3c3-41a3-84e2-2953909ed8fa",
   "metadata": {},
   "source": [
    "Almost everything is intuitive. Just know that '!=' means unequal. "
   ]
  },
  {
   "cell_type": "markdown",
   "id": "5bd1e000-ccb6-48ee-b9ae-de38fc492468",
   "metadata": {},
   "source": [
    "# Python stores information in different formats and types. "
   ]
  },
  {
   "cell_type": "markdown",
   "id": "5951b1d2-ce9f-4c06-b4db-8b371f193484",
   "metadata": {},
   "source": [
    "Basically, there are four to five types of data in Python: string, float, integer, boolean, and None. type() is a built-in function that tells you which type of data you are handling.  "
   ]
  },
  {
   "cell_type": "code",
   "execution_count": 12,
   "id": "4c12072e-b2fa-400f-b380-18edfb5f0cea",
   "metadata": {},
   "outputs": [
    {
     "name": "stdout",
     "output_type": "stream",
     "text": [
      "1 <class 'int'>\n"
     ]
    }
   ],
   "source": [
    "x = int(1.234)   #this is converting to string. \n",
    "print(x, type(x))  #it will only take values before the decimal point. "
   ]
  },
  {
   "cell_type": "code",
   "execution_count": 13,
   "id": "f1c072e6-07b5-42d4-815a-1a4b1f4149bd",
   "metadata": {},
   "outputs": [
    {
     "name": "stdout",
     "output_type": "stream",
     "text": [
      "1.234 <class 'str'>\n"
     ]
    }
   ],
   "source": [
    "x = str(1.234)\n",
    "print(x, type(x))"
   ]
  },
  {
   "cell_type": "code",
   "execution_count": 14,
   "id": "9fb32e42-6756-46e0-8c6b-0a26b93636b7",
   "metadata": {},
   "outputs": [
    {
     "name": "stdout",
     "output_type": "stream",
     "text": [
      "(1.234+0j) <class 'complex'>\n"
     ]
    }
   ],
   "source": [
    "x = complex(1.234)\n",
    "print(x, type(x))"
   ]
  },
  {
   "cell_type": "markdown",
   "id": "afd27f8b-8afd-4916-a486-dbeff9ae078a",
   "metadata": {},
   "source": [
    "# Never compare floats directly"
   ]
  },
  {
   "cell_type": "markdown",
   "id": "3432d6ba-a148-4f04-ab80-6fe0328fa3f4",
   "metadata": {},
   "source": [
    "## The problem "
   ]
  },
  {
   "cell_type": "markdown",
   "id": "274cf569-be1e-4165-b464-9a4bce4478fb",
   "metadata": {},
   "source": [
    "Computers have roundoff errors. "
   ]
  },
  {
   "cell_type": "code",
   "execution_count": 17,
   "id": "f446a37b-21c7-4e0b-90c6-473673cade56",
   "metadata": {},
   "outputs": [
    {
     "data": {
      "text/plain": [
       "False"
      ]
     },
     "execution_count": 17,
     "metadata": {},
     "output_type": "execute_result"
    }
   ],
   "source": [
    "b=0.7\n",
    "b3=b*3\n",
    "b==b3"
   ]
  },
  {
   "cell_type": "markdown",
   "id": "cd345512-c82b-43bd-9629-8cbb6fd5c093",
   "metadata": {},
   "source": [
    "This is something new I learned. "
   ]
  },
  {
   "cell_type": "markdown",
   "id": "cfe7fdb2-8c3d-44e7-8c48-74ec34527350",
   "metadata": {},
   "source": [
    "To print a number to a certain decimal place: f'{number:.decimal placef}'"
   ]
  },
  {
   "cell_type": "code",
   "execution_count": 19,
   "id": "5a6e142f-ae6c-460b-832d-9f7ebfa0a8d2",
   "metadata": {},
   "outputs": [
    {
     "data": {
      "text/plain": [
       "'7.900000000000000355'"
      ]
     },
     "execution_count": 19,
     "metadata": {},
     "output_type": "execute_result"
    }
   ],
   "source": [
    "f'{7.9:.18f}'"
   ]
  },
  {
   "cell_type": "markdown",
   "id": "ae976985-6238-4680-98e5-38602f394de6",
   "metadata": {},
   "source": [
    "## The solution "
   ]
  },
  {
   "cell_type": "markdown",
   "id": "ef3bcac1-9dd6-4599-a2d3-af83d126d446",
   "metadata": {},
   "source": [
    "You should check for closeness rather than equality. "
   ]
  },
  {
   "cell_type": "code",
   "execution_count": 21,
   "id": "777436df-8d00-467a-8faa-52f744fa498e",
   "metadata": {},
   "outputs": [
    {
     "data": {
      "text/plain": [
       "True"
      ]
     },
     "execution_count": 21,
     "metadata": {},
     "output_type": "execute_result"
    }
   ],
   "source": [
    "eps = 1E-100\n",
    "abs(b * 3 - b3) < eps"
   ]
  },
  {
   "cell_type": "markdown",
   "id": "57b25865-0b2c-4ba2-afaf-dddfbbeeda38",
   "metadata": {},
   "source": [
    "Or use Numpy"
   ]
  },
  {
   "cell_type": "code",
   "execution_count": 24,
   "id": "11605912-175d-4a82-bd52-e552f073e38c",
   "metadata": {},
   "outputs": [
    {
     "data": {
      "text/plain": [
       "True"
      ]
     },
     "execution_count": 24,
     "metadata": {},
     "output_type": "execute_result"
    }
   ],
   "source": [
    "import numpy as np \n",
    "np.isclose(b * 3, b3) #What is the difference between this and the above? My guess is that they are essentially doing the same thing, \n",
    "                      #but Numpy just has it as a function. "
   ]
  },
  {
   "cell_type": "markdown",
   "id": "802ad603-496e-4cb3-b22c-ccd50c4ea810",
   "metadata": {},
   "source": [
    "# Combining English and variables"
   ]
  },
  {
   "cell_type": "code",
   "execution_count": 27,
   "id": "010599e9-251f-449b-addf-b6a695091887",
   "metadata": {},
   "outputs": [
    {
     "name": "stdout",
     "output_type": "stream",
     "text": [
      "Sain uu Uguumur?\n"
     ]
    }
   ],
   "source": [
    "name = \"Uguumur\"\n",
    "print(f\"Sain uu {name}?\")"
   ]
  },
  {
   "cell_type": "code",
   "execution_count": 28,
   "id": "d925f246-61ad-4d8a-949d-40030572eb61",
   "metadata": {},
   "outputs": [
    {
     "name": "stdout",
     "output_type": "stream",
     "text": [
      "Sain uu UGUUMUR?\n"
     ]
    }
   ],
   "source": [
    "name = \"Uguumur\"\n",
    "print(f\"Sain uu {name.upper()}?\")"
   ]
  },
  {
   "cell_type": "code",
   "execution_count": 29,
   "id": "d23042d3-97e3-44f5-b497-8330a80d3b90",
   "metadata": {},
   "outputs": [
    {
     "name": "stdout",
     "output_type": "stream",
     "text": [
      "The value of 10 squared is 100!\n"
     ]
    }
   ],
   "source": [
    "x = 10\n",
    "print(f\"The value of {x} squared is {x**2}!\")"
   ]
  },
  {
   "cell_type": "markdown",
   "id": "4d142a95-e601-4269-8ba8-30998ccaf8ad",
   "metadata": {},
   "source": [
    "Note the f and the { } in the above command. This is called f-string or string interpolation."
   ]
  },
  {
   "cell_type": "code",
   "execution_count": 30,
   "id": "57b92fa5-2bfa-4a63-8c90-5f06d4ab9ef7",
   "metadata": {},
   "outputs": [
    {
     "name": "stdout",
     "output_type": "stream",
     "text": [
      "Bruce Wayne is Batman.\n"
     ]
    }
   ],
   "source": [
    "text = 'Bruce Wayne is Batman.'\n",
    "print(f'{text}')"
   ]
  },
  {
   "cell_type": "code",
   "execution_count": 31,
   "id": "dccbe1cf-8205-42d0-b874-0ff441c32f2f",
   "metadata": {},
   "outputs": [
    {
     "name": "stdout",
     "output_type": "stream",
     "text": [
      "        Bruce Wayne is Batman.\n"
     ]
    }
   ],
   "source": [
    "print(f'{text:>30}')      # A block of 30 characters;\n",
    "                          # aligned right"
   ]
  },
  {
   "cell_type": "code",
   "execution_count": 32,
   "id": "666a8440-2e00-42d8-8384-4efdb2f544dc",
   "metadata": {},
   "outputs": [
    {
     "name": "stdout",
     "output_type": "stream",
     "text": [
      "    Bruce Wayne is Batman.    \n"
     ]
    }
   ],
   "source": [
    "print(f'{text:^30}')      # A block of 30 characters;\n",
    "                          # aligned centre"
   ]
  },
  {
   "cell_type": "code",
   "execution_count": 33,
   "id": "d993480a-1142-4277-b16b-a851b6079b96",
   "metadata": {},
   "outputs": [
    {
     "name": "stdout",
     "output_type": "stream",
     "text": [
      "Bruce Wayne is Batman.        \n"
     ]
    }
   ],
   "source": [
    "print(f'{text:<30}')      # A block of 30 characters;\n",
    "                          # aligned left"
   ]
  },
  {
   "cell_type": "code",
   "execution_count": 34,
   "id": "7a493a95-1c6c-4fd4-b6e1-a11bee2beb08",
   "metadata": {},
   "outputs": [
    {
     "name": "stdout",
     "output_type": "stream",
     "text": [
      "The cube of pi to 6 decimal places is 3.100628e+01\n"
     ]
    }
   ],
   "source": [
    "print(f'The cube of pi to 6 decimal places is {np.pi**3:.6e}')"
   ]
  },
  {
   "cell_type": "markdown",
   "id": "3582f16e-a51e-463a-9939-4c47f6af7b5f",
   "metadata": {},
   "source": [
    "## Structure of f-strings"
   ]
  },
  {
   "cell_type": "markdown",
   "id": "94f980fa-8d55-4cf1-9123-638019e11cf1",
   "metadata": {},
   "source": [
    "f-string formatting structure: {X:>0Y.ZW}. "
   ]
  },
  {
   "cell_type": "markdown",
   "id": "9526cfc4-ca8e-474a-8f4f-4cbc95711276",
   "metadata": {},
   "source": [
    "| Letter   |  Action    |   Possible Options |\n",
    "| :--- | :-- | :--- | \n",
    "| X   |  Variable format  |   Can be a number or a string |\n",
    "| >   |  Alignment |   - <(Left justified) |\n",
    "|      |             |    - >(Right justified)|\n",
    "|      |             |    - ^(Center justified)|      \n",
    "|0 | Use 0's to pad the spaces | |\n",
    "|Y | Total number of characters | |\n",
    "|Z | Number of decimal characters| |\n",
    "|W | Specifies the type of variable. | - f (float)|\n",
    "| | |- d(integer)|\n",
    "| | |- s (string)|\n",
    "|| |- g (Asks Python to figure it out)|\n",
    "\n",
    "    "
   ]
  },
  {
   "cell_type": "markdown",
   "id": "ba003218-935d-4652-acba-fc89df260ebb",
   "metadata": {},
   "source": [
    "# Escape Sequences "
   ]
  },
  {
   "cell_type": "markdown",
   "id": "524a4de9-c6a0-4b4d-b9a6-67e5886b69f1",
   "metadata": {},
   "source": [
    "To break a line and add a tab. "
   ]
  },
  {
   "cell_type": "code",
   "execution_count": 37,
   "id": "77dd2e5f-03bf-4fcf-b0ce-4fe8113c9ff9",
   "metadata": {},
   "outputs": [
    {
     "name": "stdout",
     "output_type": "stream",
     "text": [
      "Line 1\n",
      "\tLine 2\n",
      "\t\tLine 3\n"
     ]
    }
   ],
   "source": [
    "print('Line 1\\n\\tLine 2\\n\\t\\tLine 3')"
   ]
  },
  {
   "cell_type": "markdown",
   "id": "76ec319e-2c9e-4003-bc18-192ea614ae4f",
   "metadata": {},
   "source": [
    "The \\n is the command to breakline and \\t represents a tab"
   ]
  },
  {
   "cell_type": "markdown",
   "id": "a955dc59-bd54-49ec-842d-28ac7944151a",
   "metadata": {},
   "source": [
    "| Escape Sequence|  Meaning    | \n",
    "| :--- | :--- |\n",
    "|  \\\\' | Single quote|\n",
    "| \\\\\\\\ | Backslash |\n",
    "| \\n | Newline |\n",
    "| \\t | Horizontal tab |"
   ]
  },
  {
   "cell_type": "code",
   "execution_count": 38,
   "id": "33615f6e-ff88-4629-bfa3-4b46a6484d91",
   "metadata": {},
   "outputs": [
    {
     "name": "stdout",
     "output_type": "stream",
     "text": [
      "You're twenty years old.\n"
     ]
    }
   ],
   "source": [
    "print('You\\'re twenty years old.') "
   ]
  },
  {
   "cell_type": "code",
   "execution_count": 39,
   "id": "2562a583-f08c-4aa8-84a2-5834e58e15b6",
   "metadata": {},
   "outputs": [
    {
     "name": "stdout",
     "output_type": "stream",
     "text": [
      "A\n",
      "B\n",
      "C\n"
     ]
    }
   ],
   "source": [
    "print('A\\nB\\nC')\n"
   ]
  },
  {
   "cell_type": "code",
   "execution_count": 40,
   "id": "897169ff-6f63-43cb-858f-9999553dfb40",
   "metadata": {},
   "outputs": [
    {
     "name": "stdout",
     "output_type": "stream",
     "text": [
      "A\tB\tC\n"
     ]
    }
   ],
   "source": [
    "print('A\\tB\\tC')"
   ]
  },
  {
   "cell_type": "code",
   "execution_count": 41,
   "id": "6e0c6d98-f278-4a7b-814d-08a90f017e56",
   "metadata": {},
   "outputs": [
    {
     "name": "stdout",
     "output_type": "stream",
     "text": [
      "A\\\\B\\\\C\n"
     ]
    }
   ],
   "source": [
    "print('A\\\\\\B\\\\\\C')"
   ]
  },
  {
   "cell_type": "markdown",
   "id": "64b66297-ac01-40a1-93d0-0d0df1235d74",
   "metadata": {},
   "source": [
    "# Computers read = from right to left"
   ]
  },
  {
   "cell_type": "code",
   "execution_count": 42,
   "id": "2fac631e-0c7f-4d7d-a84f-fe994279467e",
   "metadata": {},
   "outputs": [],
   "source": [
    "x = 40\n",
    "y = x + 2  # Because = assigns not equals."
   ]
  },
  {
   "cell_type": "markdown",
   "id": "8d4e9ef8-891b-4f86-97e6-5ca7e3c68f88",
   "metadata": {},
   "source": [
    "# Shorter and Cleaner Code"
   ]
  },
  {
   "cell_type": "code",
   "execution_count": 44,
   "id": "0e4de3c3-12f2-483f-9d30-967a1aceff31",
   "metadata": {},
   "outputs": [],
   "source": [
    "y=y+2 \n",
    "y+=2   # This is shorter. "
   ]
  },
  {
   "cell_type": "markdown",
   "id": "ac2974be-025c-4a70-a38d-2f72ec3ebeeb",
   "metadata": {},
   "source": [
    "# Python can be a prima-donna. "
   ]
  },
  {
   "cell_type": "markdown",
   "id": "b5aa273f-210d-41e1-87a5-705465e4cd40",
   "metadata": {},
   "source": [
    "Debugging is fixing errors. "
   ]
  },
  {
   "cell_type": "markdown",
   "id": "233ea772-25c4-4c25-91fe-8b8342fb3c17",
   "metadata": {},
   "source": [
    "# Best Practices for Scientific Computing. "
   ]
  },
  {
   "cell_type": "markdown",
   "id": "c393f92f-c40b-4945-b4f8-e0eda7c309a4",
   "metadata": {},
   "source": [
    "1. Write programs for people, not computers. Add comments when necessary. \n",
    "2. Optimization only after the software works correctly. \n",
    "3. Document design and purpose, not mechanics. \n",
    "4. Collaborate. "
   ]
  },
  {
   "cell_type": "markdown",
   "id": "2da98889-881d-43d2-85d4-d1b60a196829",
   "metadata": {},
   "source": [
    "# Looking for help"
   ]
  },
  {
   "cell_type": "markdown",
   "id": "af76cc29-9d80-4278-931f-8a7e1770c9cc",
   "metadata": {},
   "source": [
    "This is how you can ask for help from Python. "
   ]
  },
  {
   "cell_type": "code",
   "execution_count": 47,
   "id": "c8141ba3-58d3-41ef-bfa6-84b856a4ca4e",
   "metadata": {},
   "outputs": [
    {
     "name": "stdout",
     "output_type": "stream",
     "text": [
      "Help on built-in function print in module builtins:\n",
      "\n",
      "print(*args, sep=' ', end='\\n', file=None, flush=False)\n",
      "    Prints the values to a stream, or to sys.stdout by default.\n",
      "    \n",
      "    sep\n",
      "      string inserted between values, default a space.\n",
      "    end\n",
      "      string appended after the last value, default a newline.\n",
      "    file\n",
      "      a file-like object (stream); defaults to the current sys.stdout.\n",
      "    flush\n",
      "      whether to forcibly flush the stream.\n",
      "\n"
     ]
    }
   ],
   "source": [
    "help(print)"
   ]
  },
  {
   "cell_type": "code",
   "execution_count": null,
   "id": "ab8d93e3-ea95-4fa2-b407-707a2e8abc61",
   "metadata": {},
   "outputs": [],
   "source": []
  }
 ],
 "metadata": {
  "kernelspec": {
   "display_name": "Python 3 (ipykernel)",
   "language": "python",
   "name": "python3"
  },
  "language_info": {
   "codemirror_mode": {
    "name": "ipython",
    "version": 3
   },
   "file_extension": ".py",
   "mimetype": "text/x-python",
   "name": "python",
   "nbconvert_exporter": "python",
   "pygments_lexer": "ipython3",
   "version": "3.11.5"
  },
  "toc": {
   "base_numbering": 1,
   "nav_menu": {},
   "number_sections": true,
   "sideBar": true,
   "skip_h1_title": false,
   "title_cell": "Table of Contents",
   "title_sidebar": "Contents",
   "toc_cell": false,
   "toc_position": {},
   "toc_section_display": true,
   "toc_window_display": false
  },
  "vscode": {
   "interpreter": {
    "hash": "31f2aee4e71d21fbe5cf8b01ff0e069b9275f58929596ceb00d14d90e3e16cd6"
   }
  }
 },
 "nbformat": 4,
 "nbformat_minor": 5
}
