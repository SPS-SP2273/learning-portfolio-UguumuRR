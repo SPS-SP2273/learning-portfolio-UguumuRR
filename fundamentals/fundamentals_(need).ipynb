{
 "cells": [
  {
   "attachments": {},
   "cell_type": "markdown",
   "id": "123456",
   "metadata": {},
   "source": [
    "<div style=\"text-align:left;font-size:2em\"><span style=\"font-weight:bolder;font-size:1.25em\">SP2273 | Learning Portfolio</span><br><br><span style=\"font-weight:bold;color:darkred\">Fundamentals (Need)</span></div>"
   ]
  },
  {
   "attachments": {},
   "cell_type": "markdown",
   "id": "6d22e610",
   "metadata": {},
   "source": [
    "# Functions"
   ]
  },
  {
   "cell_type": "code",
   "execution_count": 2,
   "id": "e3a46d88-327a-43ec-a38f-26ee85bdfda0",
   "metadata": {},
   "outputs": [
    {
     "name": "stdout",
     "output_type": "stream",
     "text": [
      "Hello World\n"
     ]
    }
   ],
   "source": [
    "print('Hello World')"
   ]
  },
  {
   "cell_type": "markdown",
   "id": "ca0695bf-27ea-4464-9263-73956d209250",
   "metadata": {},
   "source": [
    "- print() is a function. It is one of the built-in functions in Python. \n",
    "- The argument is inside the parenthesis. In this case, the argument is Hello World. \n",
    "- Parenthesis, (), always follows a fucntion. \n"
   ]
  },
  {
   "cell_type": "markdown",
   "id": "51b2fcf1-88ae-48a3-aeac-0bf0d96a483f",
   "metadata": {},
   "source": [
    "# Python is interpreted. "
   ]
  },
  {
   "cell_type": "markdown",
   "id": "9631075c-bf1b-4f29-8968-50299c3a18e5",
   "metadata": {},
   "source": [
    "Python interpreter works sequentially, executing commands one by one. The following example has three commands. "
   ]
  },
  {
   "cell_type": "code",
   "execution_count": 5,
   "id": "c0a95269-09cd-4304-947c-da5f71a6ef48",
   "metadata": {},
   "outputs": [
    {
     "name": "stdout",
     "output_type": "stream",
     "text": [
      "I am somewhat tired\n",
      "\"Divide and Conquer\" sounds suspiciously like a military tactic, which brought me certain flashbacks from my high school history class.\n",
      "The reason for the extra R at the end of my Github username is because you guys cannot really pronounce rolling Rs.\n"
     ]
    }
   ],
   "source": [
    "print('I am somewhat tired')\n",
    "print('\"Divide and Conquer\" sounds suspiciously like a military tactic, which brought me certain flashbacks from my high school history class.')\n",
    "print('The reason for the extra R at the end of my Github username is because you guys cannot really pronounce rolling Rs.')"
   ]
  },
  {
   "cell_type": "markdown",
   "id": "f275d0a4-6ed2-41d8-893b-16c9a640fe1b",
   "metadata": {},
   "source": [
    "# Python is sensitive. Aren't we all?"
   ]
  },
  {
   "cell_type": "markdown",
   "id": "04eeaca0-da47-439b-adb4-313138ff2f9e",
   "metadata": {},
   "source": [
    "'Print()' is not the same as 'print()'. Print() will result in an error. "
   ]
  },
  {
   "cell_type": "code",
   "execution_count": 6,
   "id": "af0de4b6-a581-4540-919e-74869057d8fb",
   "metadata": {},
   "outputs": [
    {
     "name": "stdout",
     "output_type": "stream",
     "text": [
      "hi\n"
     ]
    }
   ],
   "source": [
    "print('hi') #not Print('hi)'"
   ]
  },
  {
   "cell_type": "markdown",
   "id": "8000732d-551e-4d53-a81b-cf930d79a42c",
   "metadata": {},
   "source": [
    "# Comments "
   ]
  },
  {
   "cell_type": "markdown",
   "id": "9335bcec-5994-46d9-8b72-02a12284adc3",
   "metadata": {},
   "source": [
    "Anything after a # is called a comment, and they are always ignored by Python. Comments are for humans, cause we suffer from inferior memories(yet still better than computers). Comments are useful because they help us remember what the code is doing. "
   ]
  },
  {
   "cell_type": "markdown",
   "id": "a87b1675-ad06-4c83-8244-6bd18978bcc5",
   "metadata": {},
   "source": [
    "# = is not the same as =="
   ]
  },
  {
   "cell_type": "markdown",
   "id": "5236fc41-7083-4b96-b42a-ed425cb78dfa",
   "metadata": {},
   "source": [
    "- = assigns a value to a variable. \n",
    "- == checks if two things are equal. "
   ]
  },
  {
   "cell_type": "markdown",
   "id": "42017ddd-51ba-4cc7-b6d3-52c6f4cc84ee",
   "metadata": {},
   "source": [
    "# Use if to make decisions. "
   ]
  },
  {
   "cell_type": "markdown",
   "id": "75cd8990-40f4-41c8-83d1-33c188840920",
   "metadata": {},
   "source": [
    "Conditional statements (if, elif, and else) evaluate a given condition, and depending on the result the following executions will be different. "
   ]
  },
  {
   "cell_type": "code",
   "execution_count": 9,
   "id": "b3b635d7-37f5-414c-8818-59daf2af5650",
   "metadata": {},
   "outputs": [
    {
     "name": "stdout",
     "output_type": "stream",
     "text": [
      "Sain uu?\n"
     ]
    }
   ],
   "source": [
    "name='Uguumur'\n",
    "\n",
    "if name=='Uguumur':\n",
    "    print('Sain uu?') #indentations after conditional statements are very important!\n",
    "else:\n",
    "    print('bye')\n",
    "    "
   ]
  },
  {
   "cell_type": "markdown",
   "id": "d7157f05-c58d-4180-9341-051e273cd24e",
   "metadata": {},
   "source": [
    "# Indentations (just press tab like a normal person) are important. "
   ]
  },
  {
   "cell_type": "markdown",
   "id": "9902f087-f7aa-4880-aa47-0e8121107e47",
   "metadata": {},
   "source": [
    "The following will not work. "
   ]
  },
  {
   "cell_type": "code",
   "execution_count": 11,
   "id": "e1ea162d-5da0-4bb8-b137-43fa9d6fa9cb",
   "metadata": {},
   "outputs": [
    {
     "ename": "IndentationError",
     "evalue": "unexpected indent (1719616585.py, line 2)",
     "output_type": "error",
     "traceback": [
      "\u001b[1;36m  Cell \u001b[1;32mIn[11], line 2\u001b[1;36m\u001b[0m\n\u001b[1;33m    print(x)\u001b[0m\n\u001b[1;37m    ^\u001b[0m\n\u001b[1;31mIndentationError\u001b[0m\u001b[1;31m:\u001b[0m unexpected indent\n"
     ]
    }
   ],
   "source": [
    "x=10\n",
    " print(x)"
   ]
  },
  {
   "cell_type": "markdown",
   "id": "2f8bf830-7e16-42be-aba2-48145f8bf758",
   "metadata": {},
   "source": [
    "# 'Age' is English, and age is a variable. "
   ]
  },
  {
   "cell_type": "markdown",
   "id": "3d0270cd-cd6b-4c9c-9933-18cc7af68811",
   "metadata": {},
   "source": [
    "- Name your variables with some meanings, cause they store information. \n",
    "- Also don't use reserved words as variable names. \n",
    "- If it is a string, write it in between quotation marks. "
   ]
  },
  {
   "cell_type": "code",
   "execution_count": 13,
   "id": "b7513a63-95c8-46a3-9c40-61a08d2b9b34",
   "metadata": {},
   "outputs": [
    {
     "name": "stdout",
     "output_type": "stream",
     "text": [
      "green\n"
     ]
    }
   ],
   "source": [
    "color='green' \n",
    "print(color)"
   ]
  },
  {
   "cell_type": "code",
   "execution_count": 14,
   "id": "eda1134d-64e8-4251-b361-27fb0a3cba50",
   "metadata": {},
   "outputs": [
    {
     "name": "stdout",
     "output_type": "stream",
     "text": [
      "green\n"
     ]
    }
   ],
   "source": [
    "print('green')"
   ]
  },
  {
   "cell_type": "markdown",
   "id": "c35b79e3-0c72-4504-8c24-795a5905f5fd",
   "metadata": {},
   "source": [
    "# Brackets "
   ]
  },
  {
   "cell_type": "markdown",
   "id": "c3c6f63a-af9f-4a26-8ee5-4e84d01f36f0",
   "metadata": {},
   "source": [
    "Python uses the following three types of brackets. \n",
    "- () to call functions and do mathematical operations. \n",
    "- [] for lists of data. \n",
    "- {} to store data in a dictionary. "
   ]
  },
  {
   "cell_type": "markdown",
   "id": "a4991880-dbe0-44d4-988b-acb28544f0a3",
   "metadata": {},
   "source": [
    "The following are examples. "
   ]
  },
  {
   "cell_type": "code",
   "execution_count": 17,
   "id": "9b376aab-e74d-48ec-ba86-1012075b4d2c",
   "metadata": {},
   "outputs": [],
   "source": [
    "py_list = [1, 2, 3, 4, 5]   # A 1D list\n",
    "\n",
    "py_list_2 = [               # A 2D list\n",
    "                [1, \"A\"],      \n",
    "                [2, \"B\"],\n",
    "                [3, \"C\"],\n",
    "                [4, \"D\"],\n",
    "                [5, \"E\"]\n",
    "            ]"
   ]
  },
  {
   "cell_type": "code",
   "execution_count": 18,
   "id": "948842c0-a88e-4a4a-adcc-5ddba339e443",
   "metadata": {},
   "outputs": [],
   "source": [
    "personal_info = {\n",
    "    'Names': 'Batman',\n",
    "    'Real Name': 'Bruce Wayne',\n",
    "    'Age': 55,\n",
    "    'Affiliation': 'Justice League',\n",
    "    'Universe': 'DC'\n",
    "}"
   ]
  },
  {
   "cell_type": "code",
   "execution_count": 19,
   "id": "50044845-753b-4ad3-b9af-92bac2746e40",
   "metadata": {},
   "outputs": [
    {
     "name": "stdout",
     "output_type": "stream",
     "text": [
      "Bruce Wayne\n"
     ]
    }
   ],
   "source": [
    "print(personal_info['Real Name'])    "
   ]
  },
  {
   "cell_type": "markdown",
   "id": "5701b946-5622-4f03-9131-e721dd8a1721",
   "metadata": {},
   "source": [
    "Note: For dictionaries, there is a key-value relation. "
   ]
  },
  {
   "cell_type": "markdown",
   "id": "07a3557d-0071-463f-ab6e-9c7dc0b0af2b",
   "metadata": {},
   "source": [
    "# Giving Python superpowers with Packages"
   ]
  },
  {
   "attachments": {},
   "cell_type": "markdown",
   "id": "d5ced10c-a27d-44aa-9a70-603046b2bcd3",
   "metadata": {},
   "source": [
    "Here are some examples of common and powerful python packages.\n",
    "- math\n",
    "- numpy\n",
    "  \n",
    "To use any function in the math/numpy package, write import math/numpy before calling it. "
   ]
  },
  {
   "cell_type": "code",
   "execution_count": 20,
   "id": "a8826629-f06c-4962-91a7-e999e00ed295",
   "metadata": {},
   "outputs": [
    {
     "data": {
      "text/plain": [
       "2.0"
      ]
     },
     "execution_count": 20,
     "metadata": {},
     "output_type": "execute_result"
    }
   ],
   "source": [
    "import math         # Adding(importing) the functions\n",
    "                    # of the 'math' package    \n",
    "math.sqrt(4)"
   ]
  },
  {
   "cell_type": "code",
   "execution_count": 22,
   "id": "9d4586ac-52d5-4337-a69d-24ea89db7978",
   "metadata": {},
   "outputs": [
    {
     "data": {
      "text/plain": [
       "2.0"
      ]
     },
     "execution_count": 22,
     "metadata": {},
     "output_type": "execute_result"
    }
   ],
   "source": [
    "import numpy as np    # Importing Numpy and giving \n",
    "                      # it an alias np \n",
    "                      # because I am lazy. So am I \n",
    "np.sqrt(4)"
   ]
  },
  {
   "cell_type": "markdown",
   "id": "d2690b0a-9fb7-43d5-8db5-b1da69d6bb12",
   "metadata": {},
   "source": [
    "Note: As Python is not that dumb, it is not necessary to import a package multiple times. "
   ]
  },
  {
   "cell_type": "markdown",
   "id": "325da9aa-0666-460e-85a6-89e99edb5269",
   "metadata": {},
   "source": [
    "# The dot(.)"
   ]
  },
  {
   "cell_type": "markdown",
   "id": "3c5a78b4-c2b4-47c3-adaf-58a1d3123177",
   "metadata": {},
   "source": [
    "The dot(.) indicated ownership, and what it can access depends on the context. "
   ]
  },
  {
   "cell_type": "code",
   "execution_count": 24,
   "id": "9d5c932f-b523-4748-b340-27f3e415b8fd",
   "metadata": {},
   "outputs": [
    {
     "data": {
      "text/plain": [
       "2.0"
      ]
     },
     "execution_count": 24,
     "metadata": {},
     "output_type": "execute_result"
    }
   ],
   "source": [
    "math.sqrt(4)\n",
    "np.sqrt(4)"
   ]
  },
  {
   "cell_type": "code",
   "execution_count": 25,
   "id": "a8571765-1bdb-43e0-8674-1a091162a645",
   "metadata": {},
   "outputs": [
    {
     "data": {
      "text/plain": [
       "['I', 'am', 'Batman']"
      ]
     },
     "execution_count": 25,
     "metadata": {},
     "output_type": "execute_result"
    }
   ],
   "source": [
    "\"I am Batman\".split()"
   ]
  },
  {
   "cell_type": "code",
   "execution_count": 26,
   "id": "836c4a14-177f-4160-ad4d-0c9908923b3a",
   "metadata": {},
   "outputs": [
    {
     "ename": "SyntaxError",
     "evalue": "invalid decimal literal (1987309179.py, line 1)",
     "output_type": "error",
     "traceback": [
      "\u001b[1;36m  Cell \u001b[1;32mIn[26], line 1\u001b[1;36m\u001b[0m\n\u001b[1;33m    1234.split() #this will not work because it is not a string.\u001b[0m\n\u001b[1;37m        ^\u001b[0m\n\u001b[1;31mSyntaxError\u001b[0m\u001b[1;31m:\u001b[0m invalid decimal literal\n"
     ]
    }
   ],
   "source": [
    "1234.split() #this will not work because it is not a string. "
   ]
  },
  {
   "cell_type": "code",
   "execution_count": 1,
   "id": "597ce7ae-4bfb-49ba-9f5c-ca83a32831f2",
   "metadata": {},
   "outputs": [
    {
     "data": {
      "text/plain": [
       "['IamBatman']"
      ]
     },
     "execution_count": 1,
     "metadata": {},
     "output_type": "execute_result"
    }
   ],
   "source": [
    "'IamBatman'.split()"
   ]
  },
  {
   "cell_type": "code",
   "execution_count": null,
   "id": "a4d220ea-d006-4737-86cd-9ab5b9c7ae43",
   "metadata": {},
   "outputs": [],
   "source": []
  }
 ],
 "metadata": {
  "kernelspec": {
   "display_name": "Python 3 (ipykernel)",
   "language": "python",
   "name": "python3"
  },
  "language_info": {
   "codemirror_mode": {
    "name": "ipython",
    "version": 3
   },
   "file_extension": ".py",
   "mimetype": "text/x-python",
   "name": "python",
   "nbconvert_exporter": "python",
   "pygments_lexer": "ipython3",
   "version": "3.11.5"
  },
  "toc": {
   "base_numbering": 1,
   "nav_menu": {},
   "number_sections": true,
   "sideBar": true,
   "skip_h1_title": false,
   "title_cell": "Table of Contents",
   "title_sidebar": "Contents",
   "toc_cell": false,
   "toc_position": {},
   "toc_section_display": true,
   "toc_window_display": false
  },
  "vscode": {
   "interpreter": {
    "hash": "31f2aee4e71d21fbe5cf8b01ff0e069b9275f58929596ceb00d14d90e3e16cd6"
   }
  }
 },
 "nbformat": 4,
 "nbformat_minor": 5
}
