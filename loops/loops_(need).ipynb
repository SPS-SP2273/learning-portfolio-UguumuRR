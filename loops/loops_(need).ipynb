{
 "cells": [
  {
   "attachments": {},
   "cell_type": "markdown",
   "id": "123456",
   "metadata": {},
   "source": [
    "<div style=\"text-align:left;font-size:2em\"><span style=\"font-weight:bolder;font-size:1.25em\">SP2273 | Learning Portfolio</span><br><br><span style=\"font-weight:bold;color:darkred\">Loops (Need)</span></div>"
   ]
  },
  {
   "attachments": {},
   "cell_type": "markdown",
   "id": "c67220c7",
   "metadata": {},
   "source": [
    "# The for iterator"
   ]
  },
  {
   "cell_type": "markdown",
   "id": "7634d813-ddad-4b0a-9a43-f8f0eae8e7fd",
   "metadata": {},
   "source": [
    "__for__ is a really helpful tool. "
   ]
  },
  {
   "attachments": {},
   "cell_type": "markdown",
   "id": "f63a3cf0",
   "metadata": {},
   "source": [
    "## for with a list"
   ]
  },
  {
   "cell_type": "code",
   "execution_count": 1,
   "id": "ac60953d-a95f-455f-8bd2-b7fbbfac6d00",
   "metadata": {},
   "outputs": [
    {
     "name": "stdout",
     "output_type": "stream",
     "text": [
      "Monday is  a weekday\n",
      "Tuesday is  a weekday\n",
      "Wednesday is  a weekday\n"
     ]
    }
   ],
   "source": [
    "days = ['Monday', 'Tuesday', 'Wednesday']\n",
    "for day in days: \n",
    "    print(f'{day} is  a weekday')\n"
   ]
  },
  {
   "cell_type": "markdown",
   "id": "f79bbbca-4811-4413-9317-a0fba84fa18c",
   "metadata": {},
   "source": [
    "Note: __for__ can be used to directly loop through a list. "
   ]
  },
  {
   "attachments": {},
   "cell_type": "markdown",
   "id": "b5b2a980",
   "metadata": {},
   "source": [
    "## for with enumerate"
   ]
  },
  {
   "cell_type": "code",
   "execution_count": 28,
   "id": "9499070b-9d4a-4983-818a-dfc43f4b4941",
   "metadata": {},
   "outputs": [
    {
     "name": "stdout",
     "output_type": "stream",
     "text": [
      "0: Davaa is a weekday.\n",
      "1: Myagmar is a weekday.\n",
      "2: Lkhagva is a weekday.\n",
      "3: Purev is a weekday.\n"
     ]
    }
   ],
   "source": [
    "days = ['Monday', 'Tuesday', 'Wednesday', 'Thursday']\n",
    "days_m = ['Davaa', 'Myagmar', 'Lkhagva', 'Purev']\n",
    "# As fop loops only accept one list, enumarate() is needed to access both data sets. \n",
    "for count, day in enumerate(days_m):\n",
    "    print(f'{count}: {day} is a weekday.')"
   ]
  },
  {
   "cell_type": "code",
   "execution_count": 13,
   "id": "f295be73-6416-4bdb-9d61-804b0203c398",
   "metadata": {},
   "outputs": [
    {
     "name": "stdout",
     "output_type": "stream",
     "text": [
      "Davaa is Monday.\n",
      "Myagmar is Tuesday.\n",
      "Lkhagva is Wednesday.\n",
      "Purev is Thursday.\n"
     ]
    }
   ],
   "source": [
    "days = ['Monday', 'Tuesday', 'Wednesday', 'Thursday']\n",
    "days_m = ['Davaa', 'Myagmar', 'Lkhagva', 'Purev']\n",
    "for index, day in enumerate(days_m):\n",
    "    m_name = days [index]\n",
    "    print(f'{day} is {m_name}.')"
   ]
  },
  {
   "cell_type": "markdown",
   "id": "ab79fa3e-0866-4dde-bb17-1d1e4952f2d2",
   "metadata": {},
   "source": [
    "Note: You can tweak enumerate() to start counting from any number you want. "
   ]
  },
  {
   "cell_type": "code",
   "execution_count": 14,
   "id": "9e6d4623-5581-4657-8cc2-c4a9853ddb21",
   "metadata": {},
   "outputs": [
    {
     "name": "stdout",
     "output_type": "stream",
     "text": [
      "7: Davaa is a weekday.\n",
      "8: Myagmar is a weekday.\n",
      "9: Lkhagva is a weekday.\n",
      "10: Purev is a weekday.\n"
     ]
    }
   ],
   "source": [
    "days = ['Monday', 'Tuesday', 'Wednesday', 'Thursday']\n",
    "days_m = ['Davaa', 'Myagmar', 'Lkhagva', 'Purev']\n",
    "for count, day in enumerate(days_m, 7):\n",
    "    print(f'{count}: {day} is a weekday.')"
   ]
  },
  {
   "attachments": {},
   "cell_type": "markdown",
   "id": "bf94cf24",
   "metadata": {},
   "source": [
    "## for with range"
   ]
  },
  {
   "cell_type": "code",
   "execution_count": 15,
   "id": "e5bce59c-4890-468a-b5d5-7e31468c6dcb",
   "metadata": {},
   "outputs": [
    {
     "name": "stdout",
     "output_type": "stream",
     "text": [
      "0\n",
      "1\n",
      "2\n",
      "3\n",
      "4\n",
      "5\n",
      "6\n"
     ]
    }
   ],
   "source": [
    "# Example 1:\n",
    "for i in range(7):\n",
    "    print(i)"
   ]
  },
  {
   "cell_type": "code",
   "execution_count": 17,
   "id": "f04bcbe6-11e5-40ec-89b2-96d2e60e6485",
   "metadata": {},
   "outputs": [
    {
     "name": "stdout",
     "output_type": "stream",
     "text": [
      "2\n",
      "4\n",
      "6\n",
      "8\n",
      "10\n",
      "12\n",
      "14\n"
     ]
    }
   ],
   "source": [
    "for i in range(1, 8): #8 is not inclusive. \n",
    "    print(i*2)"
   ]
  },
  {
   "cell_type": "code",
   "execution_count": 20,
   "id": "bc6fb488-4d85-4930-8ee5-a1479a829bba",
   "metadata": {},
   "outputs": [
    {
     "name": "stdout",
     "output_type": "stream",
     "text": [
      "1\n",
      "5\n",
      "9\n"
     ]
    }
   ],
   "source": [
    "for i in range(1, 10, 4): #4 is the step. \n",
    "    print(i)"
   ]
  },
  {
   "cell_type": "code",
   "execution_count": 1,
   "id": "bece33b1-43b4-4895-9328-5783368fff02",
   "metadata": {},
   "outputs": [
    {
     "name": "stdout",
     "output_type": "stream",
     "text": [
      "range(0, 7)\n"
     ]
    }
   ],
   "source": [
    "print(range(7))"
   ]
  },
  {
   "cell_type": "markdown",
   "id": "6edc8fd8-5256-4896-a986-c823dc907da2",
   "metadata": {},
   "source": [
    "Note: \n",
    "- loop() and enumerate() only work with looping structures. "
   ]
  },
  {
   "cell_type": "code",
   "execution_count": 27,
   "id": "2e24fde7-d5bb-48db-8ca9-bd6e96e98711",
   "metadata": {},
   "outputs": [
    {
     "name": "stdout",
     "output_type": "stream",
     "text": [
      "Davaa is Mongolian for Monday.\n",
      "Myagmar is Mongolian for Tuesday.\n",
      "Lkhagva is Mongolian for Wednesday.\n",
      "Purev is Mongolian for Thursday.\n"
     ]
    }
   ],
   "source": [
    "days = ['Monday', 'Tuesday', 'Wednesday', 'Thursday']\n",
    "days_m = ['Davaa', 'Myagmar', 'Lkhagva', 'Purev']\n",
    "for i in range(len(days_m)):\n",
    "    days_mg = days_m [i]\n",
    "    days_e = days [i]\n",
    "    print(f'{days_mg} is Mongolian for {days_e}.')"
   ]
  },
  {
   "attachments": {},
   "cell_type": "markdown",
   "id": "d86f2420",
   "metadata": {},
   "source": [
    "# While"
   ]
  },
  {
   "cell_type": "markdown",
   "id": "e1c3c7d8-f5c3-491a-b89b-daab936cbba5",
   "metadata": {},
   "source": [
    "__while__ loop repeats until it reaches a certain condition. "
   ]
  },
  {
   "cell_type": "code",
   "execution_count": 31,
   "id": "f22328a8-362c-4cad-bb4f-bc5599be2389",
   "metadata": {},
   "outputs": [
    {
     "name": "stdout",
     "output_type": "stream",
     "text": [
      "0\n",
      "1\n",
      "2\n",
      "3\n",
      "4\n",
      "5\n",
      "6\n"
     ]
    }
   ],
   "source": [
    "number = 0 \n",
    "while number<7:\n",
    "    print(number)\n",
    "    number+=1\n",
    "     "
   ]
  }
 ],
 "metadata": {
  "kernelspec": {
   "display_name": "Python 3 (ipykernel)",
   "language": "python",
   "name": "python3"
  },
  "language_info": {
   "codemirror_mode": {
    "name": "ipython",
    "version": 3
   },
   "file_extension": ".py",
   "mimetype": "text/x-python",
   "name": "python",
   "nbconvert_exporter": "python",
   "pygments_lexer": "ipython3",
   "version": "3.11.5"
  },
  "toc": {
   "base_numbering": 1,
   "nav_menu": {},
   "number_sections": true,
   "sideBar": true,
   "skip_h1_title": false,
   "title_cell": "Table of Contents",
   "title_sidebar": "Contents",
   "toc_cell": false,
   "toc_position": {},
   "toc_section_display": true,
   "toc_window_display": false
  },
  "vscode": {
   "interpreter": {
    "hash": "31f2aee4e71d21fbe5cf8b01ff0e069b9275f58929596ceb00d14d90e3e16cd6"
   }
  }
 },
 "nbformat": 4,
 "nbformat_minor": 5
}
