{
 "cells": [
  {
   "attachments": {},
   "cell_type": "markdown",
   "id": "123456",
   "metadata": {},
   "source": [
    "<div style=\"text-align:left;font-size:2em\"><span style=\"font-weight:bolder;font-size:1.25em\">SP2273 | Learning Portfolio</span><br><br><span style=\"font-weight:bold;color:darkred\">Loops (Nice)</span></div>"
   ]
  },
  {
   "attachments": {},
   "cell_type": "markdown",
   "id": "d437e17c",
   "metadata": {},
   "source": [
    "# 1 There is more to list comprehension"
   ]
  },
  {
   "cell_type": "code",
   "execution_count": 3,
   "id": "879bffe5-b53c-44e7-916f-26707f278a8a",
   "metadata": {},
   "outputs": [
    {
     "data": {
      "text/plain": [
       "[[0, 'A'],\n",
       " [0, 'B'],\n",
       " [0, 'C'],\n",
       " [1, 'A'],\n",
       " [1, 'B'],\n",
       " [1, 'C'],\n",
       " [2, 'A'],\n",
       " [2, 'B'],\n",
       " [2, 'C'],\n",
       " [3, 'A'],\n",
       " [3, 'B'],\n",
       " [3, 'C'],\n",
       " [4, 'A'],\n",
       " [4, 'B'],\n",
       " [4, 'C']]"
      ]
     },
     "execution_count": 3,
     "metadata": {},
     "output_type": "execute_result"
    }
   ],
   "source": [
    "#You can have more than one loop in a list comprehension. \n",
    "[[a,b] for a in range(5) for b in ['A', 'B', 'C']]"
   ]
  },
  {
   "cell_type": "code",
   "execution_count": 4,
   "id": "358986e5-0ad4-4ced-ba23-7e956ada9c27",
   "metadata": {},
   "outputs": [
    {
     "data": {
      "text/plain": [
       "[[1, 'A'], [1, 'B'], [1, 'C'], [3, 'A'], [3, 'B'], [3, 'C']]"
      ]
     },
     "execution_count": 4,
     "metadata": {},
     "output_type": "execute_result"
    }
   ],
   "source": [
    "#You can even incorporate a condition. \n",
    "[[a,b] for a in range(5) for b in ['A', 'B', 'C'] if a % 2 != 0]"
   ]
  },
  {
   "attachments": {},
   "cell_type": "markdown",
   "id": "0787f838",
   "metadata": {},
   "source": [
    "# 2 Zipping a dictionary"
   ]
  },
  {
   "cell_type": "code",
   "execution_count": 6,
   "id": "a6982689-0d2b-49f8-b406-6428cc02f214",
   "metadata": {},
   "outputs": [
    {
     "data": {
      "text/plain": [
       "{'Monday': 'Davaa', 'Tuesday': 'Myagmar', 'Wednesday': 'Lkhagva'}"
      ]
     },
     "execution_count": 6,
     "metadata": {},
     "output_type": "execute_result"
    }
   ],
   "source": [
    "#zip() can combine two lists into a dictionary quite easily. \n",
    "days = ['Monday', 'Tuesday', 'Wednesday']\n",
    "days_m = ['Davaa', 'Myagmar', 'Lkhagva']\n",
    "dict(zip(days, days_m))"
   ]
  },
  {
   "attachments": {},
   "cell_type": "markdown",
   "id": "59d265b7",
   "metadata": {},
   "source": [
    "# for and while has an else"
   ]
  },
  {
   "cell_type": "code",
   "execution_count": 7,
   "id": "517c1d3b-939e-41d2-b144-c012ba8db1c7",
   "metadata": {},
   "outputs": [
    {
     "name": "stdout",
     "output_type": "stream",
     "text": [
      "No negative numbers in the list\n"
     ]
    }
   ],
   "source": [
    "numbers=[0, 1, 2, 3, 4, 5, 6, 7, 8, 9]\n",
    "\n",
    "for i in numbers:\n",
    "    if i < 0: break\n",
    "else:\n",
    "    print('No negative numbers in the list')"
   ]
  },
  {
   "cell_type": "code",
   "execution_count": 8,
   "id": "96e8d5ae-1f29-4b68-a31c-3080c6ea55a3",
   "metadata": {},
   "outputs": [],
   "source": [
    "numbers=[0, 1, 2, 3, -2, 4, 5, 6, 7, 8, 9]\n",
    "\n",
    "for i in numbers:\n",
    "    if i < 0: break\n",
    "else:\n",
    "    print('No negative numbers in the list')"
   ]
  },
  {
   "attachments": {},
   "cell_type": "markdown",
   "id": "4552ad73",
   "metadata": {},
   "source": [
    "# Exercises"
   ]
  },
  {
   "cell_type": "markdown",
   "id": "c8fd52a6-1b69-4122-88db-a626ebd84760",
   "metadata": {},
   "source": [
    "## Changing a list "
   ]
  },
  {
   "cell_type": "code",
   "execution_count": 9,
   "id": "2138ac63",
   "metadata": {},
   "outputs": [],
   "source": [
    "#We want a snippet of code based on a for loop to remove fruits starting with the letter ‘p’ from the following list.\n",
    "\n",
    "fruits = [\"apple\", \"banana\", \"jackfruit\",\n",
    "          \"pineapple\", \"papaya\", \"watermelons\",\n",
    "          \"peaches\", \"durian\",  \"mangoes\",\n",
    "          \"strawberries\", \"passionfruit\"\n",
    "          ]\n",
    "#The following has been suggested as a solution. However, it does not work!\n",
    "for fruit in fruits:\n",
    "    if fruit[0] == \"p\":\n",
    "        fruits.remove(fruit)\n",
    "#Identify, understand, and fix the error.\n",
    "\n",
    "#The problem with this code is that it is modifying and iterating over the list at the same time. "
   ]
  },
  {
   "attachments": {},
   "cell_type": "markdown",
   "id": "cf5970ba",
   "metadata": {},
   "source": [
    "### The solutions"
   ]
  },
  {
   "cell_type": "code",
   "execution_count": 13,
   "id": "daa563cb",
   "metadata": {},
   "outputs": [],
   "source": [
    "fruits = [\"apple\", \"banana\", \"jackfruit\",\n",
    "          \"pineapple\", \"papaya\", \"watermelons\",\n",
    "          \"peaches\", \"durian\",  \"mangoes\",\n",
    "          \"strawberries\", \"passionfruit\"\n",
    "          ]\n",
    "\n",
    "copy_of_fruits = fruits.copy()\n",
    "\n",
    "# Not that we are looping(iterating) over the copy\n",
    "for fruit in copy_of_fruits:\n",
    "    if fruit[0] == \"p\":\n",
    "        fruits.remove(fruit)"
   ]
  },
  {
   "cell_type": "code",
   "execution_count": 12,
   "id": "59ad2be9-7b49-42d5-9581-806926f5bafb",
   "metadata": {},
   "outputs": [
    {
     "data": {
      "text/plain": [
       "['apple',\n",
       " 'banana',\n",
       " 'jackfruit',\n",
       " 'watermelons',\n",
       " 'durian',\n",
       " 'mangoes',\n",
       " 'strawberries']"
      ]
     },
     "execution_count": 12,
     "metadata": {},
     "output_type": "execute_result"
    }
   ],
   "source": [
    "fruits = [\"apple\", \"banana\", \"jackfruit\",\n",
    "          \"pineapple\", \"papaya\", \"watermelons\",\n",
    "          \"peaches\", \"durian\",  \"mangoes\",\n",
    "          \"strawberries\", \"passionfruit\"\n",
    "          ]\n",
    "\n",
    "[fruit for fruit in fruits if fruit[0] != \"p\"]"
   ]
  },
  {
   "attachments": {},
   "cell_type": "markdown",
   "id": "e68c783c",
   "metadata": {},
   "source": [
    "## A list of powers "
   ]
  },
  {
   "cell_type": "code",
   "execution_count": 15,
   "id": "eb718a6b",
   "metadata": {},
   "outputs": [
    {
     "data": {
      "text/plain": [
       "[[1, 1, 1], [2, 4, 8], [3, 9, 27], [4, 16, 64], [5, 25, 125]]"
      ]
     },
     "execution_count": 15,
     "metadata": {},
     "output_type": "execute_result"
    }
   ],
   "source": [
    "#The following code is an attempt to create a list [n, n^2, n^3] for several values of n. We can specify the maximum value of n by changing maximum_n.\n",
    "\n",
    "maximum_n = 5\n",
    "result = [[]] * maximum_n\n",
    "\n",
    "for n in range(1, maximum_n + 1):\n",
    "    result[n - 1].append(n)\n",
    "    result[n - 1].append(n**2)\n",
    "    result[n - 1].append(n**3)\n",
    "\n",
    "#For maximum_n = 5 the content of result should be as shown below.\n",
    "\n",
    "[[1, 1, 1],\n",
    " [2, 4, 8],\n",
    " [3, 9, 27],\n",
    " [4, 16, 64],\n",
    " [5, 25, 125]]\n",
    "\n",
    "#However, the code does not produce this expected result!\n",
    "#Identify, understand, explain and fix the bug."
   ]
  },
  {
   "cell_type": "markdown",
   "id": "40f5dc7e-92dd-4c25-a12c-54dcdd1f4466",
   "metadata": {},
   "source": [
    "The bug in the code lies in how the list result is initialized. When we create a result using [[]] * maximum_n, you're actually creating a list with \n",
    "maximum_n references to the same empty list. So when we modify one of these sublists, we're modifying the same list object referenced by all the other sublists as well. \n",
    "To fix this, we need to create each sublist separately."
   ]
  },
  {
   "cell_type": "code",
   "execution_count": 23,
   "id": "c891f012-868e-4069-889b-4d5fe35f746b",
   "metadata": {},
   "outputs": [],
   "source": [
    "maximum_n = 5\n",
    "result = [[] for _ in range(maximum_n)]\n",
    "for n in range(1, maximum_n + 1):\n",
    "    result[n - 1].append(n)\n",
    "    result[n - 1].append(n**2)\n",
    "    result[n - 1].append(n**3)"
   ]
  },
  {
   "cell_type": "code",
   "execution_count": null,
   "id": "a0355518-7626-4e59-b4db-f8861420d2c2",
   "metadata": {},
   "outputs": [],
   "source": []
  }
 ],
 "metadata": {
  "kernelspec": {
   "display_name": "Python 3 (ipykernel)",
   "language": "python",
   "name": "python3"
  },
  "language_info": {
   "codemirror_mode": {
    "name": "ipython",
    "version": 3
   },
   "file_extension": ".py",
   "mimetype": "text/x-python",
   "name": "python",
   "nbconvert_exporter": "python",
   "pygments_lexer": "ipython3",
   "version": "3.11.5"
  },
  "toc": {
   "base_numbering": 1,
   "nav_menu": {},
   "number_sections": true,
   "sideBar": true,
   "skip_h1_title": false,
   "title_cell": "Table of Contents",
   "title_sidebar": "Contents",
   "toc_cell": false,
   "toc_position": {},
   "toc_section_display": true,
   "toc_window_display": false
  },
  "vscode": {
   "interpreter": {
    "hash": "31f2aee4e71d21fbe5cf8b01ff0e069b9275f58929596ceb00d14d90e3e16cd6"
   }
  }
 },
 "nbformat": 4,
 "nbformat_minor": 5
}
