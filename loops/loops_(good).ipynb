{
 "cells": [
  {
   "attachments": {},
   "cell_type": "markdown",
   "id": "123456",
   "metadata": {},
   "source": [
    "<div style=\"text-align:left;font-size:2em\"><span style=\"font-weight:bolder;font-size:1.25em\">SP2273 | Learning Portfolio</span><br><br><span style=\"font-weight:bold;color:darkred\">Loops (Good)</span></div>"
   ]
  },
  {
   "attachments": {},
   "cell_type": "markdown",
   "id": "3de5103c",
   "metadata": {},
   "source": [
    "# What to expect in this chapter"
   ]
  },
  {
   "attachments": {},
   "cell_type": "markdown",
   "id": "b442b308",
   "metadata": {},
   "source": [
    "# 1 Interrupting the flow"
   ]
  },
  {
   "cell_type": "markdown",
   "id": "643f2cff-9f52-4c06-9b19-282e3d4a26fe",
   "metadata": {},
   "source": [
    "To end/skip an iteration prematurely, use __break__/__continue__. "
   ]
  },
  {
   "cell_type": "code",
   "execution_count": 1,
   "id": "1751c5ef-ddb2-4c79-ac04-ac0f4b258895",
   "metadata": {},
   "outputs": [
    {
     "name": "stdout",
     "output_type": "stream",
     "text": [
      "0 1\n",
      "1 10\n",
      "2 100\n",
      "3 1000\n"
     ]
    }
   ],
   "source": [
    "for power in range(5):\n",
    "    number = 10**power\n",
    "    if number > 5000:\n",
    "        break\n",
    "    print(power, number)"
   ]
  },
  {
   "cell_type": "code",
   "execution_count": null,
   "id": "95304235-2993-41a0-8305-62a8ece308a1",
   "metadata": {},
   "outputs": [],
   "source": [
    "i = 0\n",
    "n = 1\n",
    "while True:\n",
    "    n = 10**i \n",
    "    if n> 5000:\n",
    "        break \n",
    "    print(f'{i} {n}')\n",
    "    i += 1"
   ]
  },
  {
   "cell_type": "code",
   "execution_count": null,
   "id": "65cb4266-114a-4ded-a7a7-caaa668e5b54",
   "metadata": {},
   "outputs": [],
   "source": [
    "for power in range(5):\n",
    "    if power==3:\n",
    "        continue #Don't proceed further in the current loop if power is 3.\n",
    "    number = 10**power\n",
    "    print(power, number)"
   ]
  },
  {
   "cell_type": "code",
   "execution_count": null,
   "id": "00af8204-7963-46c0-a51b-8af6bc3aed4b",
   "metadata": {},
   "outputs": [],
   "source": [
    "power = 0\n",
    "while power < 5:\n",
    "    if power == 3:\n",
    "        power += 1\n",
    "        continue  # Don't proceed further in the current loop if power is 3.\n",
    "    number = 10 ** power\n",
    "    print(power, number)\n",
    "    power += 1"
   ]
  },
  {
   "attachments": {},
   "cell_type": "markdown",
   "id": "f70c879f",
   "metadata": {},
   "source": [
    "# 2 List comprehension!"
   ]
  },
  {
   "attachments": {},
   "cell_type": "markdown",
   "id": "4544dc0a",
   "metadata": {},
   "source": [
    "## 2.1 Basic syntax"
   ]
  },
  {
   "cell_type": "code",
   "execution_count": 1,
   "id": "a93c2a20-228b-4ad2-8b9b-9f69bbf88161",
   "metadata": {},
   "outputs": [
    {
     "data": {
      "text/plain": [
       "[0, 1, 2, 3, 4]"
      ]
     },
     "execution_count": 1,
     "metadata": {},
     "output_type": "execute_result"
    }
   ],
   "source": [
    "[i for i in range(5)]"
   ]
  },
  {
   "cell_type": "code",
   "execution_count": 2,
   "id": "f9f0b6fb-c5d6-4784-929e-9c7c17eb779a",
   "metadata": {},
   "outputs": [
    {
     "data": {
      "text/plain": [
       "[0, 1, 8, 27, 64]"
      ]
     },
     "execution_count": 2,
     "metadata": {},
     "output_type": "execute_result"
    }
   ],
   "source": [
    "[i**3 for i in range(5)]"
   ]
  },
  {
   "attachments": {},
   "cell_type": "markdown",
   "id": "1fe4a989",
   "metadata": {},
   "source": [
    "## 2.2 List comprehension with conditions"
   ]
  },
  {
   "cell_type": "code",
   "execution_count": 4,
   "id": "f09bafb6-443c-4a17-94aa-8550cccdd168",
   "metadata": {},
   "outputs": [
    {
     "data": {
      "text/plain": [
       "[1, 3, 5, 7, 9]"
      ]
     },
     "execution_count": 4,
     "metadata": {},
     "output_type": "execute_result"
    }
   ],
   "source": [
    "[i for i in range(10) if i%2==1]"
   ]
  },
  {
   "attachments": {},
   "cell_type": "markdown",
   "id": "cf7ffde8",
   "metadata": {},
   "source": [
    "# 3 Other useful stuff"
   ]
  },
  {
   "attachments": {},
   "cell_type": "markdown",
   "id": "b98bd298",
   "metadata": {},
   "source": [
    "## 3.1 for with unpacking"
   ]
  },
  {
   "cell_type": "code",
   "execution_count": 6,
   "id": "832ff5de-e6d6-4335-9346-3ee82b93b418",
   "metadata": {},
   "outputs": [
    {
     "name": "stdout",
     "output_type": "stream",
     "text": [
      "x = 1, y = 2, z = 3\n"
     ]
    }
   ],
   "source": [
    "x, y, z = [1, 2, 3]\n",
    "print(f'x = {x}, y = {y}, z = {z}')"
   ]
  },
  {
   "cell_type": "code",
   "execution_count": 7,
   "id": "e4e0fff7-6189-48ad-bbc7-16d65fe5ec7a",
   "metadata": {},
   "outputs": [
    {
     "name": "stdout",
     "output_type": "stream",
     "text": [
      "Monday is translation for Davaa\n",
      "Tuesday is translation for Myagmar\n",
      "Wednesday is translation for Lkhagva\n"
     ]
    }
   ],
   "source": [
    "days = [['Monday', 'Davaa'], ['Tuesday', 'Myagmar'], ['Wednesday', 'Lkhagva']]\n",
    "for day, translation in days:\n",
    "    print(f'{day} is translation for {translation}')"
   ]
  },
  {
   "attachments": {},
   "cell_type": "markdown",
   "id": "fda58f08",
   "metadata": {},
   "source": [
    "## 3.2 for with zip()"
   ]
  },
  {
   "cell_type": "code",
   "execution_count": 10,
   "id": "a2c33796-8ee8-474b-ade9-505d14416590",
   "metadata": {},
   "outputs": [
    {
     "name": "stdout",
     "output_type": "stream",
     "text": [
      "Monday is Davaa\n",
      "Tuesday is Myagmar\n",
      "Wednesday is Lkhagva\n"
     ]
    }
   ],
   "source": [
    "days = ['Monday', 'Tuesday', 'Wednesday']\n",
    "days_m = ['Davaa', 'Myagmar', 'Lkhagva']\n",
    "for day, translation in zip(days, days_m): #using zip to combine two lists.\n",
    "    print(f'{day} is {translation}')"
   ]
  },
  {
   "attachments": {},
   "cell_type": "markdown",
   "id": "e81caf8e",
   "metadata": {},
   "source": [
    "## 3.3 for with dictionaries"
   ]
  },
  {
   "cell_type": "code",
   "execution_count": 3,
   "id": "3109c4cf-e339-486f-bad1-770dc6d6d3a2",
   "metadata": {},
   "outputs": [
    {
     "name": "stdout",
     "output_type": "stream",
     "text": [
      "Monday is Davaa\n",
      "Tuesday is Myagmar\n",
      "Wednesday is Lkhagva\n",
      "Monday\n",
      "Tuesday\n",
      "Wednesday\n"
     ]
    }
   ],
   "source": [
    "days_info = {'Monday': 'Davaa', 'Tuesday': 'Myagmar', 'Wednesday':'Lkhagva'}\n",
    "for key, value in days_info.items(): #items() spits out both they key and the corresponding value. \n",
    "    print(f'{key} is {value}')\n",
    "for i in days_info: #it iterates over the keys. \n",
    "  print(i)"
   ]
  },
  {
   "cell_type": "code",
   "execution_count": 12,
   "id": "12b73e6a-d890-489a-a50c-6f359122258b",
   "metadata": {},
   "outputs": [
    {
     "name": "stdout",
     "output_type": "stream",
     "text": [
      "Wednesday is Lkhagva\n",
      "Wednesday is Lkhagva\n",
      "Wednesday is Lkhagva\n"
     ]
    }
   ],
   "source": [
    "days_info = {'Monday': 'Davaa', 'Tuesday': 'Myagmar', 'Wednesday':'Lkhagva'}\n",
    "for days, translation in days_info.items(): #items() spits out both they key and the corresponding value. \n",
    "    print(f'{key} is {value}')"
   ]
  },
  {
   "attachments": {},
   "cell_type": "markdown",
   "id": "744744f5",
   "metadata": {},
   "source": [
    "## Footnotes"
   ]
  }
 ],
 "metadata": {
  "kernelspec": {
   "display_name": "Python 3 (ipykernel)",
   "language": "python",
   "name": "python3"
  },
  "language_info": {
   "codemirror_mode": {
    "name": "ipython",
    "version": 3
   },
   "file_extension": ".py",
   "mimetype": "text/x-python",
   "name": "python",
   "nbconvert_exporter": "python",
   "pygments_lexer": "ipython3",
   "version": "3.11.5"
  },
  "toc": {
   "base_numbering": 1,
   "nav_menu": {},
   "number_sections": true,
   "sideBar": true,
   "skip_h1_title": false,
   "title_cell": "Table of Contents",
   "title_sidebar": "Contents",
   "toc_cell": false,
   "toc_position": {},
   "toc_section_display": true,
   "toc_window_display": false
  },
  "vscode": {
   "interpreter": {
    "hash": "31f2aee4e71d21fbe5cf8b01ff0e069b9275f58929596ceb00d14d90e3e16cd6"
   }
  }
 },
 "nbformat": 4,
 "nbformat_minor": 5
}
