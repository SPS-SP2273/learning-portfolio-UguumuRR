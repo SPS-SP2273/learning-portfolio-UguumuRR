{
 "cells": [
  {
   "attachments": {},
   "cell_type": "markdown",
   "id": "123456",
   "metadata": {},
   "source": [
    "<div style=\"text-align:left;font-size:2em\"><span style=\"font-weight:bolder;font-size:1.25em\">SP2273 | Learning Portfolio</span><br><br><span style=\"font-weight:bold;color:darkred\">Storing Data (Need) Exercises</span></div>"
   ]
  },
  {
   "cell_type": "markdown",
   "id": "8f1be8db-717f-4144-ad38-0b03a9ccdd79",
   "metadata": {},
   "source": [
    "# Total Recall "
   ]
  },
  {
   "cell_type": "markdown",
   "id": "7d996c9e-9169-4d86-a2b7-de4eb0563cfd",
   "metadata": {},
   "source": [
    "1. Two similarities between lists and arrays: \n",
    "    - Order matters for both of them. \n",
    "    - They are both mutable. \n",
    "2. Two differences between lists and arrays: \n",
    "    - Operations on arrays are made on each element, while operations on lists are made on the entire list. \n",
    "    - Arrays can hold only one type of value.\n",
    "3. What is a dictionary?\n",
    "\n",
    "   A dictionary in Python is a mutable, unordered collection of key-value pairs."
   ]
  },
  {
   "cell_type": "markdown",
   "id": "c8247333-ec5b-4a28-b32a-a913b2bec8fc",
   "metadata": {},
   "source": [
    "# Indexing "
   ]
  },
  {
   "cell_type": "code",
   "execution_count": 1,
   "id": "126eead8-81eb-492a-b88d-060be5797575",
   "metadata": {},
   "outputs": [
    {
     "name": "stdout",
     "output_type": "stream",
     "text": [
      "a1\n",
      "c3\n",
      "e5\n",
      "g7\n",
      "i9\n"
     ]
    }
   ],
   "source": [
    "py_list = [\"a1\", \"b2\", \"c3\", \"d4\", \"e5\", \"f6\", \"g7\", \"h8\", \"i9\", \"j10\"]\n",
    "for element in py_list:\n",
    "    if int(element[-1]) % 2 != 0:\n",
    "        print(element)"
   ]
  },
  {
   "cell_type": "markdown",
   "id": "ed40ea71-eb42-41c7-98b7-a1226d2e5866",
   "metadata": {},
   "source": [
    "# Indexing agian "
   ]
  },
  {
   "cell_type": "code",
   "execution_count": 2,
   "id": "8363bbe5-a82d-4394-a698-371ee5bd5d62",
   "metadata": {},
   "outputs": [
    {
     "name": "stdout",
     "output_type": "stream",
     "text": [
      "Boron Boron\n"
     ]
    }
   ],
   "source": [
    "elements = ['Hydrogen',\n",
    "            'Helium', 'Lithium',\n",
    "            'Beryllium', 'Boron', 'Carbon',\n",
    "            'Nitrogen', 'Oxygen',\n",
    "            'Fluorine',\n",
    "            'Neon']\n",
    "forward4=elements[4]\n",
    "reverse4=elements[-4]\n",
    "idk=elements[4-len(elements)]\n",
    "print(idk, forward4)"
   ]
  },
  {
   "cell_type": "markdown",
   "id": "04c9336c-1ed8-46b2-b725-0adddddf4122",
   "metadata": {},
   "source": [
    "# How many ones "
   ]
  },
  {
   "cell_type": "code",
   "execution_count": 8,
   "id": "2af85dc8-b2fc-4634-81c8-79a38429be92",
   "metadata": {},
   "outputs": [
    {
     "data": {
      "text/plain": [
       "9"
      ]
     },
     "execution_count": 8,
     "metadata": {},
     "output_type": "execute_result"
    }
   ],
   "source": [
    "numbers=[45, 60, 1, 30, 96, 1, 96, 57, 16, 1,\n",
    "        99, 62, 86, 43, 42, 60, 59, 1, 1, 35,\n",
    "        83, 47, 34, 28, 68, 23, 22, 92, 1, 79,\n",
    "        1, 29, 94, 72, 46, 47, 1, 74, 32, 20,\n",
    "        8, 37, 35, 1, 89, 29, 86, 19, 43, 61]                  \n",
    "import numpy as np\n",
    "array=np.array (numbers)\n",
    "lol= array == 1\n",
    "lol.sum()"
   ]
  },
  {
   "cell_type": "code",
   "execution_count": null,
   "id": "ee923e95-1eb5-4d0d-9418-2f7f89512a94",
   "metadata": {},
   "outputs": [],
   "source": []
  }
 ],
 "metadata": {
  "kernelspec": {
   "display_name": "Python 3 (ipykernel)",
   "language": "python",
   "name": "python3"
  },
  "language_info": {
   "codemirror_mode": {
    "name": "ipython",
    "version": 3
   },
   "file_extension": ".py",
   "mimetype": "text/x-python",
   "name": "python",
   "nbconvert_exporter": "python",
   "pygments_lexer": "ipython3",
   "version": "3.11.5"
  },
  "toc": {
   "base_numbering": 1,
   "nav_menu": {},
   "number_sections": true,
   "sideBar": true,
   "skip_h1_title": false,
   "title_cell": "Table of Contents",
   "title_sidebar": "Contents",
   "toc_cell": false,
   "toc_position": {},
   "toc_section_display": true,
   "toc_window_display": false
  },
  "vscode": {
   "interpreter": {
    "hash": "31f2aee4e71d21fbe5cf8b01ff0e069b9275f58929596ceb00d14d90e3e16cd6"
   }
  }
 },
 "nbformat": 4,
 "nbformat_minor": 5
}
