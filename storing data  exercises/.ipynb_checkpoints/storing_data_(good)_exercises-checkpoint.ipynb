{
 "cells": [
  {
   "attachments": {},
   "cell_type": "markdown",
   "id": "123456",
   "metadata": {},
   "source": [
    "<div style=\"text-align:left;font-size:2em\"><span style=\"font-weight:bolder;font-size:1.25em\">SP2273 | Learning Portfolio</span><br><br><span style=\"font-weight:bold;color:darkred\">Storing Data (Good) Exercises</span></div>"
   ]
  },
  {
   "cell_type": "markdown",
   "id": "046983ca-35ce-4591-8a23-b9306717b6d5",
   "metadata": {},
   "source": [
    "# Total recall"
   ]
  },
  {
   "cell_type": "markdown",
   "id": "d2f37211-1e82-4835-b797-08e3b838f392",
   "metadata": {},
   "source": [
    "| Term | Brief Description |\n",
    "| :--- | :--- |\n",
    "| Subsetting | Selecting |\n",
    "| Indexing | Selecting a single element |\n",
    "| Slicing | Selecting a range of elements |\n",
    "| Masking | Filtering |"
   ]
  },
  {
   "cell_type": "markdown",
   "id": "346b3380-16ec-4977-a9d4-54505217bf60",
   "metadata": {},
   "source": [
    "# Show the odd letters "
   ]
  },
  {
   "cell_type": "code",
   "execution_count": 11,
   "id": "7e96f523-8ea5-4f46-b4f6-df084ae4d401",
   "metadata": {},
   "outputs": [],
   "source": [
    "import numpy as np \n",
    "np_array_2d = np.array([[1, \"A\"], [3, \"C\"], [2, \"B\"], [4, \"D\"],\n",
    "                        [5, \"E\"], [7, \"G\"], [6, \"F\"], [8, \"H\"],\n",
    "                        [10, \"J\"], [9, \"I\"]])\n",
    "# Use masking to subset the letters that correspond to the odd numbers, i.e., get the results [A, C, E, G, I]\n",
    "numbers = np_array_2d[:, 0]\n",
    "int_array = numbers.astype(int)"
   ]
  },
  {
   "cell_type": "code",
   "execution_count": 12,
   "id": "7c82511d-6eac-4b33-9591-19f3b8f798d6",
   "metadata": {},
   "outputs": [
    {
     "data": {
      "text/plain": [
       "array([ 1,  3,  2,  4,  5,  7,  6,  8, 10,  9])"
      ]
     },
     "execution_count": 12,
     "metadata": {},
     "output_type": "execute_result"
    }
   ],
   "source": [
    "int_array = numbers.astype(int)\n",
    "int_array"
   ]
  },
  {
   "cell_type": "code",
   "execution_count": 15,
   "id": "d0c3b663-52f4-49c6-8ac9-04a51505994c",
   "metadata": {},
   "outputs": [
    {
     "data": {
      "text/plain": [
       "array([1, 1, 0, 0, 1, 1, 0, 0, 0, 1], dtype=int32)"
      ]
     },
     "execution_count": 15,
     "metadata": {},
     "output_type": "execute_result"
    }
   ],
   "source": [
    "remainder = int_array%2\n",
    "remainder"
   ]
  },
  {
   "cell_type": "code",
   "execution_count": 23,
   "id": "9d60aa37-bfc6-46ce-8c43-b5f14f64f021",
   "metadata": {},
   "outputs": [
    {
     "data": {
      "text/plain": [
       "array([ True,  True, False, False,  True,  True, False, False, False,\n",
       "        True])"
      ]
     },
     "execution_count": 23,
     "metadata": {},
     "output_type": "execute_result"
    }
   ],
   "source": [
    "masked = remainder==1\n",
    "masked "
   ]
  },
  {
   "cell_type": "code",
   "execution_count": 22,
   "id": "3aec9ec3-6155-4762-b0b5-8e604d06ed61",
   "metadata": {},
   "outputs": [
    {
     "data": {
      "text/plain": [
       "array(['A', 'C', 'E', 'G', 'I'], dtype='<U11')"
      ]
     },
     "execution_count": 22,
     "metadata": {},
     "output_type": "execute_result"
    }
   ],
   "source": [
    "result = np_array_2d[masked, 1] # I really don't understand this one completely. (I can't grasp how this works)\n",
    "result  "
   ]
  },
  {
   "cell_type": "code",
   "execution_count": null,
   "id": "ae67db1b-75f0-4583-bc90-f70a1f187f17",
   "metadata": {},
   "outputs": [],
   "source": []
  }
 ],
 "metadata": {
  "kernelspec": {
   "display_name": "Python 3 (ipykernel)",
   "language": "python",
   "name": "python3"
  },
  "language_info": {
   "codemirror_mode": {
    "name": "ipython",
    "version": 3
   },
   "file_extension": ".py",
   "mimetype": "text/x-python",
   "name": "python",
   "nbconvert_exporter": "python",
   "pygments_lexer": "ipython3",
   "version": "3.11.5"
  },
  "toc": {
   "base_numbering": 1,
   "nav_menu": {},
   "number_sections": true,
   "sideBar": true,
   "skip_h1_title": false,
   "title_cell": "Table of Contents",
   "title_sidebar": "Contents",
   "toc_cell": false,
   "toc_position": {},
   "toc_section_display": true,
   "toc_window_display": false
  },
  "vscode": {
   "interpreter": {
    "hash": "31f2aee4e71d21fbe5cf8b01ff0e069b9275f58929596ceb00d14d90e3e16cd6"
   }
  }
 },
 "nbformat": 4,
 "nbformat_minor": 5
}
