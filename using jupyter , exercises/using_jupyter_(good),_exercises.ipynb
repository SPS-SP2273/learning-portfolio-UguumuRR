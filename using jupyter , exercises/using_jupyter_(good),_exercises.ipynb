{
 "cells": [
  {
   "cell_type": "markdown",
   "id": "fdcd1fba-fd86-40b1-999e-15115d7f860e",
   "metadata": {},
   "source": [
    "<div style=\"text-align:left;font-size:2em\"><span style=\"font-weight:bolder;font-size:1.25em\">SP2273 | Learning Portfolio</span><br><br><span style=\"font-weight:bold;color:darkred\">Using Jupyter (Good), Exercises</span></div>"
   ]
  },
  {
   "cell_type": "markdown",
   "id": "dba1e215-f5c4-44f2-8d70-e76363821deb",
   "metadata": {},
   "source": [
    "## Exercise 1 (Learning to Interrupt)"
   ]
  },
  {
   "cell_type": "code",
   "execution_count": null,
   "id": "40cfb51a-ebf3-40d5-b611-dbeed5e50e4c",
   "metadata": {},
   "outputs": [],
   "source": [
    "while True: \n",
    "    print('*', end='')"
   ]
  },
  {
   "cell_type": "markdown",
   "id": "a0136e2c-5a32-4e9a-b815-b21c8d0a087e",
   "metadata": {},
   "source": [
    "## Exercise 2 (Resetting and Restarting the Kernal)"
   ]
  },
  {
   "cell_type": "code",
   "execution_count": null,
   "id": "6468e855-68cf-487b-896b-baa48f48a69a",
   "metadata": {},
   "outputs": [],
   "source": [
    "print='PRINT'"
   ]
  },
  {
   "cell_type": "code",
   "execution_count": null,
   "id": "77b6b583-fbdd-40b2-8c25-b101594125b1",
   "metadata": {},
   "outputs": [],
   "source": [
    "print('Hello World')"
   ]
  },
  {
   "cell_type": "markdown",
   "id": "688cb75e-fcd3-4e37-bfed-399b3a2daf07",
   "metadata": {},
   "source": [
    "So the thing is I don't really understand what is expected of me in this exercise. I can't tell whether I should fix the first code by adding a condition or mentioning that you cannot assign a variable with certain words aka reserved words in Python. "
   ]
  },
  {
   "cell_type": "code",
   "execution_count": null,
   "id": "5cbb62f5-e026-4b40-a7ce-6ee2a74bc98f",
   "metadata": {},
   "outputs": [],
   "source": []
  }
 ],
 "metadata": {
  "kernelspec": {
   "display_name": "Python 3 (ipykernel)",
   "language": "python",
   "name": "python3"
  },
  "language_info": {
   "codemirror_mode": {
    "name": "ipython",
    "version": 3
   },
   "file_extension": ".py",
   "mimetype": "text/x-python",
   "name": "python",
   "nbconvert_exporter": "python",
   "pygments_lexer": "ipython3",
   "version": "3.11.5"
  }
 },
 "nbformat": 4,
 "nbformat_minor": 5
}
