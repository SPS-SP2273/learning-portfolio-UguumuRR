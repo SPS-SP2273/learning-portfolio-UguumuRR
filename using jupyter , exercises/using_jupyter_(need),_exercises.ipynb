{
 "cells": [
  {
   "attachments": {},
   "cell_type": "markdown",
   "id": "123456",
   "metadata": {},
   "source": [
    "<div style=\"text-align:left;font-size:2em\"><span style=\"font-weight:bolder;font-size:1.25em\">SP2273 | Learning Portfolio</span><br><br><span style=\"font-weight:bold;color:darkred\">Using Jupyter (Need), Exercises</span></div>"
   ]
  },
  {
   "attachments": {},
   "cell_type": "markdown",
   "id": "5ab6b7f4",
   "metadata": {},
   "source": [
    "## Quadratic Equations"
   ]
  },
  {
   "attachments": {},
   "cell_type": "markdown",
   "id": "12e78e02",
   "metadata": {},
   "source": [
    "### Introduction"
   ]
  },
  {
   "cell_type": "markdown",
   "id": "1c06d0ae-2aab-4a83-8648-50d296e6416f",
   "metadata": {},
   "source": [
    "![](https://upload.wikimedia.org/wikipedia/commons/thumb/f/f8/Polynomialdeg2.svg/300px-Polynomialdeg2.svg.png)"
   ]
  },
  {
   "cell_type": "markdown",
   "id": "41ab71b3-5e7b-4c42-ad2c-69c89a834868",
   "metadata": {},
   "source": [
    "(_Image from the [Wikipedia page on Quadratic equations](https://upload.wikimedia.org/wikipedia/commons/thumb/f/f8/Polynomialdeg2.svg/300px-Polynomialdeg2.svg.png)_)"
   ]
  },
  {
   "cell_type": "markdown",
   "id": "441ef916-98e8-4e98-8583-0920803c5bf9",
   "metadata": {},
   "source": [
    "The general form of a quadratic equation is: \n",
    "$$\n",
    "ax^2+bx+c=0\n",
    "$$"
   ]
  },
  {
   "cell_type": "markdown",
   "id": "b069a653-e72b-4624-a9d5-5128c1556b35",
   "metadata": {},
   "source": [
    "## Solutions"
   ]
  },
  {
   "attachments": {},
   "cell_type": "markdown",
   "id": "dea119c1",
   "metadata": {},
   "source": [
    "### Solutions"
   ]
  },
  {
   "cell_type": "markdown",
   "id": "39f2738e-4fe4-4e56-9393-15ffac67e803",
   "metadata": {},
   "source": [
    "Provided $a \\ne 0$, we can use an elementary algebraic method called [completing the square](https://en.wikipedia.org/wiki/Completing_the_square) to show that a quadratic equation has the following solution: \n",
    "$$\n",
    "x = \\dfrac{-b \\pm \\sqrt{b^2-4ac}}{2a}\n",
    "$$\n"
   ]
  },
  {
   "attachments": {},
   "cell_type": "markdown",
   "id": "e7930f28",
   "metadata": {},
   "source": [
    "### Discriminant"
   ]
  },
  {
   "cell_type": "markdown",
   "id": "5c95548c-d9cf-4862-9a2b-c80cca981c3a",
   "metadata": {},
   "source": [
    "The quantity $∆=b^2-4ac$ is called the __discriminant__ of the equation and decides the nature of its solutions. The table below shows the various possibilities. \n"
   ]
  },
  {
   "cell_type": "markdown",
   "id": "bcb4dd2a-4b90-4bc7-9bf2-b233f7a124a5",
   "metadata": {},
   "source": [
    "\n",
    "| **Discriminant**  |  **Roots** |\n",
    "| :---          | :--- |\n",
    "| $∆=b^2-4ac=0$ | A single solution of $-b/(2a)$ |\n",
    "| $∆=b^2-4ac>0$ | Two distinct solutions |\n",
    "| $∆=b^2-4ac<0$ | No real solutions;both are complex. |"
   ]
  },
  {
   "cell_type": "markdown",
   "id": "4f906347-fdf9-499b-a1db-7b365f44f9f3",
   "metadata": {},
   "source": [
    "## Exercise 2\n"
   ]
  },
  {
   "cell_type": "markdown",
   "id": "9fbd4bae-29fe-4c25-8efe-13dbe08fbdcb",
   "metadata": {},
   "source": [
    "1. What is a Git **repository**?\n",
    "   A Git **repository** is a cloud-like collaborative storage where files \n",
    "   and their revision history are recorded and stored. Everyone has their \n",
    "   own copy that they can later merge.\n",
    "3. Git keeps track of __changes__ in the files in our repository.\n",
    "4. What is a __commit__?\n",
    "   A **commit** shows a version of a project at a certain given time.\n",
    "5. What is a __push__?\n",
    "   A **push** passes commits from a local repository to the remote one. \n",
    "   It basically merges your work with the team.\n",
    "6. What is a __pull__?\n",
    "   A **pull** is almost the opposite of a push. It transfers content from \n",
    "   the remote repository to the local one. \n",
    "7. What is the difference between **GitHub** and **GitHub Desktop**?\n",
    "   While **GitHub** is a web-based platform, **GitHub Desktop** is an \n",
    "   open-source application simpler than GitHub. However, they are both \n",
    "   collaborative spaces that use Git. "
   ]
  },
  {
   "cell_type": "code",
   "execution_count": null,
   "id": "8dfb85c1-49d4-4f11-b454-c4b3e49a57a5",
   "metadata": {},
   "outputs": [],
   "source": []
  }
 ],
 "metadata": {
  "kernelspec": {
   "display_name": "Python 3 (ipykernel)",
   "language": "python",
   "name": "python3"
  },
  "language_info": {
   "codemirror_mode": {
    "name": "ipython",
    "version": 3
   },
   "file_extension": ".py",
   "mimetype": "text/x-python",
   "name": "python",
   "nbconvert_exporter": "python",
   "pygments_lexer": "ipython3",
   "version": "3.11.5"
  },
  "toc": {
   "base_numbering": 1,
   "nav_menu": {},
   "number_sections": true,
   "sideBar": true,
   "skip_h1_title": false,
   "title_cell": "Table of Contents",
   "title_sidebar": "Contents",
   "toc_cell": false,
   "toc_position": {},
   "toc_section_display": true,
   "toc_window_display": false
  },
  "vscode": {
   "interpreter": {
    "hash": "31f2aee4e71d21fbe5cf8b01ff0e069b9275f58929596ceb00d14d90e3e16cd6"
   }
  }
 },
 "nbformat": 4,
 "nbformat_minor": 5
}
